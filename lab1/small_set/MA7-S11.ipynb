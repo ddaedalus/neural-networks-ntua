{
  "nbformat": 4,
  "nbformat_minor": 0,
  "metadata": {
    "colab": {
      "name": "MA7-S11.ipynb",
      "provenance": [],
      "collapsed_sections": [],
      "toc_visible": true
    },
    "kernelspec": {
      "name": "python3",
      "display_name": "Python 3"
    }
  },
  "cells": [
    {
      "cell_type": "markdown",
      "metadata": {
        "id": "0PPpg8-bnO11",
        "colab_type": "text"
      },
      "source": [
        "### (Α) Στοιχεία Ομάδος"
      ]
    },
    {
      "cell_type": "markdown",
      "metadata": {
        "id": "_MljtUv1nbAI",
        "colab_type": "text"
      },
      "source": [
        "Η παρακάτω μελέτη διεξήχθη από την ομάδα ΜΑ7:  \n",
        "**ΚΟΝΤΟΓΙΑΝΝΗΣ ΑΝΔΡΕΑΣ (03115187)  \n",
        "ΠΕΠΠΑΣ ΠΑΝΑΓΙΩΤΗΣ (03115146)  \n",
        "ΣΠΥΡΟΥ ΝΙΚΟΛΑΟΣ (03116201)**"
      ]
    },
    {
      "cell_type": "markdown",
      "metadata": {
        "id": "l4yfVuB7oUC6",
        "colab_type": "text"
      },
      "source": [
        "### (Β) Εισαγωγή του dataset"
      ]
    },
    {
      "cell_type": "markdown",
      "metadata": {
        "id": "HIGgAmHdoZVH",
        "colab_type": "text"
      },
      "source": [
        "Θα μελετήσουμε το S11 dataset, δηλαδή το Quality Assessment of Digital Colposcopies Data Set από το UCI Machine Learning Repository, που περιγράφει την αξιολόγηση της ποιότητας των ψηφιακών κολποσκοπιών από επαγγελματίες ιατρούς του νοσοκομείου Hospital Universitario de Caracas. Πιο αναλυτικά, οι κρίσεις των ιατρών χωρίζονται σε δύο κατηγορίες, bad και good, που προέκυψαν από την κοινή συναίνεση (consensus) έξι ιατρών του νοσοκομείου. Έτσι, το dataset μας περιέχει labeled samples, όπου το καθένα ανηκεί σε μία από τις δυο παραπάνω κατηγορίες, bad(0) ή good(1). Έτσι, η μελέτη μας ανάγεται σε **binary classification problem**.  Παρακάτω, θα δούμε πιο αναλυτικά τι περιέχει το dataset.  \n",
        "Για την διευκόλυνση του αναγνώστη, έχει γίνει κατηγοριοποίηση του περιεχομένου σε sessions, που μπορεί να δει ανοίγοντας το \"Table of contents\"."
      ]
    },
    {
      "cell_type": "code",
      "metadata": {
        "id": "WkhpQcTTZ67G",
        "colab_type": "code",
        "outputId": "88a24144-374e-4f26-95d6-aaa0b232bc32",
        "colab": {
          "base_uri": "https://localhost:8080/",
          "height": 102
        }
      },
      "source": [
        "!pip install sklearn"
      ],
      "execution_count": 0,
      "outputs": [
        {
          "output_type": "stream",
          "text": [
            "Requirement already satisfied: sklearn in /usr/local/lib/python3.6/dist-packages (0.0)\n",
            "Requirement already satisfied: scikit-learn in /usr/local/lib/python3.6/dist-packages (from sklearn) (0.21.3)\n",
            "Requirement already satisfied: joblib>=0.11 in /usr/local/lib/python3.6/dist-packages (from scikit-learn->sklearn) (0.14.1)\n",
            "Requirement already satisfied: scipy>=0.17.0 in /usr/local/lib/python3.6/dist-packages (from scikit-learn->sklearn) (1.3.3)\n",
            "Requirement already satisfied: numpy>=1.11.0 in /usr/local/lib/python3.6/dist-packages (from scikit-learn->sklearn) (1.17.4)\n"
          ],
          "name": "stdout"
        }
      ]
    },
    {
      "cell_type": "markdown",
      "metadata": {
        "id": "_g9OKo6odIrj",
        "colab_type": "text"
      },
      "source": [
        "Αρχικά, διαβάζουμε το .csv αρχείο του dataset και διαπιστώνουμε πως περιέχει 287 samples, με 62 features το καθένα, κανονική αρίθμηση γραμμών και ετικέτες στις στήλες. Ακόμα, βλέπουμε πως δεν περιέχει NaN απουσιάζουσες τιμές ούτε μη διατεταγμένα χαρακτηριστικά, κάτι που διευκόλυνε αρκετά την προεπεξεργασία των δεδομένων. Τέλος, μετρήσαμε την ισορροπία των δεδομένων, δηλ. τις αναλογίες των δυο κατηγοριών, και πήραμε 25%-75%. Όπως καταλαβαίνουμε, η παραπάνω αναλογία μας οδηγεί στο συμπέρασμα ότι πρόκειται για ένα καθαρά imbalanced dataset και έτσι, όπως θα δούμε παρακάτω, θα χρειαστεί να χρησιμοποιήσουμε μεθόδους oversampling για την εξισορρόπησή του."
      ]
    },
    {
      "cell_type": "code",
      "metadata": {
        "id": "drSX2cJTKgNi",
        "colab_type": "code",
        "outputId": "229cd640-0605-43e9-bf2f-2d5a911d2f94",
        "colab": {
          "base_uri": "https://localhost:8080/",
          "height": 170
        }
      },
      "source": [
        "import time\n",
        "import pandas as pd\n",
        "import numpy as np\n",
        "\n",
        "df1 = pd.read_csv(\"green.csv\", header=None)\n",
        "#print(df1.shape)\n",
        "\n",
        "df2 = pd.read_csv(\"hinselmann.csv\", header=None)\n",
        "#print(df2.shape)\n",
        "\n",
        "df3 = pd.read_csv(\"schiller.csv\", header=None)\n",
        "#print(df3.shape)\n",
        "\n",
        "df1 = df1.iloc[1:]\n",
        "df2 = df2.iloc[1:]\n",
        "df3 = df3.iloc[1:]\n",
        "df = pd.concat([df1, df2, df3])\n",
        "# Check for NaN\n",
        "print(\"#NaN in dataset = \" + str(np.sum(np.sum(df.isna()))))\n",
        "\n",
        "data = np.array(df)\n",
        "for i in range(data.shape[0]):\n",
        "  for j in range(data.shape[1]):\n",
        "    data[i][j] = float(data[i][j])\n",
        "\n",
        "# Features\n",
        "X = data[:, 0:62]\n",
        "print(\"X shape: \" + str(X.shape))\n",
        "# Targets: 62-68 -- 6 experts and the consensus\n",
        "Yall = data[:, 62:]\n",
        "# Target -- attribute: consensus (68)\n",
        "y = data[:, 68]\n",
        "y = y.astype(int)\n",
        "\n",
        "print(\"y shape (consensus target): \" + str(y.shape))\n",
        "\n",
        "n_samples = X.shape[0]\n",
        "n_features = X.shape[1]\n",
        "n_labels = len(y)\n",
        "\n",
        "# Ισορροπια dataset (binary classification)\n",
        "count_zeros = np.sum([y==0])\n",
        "count_ones = np.sum([y==1])\n",
        "print(\"\\nDataset Balance\")\n",
        "print(\"#labeled zeros: \" + str(count_zeros))\n",
        "print(\"#labeled ones: \" + str(count_ones))\n",
        "print(\"Zeros percent: \" + str( 100 * count_zeros / (count_zeros + count_ones) ) + \" %\")\n",
        "print(\"Ones percent: \" + str( 100 * count_ones / (count_zeros + count_ones) ) + \" %\")"
      ],
      "execution_count": 0,
      "outputs": [
        {
          "output_type": "stream",
          "text": [
            "#NaN in dataset = 0\n",
            "X shape: (287, 62)\n",
            "y shape (consensus target): (287,)\n",
            "\n",
            "Dataset Balance\n",
            "#labeled zeros: 71\n",
            "#labeled ones: 216\n",
            "Zeros percent: 24.738675958188153 %\n",
            "Ones percent: 75.26132404181185 %\n"
          ],
          "name": "stdout"
        }
      ]
    },
    {
      "cell_type": "markdown",
      "metadata": {
        "id": "MchfNTKjZFB-",
        "colab_type": "text"
      },
      "source": [
        "Στο σημείο αυτό, αφού έχουμε λάβει σε καλή μορφή το αρχικό dataset, πρέπει να το διαχωρίσουμε σε train και test, με αντίστοιχες αναλογίες 80%-20%. Ωστόσο, αξίζει να σημειωθεί ότι δεν κάνουμε shuffle κατά την διάρκεια του σπασίματος, καθώς οι αναλογίες τόσο στο train όσο και στο test είναι ίδιες, δηλ 25%-75%. Αρκεί να κάνουμε ένα προσεκτικό oversampling στην συνέχεια και να αποφύγουμε την περίπτωση του overfitting."
      ]
    },
    {
      "cell_type": "code",
      "metadata": {
        "id": "OHc9EMKXZmWI",
        "colab_type": "code",
        "outputId": "01860dc1-c9fb-4e40-cfd1-5f75360c0980",
        "colab": {
          "base_uri": "https://localhost:8080/",
          "height": 204
        }
      },
      "source": [
        "from sklearn.model_selection import train_test_split\n",
        "\n",
        "# Split Dataset: 20% Testset\n",
        "X_train, X_test, y_train, y_test = train_test_split(X, y, test_size=0.20, shuffle=False)\n",
        "\n",
        "# Training set Balance (binary classification)\n",
        "count_zeros = np.sum([y_train==0])\n",
        "count_ones = np.sum([y_train==1])\n",
        "print(\"Trainset Balance\")\n",
        "print(\"#labeled zeros: \" + str(count_zeros))\n",
        "print(\"#labeled ones: \" + str(count_ones))\n",
        "print(\"Zeros percent: \" + str( 100 * count_zeros / (count_zeros + count_ones) ) + \" %\")\n",
        "print(\"Ones percent: \" + str( 100 * count_ones / (count_zeros + count_ones) ) + \" %\")\n",
        "print()\n",
        "\n",
        "# Test set Balance (binary classification)\n",
        "count_zeros = np.sum([y_test==0])\n",
        "count_ones = np.sum([y_test==1])\n",
        "print(\"Testset Balance\")\n",
        "print(\"#labeled zeros: \" + str(count_zeros))\n",
        "print(\"#labeled ones: \" + str(count_ones))\n",
        "print(\"Zeros percent: \" + str( 100 * count_zeros / (count_zeros + count_ones) ) + \" %\")\n",
        "print(\"Ones percent: \" + str( 100 * count_ones / (count_zeros + count_ones) ) + \" %\")"
      ],
      "execution_count": 0,
      "outputs": [
        {
          "output_type": "stream",
          "text": [
            "Trainset Balance\n",
            "#labeled zeros: 56\n",
            "#labeled ones: 173\n",
            "Zeros percent: 24.45414847161572 %\n",
            "Ones percent: 75.54585152838428 %\n",
            "\n",
            "Testset Balance\n",
            "#labeled zeros: 15\n",
            "#labeled ones: 43\n",
            "Zeros percent: 25.862068965517242 %\n",
            "Ones percent: 74.13793103448276 %\n"
          ],
          "name": "stdout"
        }
      ]
    },
    {
      "cell_type": "code",
      "metadata": {
        "id": "uqLTcHt5Wv1B",
        "colab_type": "code",
        "outputId": "59630296-66fe-433d-be13-853e725e4617",
        "colab": {
          "base_uri": "https://localhost:8080/",
          "height": 51
        }
      },
      "source": [
        "print(\"X_train shape: \" + str(X_train.shape))\n",
        "print(\"X_test shape: \" + str(X_test.shape))"
      ],
      "execution_count": 0,
      "outputs": [
        {
          "output_type": "stream",
          "text": [
            "X_train shape: (229, 62)\n",
            "X_test shape: (58, 62)\n"
          ],
          "name": "stdout"
        }
      ]
    },
    {
      "cell_type": "markdown",
      "metadata": {
        "id": "aFkgXRd9bPQe",
        "colab_type": "text"
      },
      "source": [
        "### (Γ) Baseline Classification"
      ]
    },
    {
      "cell_type": "markdown",
      "metadata": {
        "id": "ewAnOS1FyoSG",
        "colab_type": "text"
      },
      "source": [
        "#### **Dummy Classifier**"
      ]
    },
    {
      "cell_type": "markdown",
      "metadata": {
        "id": "ODeixj0XcVtt",
        "colab_type": "text"
      },
      "source": [
        "Η κλάση DummyClassifier δέχεται μια παράμετρο που καθορίζει την τακτική της ταξινόμησης ως εξής:\n",
        "\n",
        "“uniform”: προβλέπει τυχαία και ομοιόμορφα.   \n",
        "“constant”: προβλέπει πάντα μία κατηγορία που τη διαλέγει ο χρήστης.  \n",
        "“most_frequent”: προβλέπει πάντα την πιο συχνή κατηγορία στο training set.  \n",
        "“stratified”: κάνει προβλέψεις διατηρώντας την κατανομή των κλάσεων στο training set."
      ]
    },
    {
      "cell_type": "code",
      "metadata": {
        "id": "jtU7GewndEPW",
        "colab_type": "code",
        "outputId": "71e703be-5a43-4bed-bd34-063d0a521ff5",
        "colab": {
          "base_uri": "https://localhost:8080/",
          "height": 170
        }
      },
      "source": [
        "from sklearn.dummy import DummyClassifier\n",
        "from sklearn.metrics import accuracy_score\n",
        "\n",
        "# Dummy Classifier\n",
        "dc_uniform = DummyClassifier(strategy=\"uniform\")\n",
        "dc_constant_0 = DummyClassifier(strategy=\"constant\", constant=0)\n",
        "dc_constant_1 = DummyClassifier(strategy=\"constant\", constant=1)\n",
        "dc_most_frequent = DummyClassifier(strategy=\"most_frequent\")\n",
        "dc_stratified = DummyClassifier(strategy=\"stratified\") \n",
        "#\n",
        "# Training and accuracy Scoring\n",
        "accuracy = {}\n",
        "dc_uniform.fit(X_train, y_train)\n",
        "accuracy['uniform (random) \\t'] = dc_uniform.score(X_test, y_test)\n",
        "model = dc_constant_0.fit(X_train, y_train)\n",
        "accuracy['constant 0 \\t\\t'] = dc_constant_0.score(X_test, y_test)\n",
        "model = dc_constant_1.fit(X_train, y_train)\n",
        "accuracy['constant 1 \\t\\t'] = dc_constant_1.score(X_test, y_test)\n",
        "model = dc_most_frequent.fit(X_train, y_train)\n",
        "accuracy['most frequent label \\t'] = dc_most_frequent.score(X_test, y_test)\n",
        "model = dc_stratified.fit(X_train, y_train)\n",
        "accuracy['stratified \\t\\t'] = dc_stratified.score(X_test, y_test)\n",
        " \n",
        "print(\"Classification Accuracy on the given Dataset (20% test set)\\n\")\n",
        "sorted_accuracy = [(k, accuracy[k]) for k in sorted(accuracy, key=accuracy.get, reverse=True)]\n",
        "print(\"Dummy Classifiers Scores\")\n",
        "for clf, score in sorted_accuracy:\n",
        "  print(str(clf) + \": \", score)\n",
        "print()\n",
        "\n",
        "y_pred1 = dc_uniform.predict(X_test)\n",
        "y_pred2 = dc_constant_0.predict(X_test)\n",
        "y_pred3 = dc_constant_1.predict(X_test)\n",
        "y_pred4 = dc_most_frequent.predict(X_test)\n",
        "y_pred5 = dc_stratified.predict(X_test)\n",
        "label_names = [\"bad\", \"good\"]"
      ],
      "execution_count": 0,
      "outputs": [
        {
          "output_type": "stream",
          "text": [
            "Classification Accuracy on the given Dataset (20% test set)\n",
            "\n",
            "Dummy Classifiers Scores\n",
            "constant 1 \t\t:  0.7413793103448276\n",
            "most frequent label \t:  0.7413793103448276\n",
            "uniform (random) \t:  0.6551724137931034\n",
            "stratified \t\t:  0.603448275862069\n",
            "constant 0 \t\t:  0.25862068965517243\n",
            "\n"
          ],
          "name": "stdout"
        }
      ]
    },
    {
      "cell_type": "markdown",
      "metadata": {
        "id": "g5tbnLls0Q6Q",
        "colab_type": "text"
      },
      "source": [
        "Όπως βλέπουμε ο constant-1 και ο most frequent label δίνουν αποτέλεσμα πάντα 1, ενώ ο constant-0 πάντα 0. Οι uniform και stratified έτυχε να δώσουν ίδιο score."
      ]
    },
    {
      "cell_type": "markdown",
      "metadata": {
        "id": "p3KZ_s8B0sOZ",
        "colab_type": "text"
      },
      "source": [
        "Παρακάτω, δημιουργήσαμε μια συνάρτηση για να τυπώνει το confusion matrix, τα f1-micro, f1-macro, καθώς και το classification report για τους ταξινομητές ορίσματα της."
      ]
    },
    {
      "cell_type": "code",
      "metadata": {
        "id": "XtdscapIn9yA",
        "colab_type": "code",
        "colab": {}
      },
      "source": [
        "from sklearn.metrics import confusion_matrix\n",
        "from sklearn.metrics import precision_recall_fscore_support\n",
        "from sklearn.metrics import classification_report\n",
        "\n",
        "def score(y_pred, y_test, name, label_names):\n",
        "  cnf_matrix = confusion_matrix(y_test, y_pred)\n",
        "  print(\"Confusion Matrix: \" + name)\n",
        "  df_confusion_matrix = pd.DataFrame(cnf_matrix, index=[\"bad\", \"good\"], columns=[\"Predicted bad\", \"Predicted good\"]) \n",
        "  print(df_confusion_matrix)\n",
        "  print()\n",
        "  # εκτυπώνουμε τa precision, recall και F1 λαμβάνοντας υπόψη συνολικά (αθροίζοντας εκτός κλάσεων) τα δείγματα (average = micro).\n",
        "  print(\"F1 micro\")\n",
        "  f1_micro = precision_recall_fscore_support(y_test, y_pred, average='micro')\n",
        "  print(f1_micro, \"\\n\")\n",
        "  # εκτυπώνουμε το μέσο όρο των precision, recall και F1 θεωρόντας ότι οι κλάσεις έχουν το ίδιο βάρος (average = macro)\n",
        "  print(\"F1 macro\")\n",
        "  f1_macro = precision_recall_fscore_support(y_test, y_pred, average='macro')\n",
        "  print(f1_macro, \"\\n\")\n",
        "  print()\n",
        "  print(\"Classification Report of \" + name)\n",
        "  print()\n",
        "  print(classification_report(y_test, y_pred, target_names=label_names))\n",
        "\n",
        "  # Return accuracy F1 scores\n",
        "  return (f1_micro[2], f1_macro[2])\n"
      ],
      "execution_count": 0,
      "outputs": []
    },
    {
      "cell_type": "code",
      "metadata": {
        "id": "yD276zmtn__D",
        "colab_type": "code",
        "outputId": "b581c3f2-15bd-4a91-a068-e3055cb9e3de",
        "colab": {
          "base_uri": "https://localhost:8080/",
          "height": 408
        }
      },
      "source": [
        "classifiers_f1_micro = []\n",
        "classifiers_f1_macro = []\n",
        "f1_scores = score(y_pred1, y_test, \"Dummy Classifier Uniform\", label_names)\n",
        "classifiers_f1_micro.append(f1_scores[0])\n",
        "classifiers_f1_macro.append(f1_scores[1])"
      ],
      "execution_count": 0,
      "outputs": [
        {
          "output_type": "stream",
          "text": [
            "Confusion Matrix: Dummy Classifier Uniform\n",
            "      Predicted bad  Predicted good\n",
            "bad              12               3\n",
            "good             21              22\n",
            "\n",
            "F1 micro\n",
            "(0.5862068965517241, 0.5862068965517241, 0.5862068965517241, None) \n",
            "\n",
            "F1 macro\n",
            "(0.6218181818181818, 0.6558139534883721, 0.573529411764706, None) \n",
            "\n",
            "\n",
            "Classification Report of Dummy Classifier Uniform\n",
            "\n",
            "              precision    recall  f1-score   support\n",
            "\n",
            "         bad       0.36      0.80      0.50        15\n",
            "        good       0.88      0.51      0.65        43\n",
            "\n",
            "    accuracy                           0.59        58\n",
            "   macro avg       0.62      0.66      0.57        58\n",
            "weighted avg       0.75      0.59      0.61        58\n",
            "\n"
          ],
          "name": "stdout"
        }
      ]
    },
    {
      "cell_type": "markdown",
      "metadata": {
        "id": "qXo_54xDPuco",
        "colab_type": "text"
      },
      "source": [
        "Προφανώς, τα παραπάνω αποτελέσματα είναι βγαλμένα με τυχαία τρόπο."
      ]
    },
    {
      "cell_type": "code",
      "metadata": {
        "id": "vUF7DkgjoVow",
        "colab_type": "code",
        "outputId": "18683bde-63c0-4fd3-cabf-c8c76d769111",
        "colab": {
          "base_uri": "https://localhost:8080/",
          "height": 462
        }
      },
      "source": [
        "f1_scores = score(y_pred2, y_test, \"Dummy Classifier Constant-0\", label_names)\n",
        "classifiers_f1_micro.append(f1_scores[0])\n",
        "classifiers_f1_macro.append(f1_scores[1])"
      ],
      "execution_count": 0,
      "outputs": [
        {
          "output_type": "stream",
          "text": [
            "Confusion Matrix: Dummy Classifier Constant-0\n",
            "      Predicted bad  Predicted good\n",
            "bad              15               0\n",
            "good             43               0\n",
            "\n",
            "F1 micro\n",
            "(0.25862068965517243, 0.25862068965517243, 0.25862068965517243, None) \n",
            "\n",
            "F1 macro\n",
            "(0.12931034482758622, 0.5, 0.20547945205479454, None) \n",
            "\n",
            "\n",
            "Classification Report of Dummy Classifier Constant-0\n",
            "\n",
            "              precision    recall  f1-score   support\n",
            "\n",
            "         bad       0.26      1.00      0.41        15\n",
            "        good       0.00      0.00      0.00        43\n",
            "\n",
            "    accuracy                           0.26        58\n",
            "   macro avg       0.13      0.50      0.21        58\n",
            "weighted avg       0.07      0.26      0.11        58\n",
            "\n"
          ],
          "name": "stdout"
        },
        {
          "output_type": "stream",
          "text": [
            "/usr/local/lib/python3.6/dist-packages/sklearn/metrics/classification.py:1437: UndefinedMetricWarning: Precision and F-score are ill-defined and being set to 0.0 in labels with no predicted samples.\n",
            "  'precision', 'predicted', average, warn_for)\n"
          ],
          "name": "stderr"
        }
      ]
    },
    {
      "cell_type": "code",
      "metadata": {
        "id": "Tog-feMloYog",
        "colab_type": "code",
        "outputId": "034935c1-f244-4747-a2f8-dbe6c9065fc0",
        "colab": {
          "base_uri": "https://localhost:8080/",
          "height": 462
        }
      },
      "source": [
        "f1_scores = score(y_pred3, y_test, \"Dummy Classifier Constant-1\", label_names)\n",
        "classifiers_f1_micro.append(f1_scores[0])\n",
        "classifiers_f1_macro.append(f1_scores[1])"
      ],
      "execution_count": 0,
      "outputs": [
        {
          "output_type": "stream",
          "text": [
            "Confusion Matrix: Dummy Classifier Constant-1\n",
            "      Predicted bad  Predicted good\n",
            "bad               0              15\n",
            "good              0              43\n",
            "\n",
            "F1 micro\n",
            "(0.7413793103448276, 0.7413793103448276, 0.7413793103448276, None) \n",
            "\n",
            "F1 macro\n",
            "(0.3706896551724138, 0.5, 0.42574257425742573, None) \n",
            "\n",
            "\n",
            "Classification Report of Dummy Classifier Constant-1\n",
            "\n",
            "              precision    recall  f1-score   support\n",
            "\n",
            "         bad       0.00      0.00      0.00        15\n",
            "        good       0.74      1.00      0.85        43\n",
            "\n",
            "    accuracy                           0.74        58\n",
            "   macro avg       0.37      0.50      0.43        58\n",
            "weighted avg       0.55      0.74      0.63        58\n",
            "\n"
          ],
          "name": "stdout"
        },
        {
          "output_type": "stream",
          "text": [
            "/usr/local/lib/python3.6/dist-packages/sklearn/metrics/classification.py:1437: UndefinedMetricWarning: Precision and F-score are ill-defined and being set to 0.0 in labels with no predicted samples.\n",
            "  'precision', 'predicted', average, warn_for)\n"
          ],
          "name": "stderr"
        }
      ]
    },
    {
      "cell_type": "markdown",
      "metadata": {
        "id": "FP1H0IpGPYtH",
        "colab_type": "text"
      },
      "source": [
        "Στους constant dummy το precision είναι πάντα ίσο με την ισορροπία του test, ενώ το recall είναι 1.00 για το label που ταυτίζεται με την constant σταθερά."
      ]
    },
    {
      "cell_type": "code",
      "metadata": {
        "id": "K_hoay4fobxm",
        "colab_type": "code",
        "outputId": "ad11c154-fc83-4007-e0e6-500b9fb2e15e",
        "colab": {
          "base_uri": "https://localhost:8080/",
          "height": 462
        }
      },
      "source": [
        "f1_scores = score(y_pred4, y_test, \"Dummy Classifier Most Frequent\", label_names)\n",
        "classifiers_f1_micro.append(f1_scores[0])\n",
        "classifiers_f1_macro.append(f1_scores[1])"
      ],
      "execution_count": 0,
      "outputs": [
        {
          "output_type": "stream",
          "text": [
            "Confusion Matrix: Dummy Classifier Most Frequent\n",
            "      Predicted bad  Predicted good\n",
            "bad               0              15\n",
            "good              0              43\n",
            "\n",
            "F1 micro\n",
            "(0.7413793103448276, 0.7413793103448276, 0.7413793103448276, None) \n",
            "\n",
            "F1 macro\n",
            "(0.3706896551724138, 0.5, 0.42574257425742573, None) \n",
            "\n",
            "\n",
            "Classification Report of Dummy Classifier Most Frequent\n",
            "\n",
            "              precision    recall  f1-score   support\n",
            "\n",
            "         bad       0.00      0.00      0.00        15\n",
            "        good       0.74      1.00      0.85        43\n",
            "\n",
            "    accuracy                           0.74        58\n",
            "   macro avg       0.37      0.50      0.43        58\n",
            "weighted avg       0.55      0.74      0.63        58\n",
            "\n"
          ],
          "name": "stdout"
        },
        {
          "output_type": "stream",
          "text": [
            "/usr/local/lib/python3.6/dist-packages/sklearn/metrics/classification.py:1437: UndefinedMetricWarning: Precision and F-score are ill-defined and being set to 0.0 in labels with no predicted samples.\n",
            "  'precision', 'predicted', average, warn_for)\n"
          ],
          "name": "stderr"
        }
      ]
    },
    {
      "cell_type": "code",
      "metadata": {
        "id": "N23KVATxoc0t",
        "colab_type": "code",
        "outputId": "a8bea9b2-0bb2-41cf-81bc-478df5281a66",
        "colab": {
          "base_uri": "https://localhost:8080/",
          "height": 408
        }
      },
      "source": [
        "f1_scores = score(y_pred5, y_test, \"Dummy Classifier Stratified\", label_names)\n",
        "classifiers_f1_micro.append(f1_scores[0])\n",
        "classifiers_f1_macro.append(f1_scores[1])"
      ],
      "execution_count": 0,
      "outputs": [
        {
          "output_type": "stream",
          "text": [
            "Confusion Matrix: Dummy Classifier Stratified\n",
            "      Predicted bad  Predicted good\n",
            "bad               1              14\n",
            "good              9              34\n",
            "\n",
            "F1 micro\n",
            "(0.603448275862069, 0.603448275862069, 0.603448275862069, None) \n",
            "\n",
            "F1 macro\n",
            "(0.4041666666666667, 0.42868217054263563, 0.4136263736263736, None) \n",
            "\n",
            "\n",
            "Classification Report of Dummy Classifier Stratified\n",
            "\n",
            "              precision    recall  f1-score   support\n",
            "\n",
            "         bad       0.10      0.07      0.08        15\n",
            "        good       0.71      0.79      0.75        43\n",
            "\n",
            "    accuracy                           0.60        58\n",
            "   macro avg       0.40      0.43      0.41        58\n",
            "weighted avg       0.55      0.60      0.57        58\n",
            "\n"
          ],
          "name": "stdout"
        }
      ]
    },
    {
      "cell_type": "markdown",
      "metadata": {
        "id": "Xdx1lQFgQIAO",
        "colab_type": "text"
      },
      "source": [
        "Τα αποτελέσματα του recall και precision για τον stratified είναι πολύ κοντά στην ισορροπία του dataset. Κάτι που περιμέναμε, αφού ο Stratified Dummy στο binary classification αντιστοιχείζεται σε ένα μη τίμιο νόμισμα με πιθανότητα κορώνας και γράμματα αντίστοιχα με την ισορροπία του dataset και όσο μεγαλώνει το πλήθος των samples τόσο τα ποσοστά κορώνας θα τείνουν στην a priori πιθανότητα."
      ]
    },
    {
      "cell_type": "markdown",
      "metadata": {
        "id": "i-Utjhsw3K7M",
        "colab_type": "text"
      },
      "source": [
        "####**k-nearest neighbors classifier**\n",
        "\n"
      ]
    },
    {
      "cell_type": "markdown",
      "metadata": {
        "id": "TKsPy3G6tut2",
        "colab_type": "text"
      },
      "source": [
        "O kNN είναι ένας μη παραμετρικός ταξινομητής βασισμένος σε παραδείγματα (instance-based). Η αρχή λειτουργίας του είναι πολύ απλή. Για ένα νέο δείγμα προς ταξινόμηση, πρώτα υπολογίζουμε τους k πλησιέστερους γείτονές του (στον ν-διάστατο χώρο των χαρακτηριστικών εισόδου) με βάση κάποια συνάρτηση απόστασης, συνήθως ευκλείδεια\n",
        "$$d(x, x') = \\sqrt{\\left(x_1 - x'_1 \\right)^2 + \\left(x_2 - x'_2 \\right)^2 + \\dotsc + \\left(x_n - x'_n \\right)^2}$$\n",
        "Η κλάση του νέου δείγματος θα είναι η κλάση της πλειοψηφίας των k γειτόνων (διαλέγουμε k περιττό γενικά), είτε απλά υπολογισμένη (άθροισμα) είτε (αντίστροφα) ζυγισμένη με βάση την απόσταση του κάθε γείτονα. \n",
        "\n",
        "Ο kNN δεν έχει πρακτικά φάση εκπαίδευσης. Ωστόσο, για να ταξινομήσουμε ένα νέο δείγμα στην φάση test,  πρέπει να συγκρίνουμε την απόστασή του με κάθε δείγμα του train set. Αυτό σημαίνει ότι για την ταξινόμηση είναι απαραίτητα όλα τα δείγματα εκπαίδευσης (εξού και η ονομασία \"instance-based\", ενώ στον Naive Bayes χρειαζόμαστε μόνο τις παραμέτρους $μ$ και $σ^2$). Αυτό σημαίνει ότι ο kNN είναι πιο απαιτητικός και σε χώρο (αποθήκευση όλων των δειγμάτων) και σε χρόνο (υπολογισμός όλων των αποστάσεων για κάθε νέο δείγμα).\n",
        "\n",
        "Όσο το k μικραίνει αυτό σημαίνει πως ο knn προσαρμόζεται πιο πολύ στο train set. \n",
        "Όσο πιο κοντά στο 1 πηγαίνει τόσο πιο πολύ high variance έχουμε, δηλαδή το μοντέλο δεν είναι τόσο γενικό, αλλά είναι πολύ fit στο training set. Όσο το k αυξάνει τόσο οι προβλέψεις γίνονται πιο σταθερές στην πλειψηφία των τιμών και της μέσης τιμής με αποτέλεσμα να έχουμε περισσοτερές επιτυχημένες προβλέψεις.Συνεχίζοντας να αυξάνει το k ξεκινάμε να έχουμε αρκετές αποτυχίες όμως. Αυτό είναι το σημείο που θεωρητικά πρέπει να σταματήσουμε να αυξάνουμε το k και αρκετές φορές είναι κοντά στο $\\sqrt{N}$"
      ]
    },
    {
      "cell_type": "markdown",
      "metadata": {
        "id": "FE-1dH8S2woR",
        "colab_type": "text"
      },
      "source": [
        "Δοκιμάσαμε ακόμα τον default k-nearest-neighbors, δηλ. για n_neighbors=5 και πήραμε τα παρακάτω αποτελέσματα:"
      ]
    },
    {
      "cell_type": "code",
      "metadata": {
        "id": "5yUbANvX3JNL",
        "colab_type": "code",
        "outputId": "b748edd7-7531-428e-a701-7b245dbeb5b3",
        "colab": {
          "base_uri": "https://localhost:8080/",
          "height": 408
        }
      },
      "source": [
        "from sklearn.neighbors import KNeighborsClassifier\n",
        "\n",
        "# default n_neighbors=5\n",
        "knn = KNeighborsClassifier()\n",
        "knn.fit(X_train, y_train)\n",
        "y_pred = knn.predict(X_test)\n",
        "f1_scores = score(y_pred, y_test, \"K-Nearest Neighbors\", label_names)\n",
        "classifiers_f1_micro.append(f1_scores[0])\n",
        "classifiers_f1_macro.append(f1_scores[1])"
      ],
      "execution_count": 0,
      "outputs": [
        {
          "output_type": "stream",
          "text": [
            "Confusion Matrix: K-Nearest Neighbors\n",
            "      Predicted bad  Predicted good\n",
            "bad               3              12\n",
            "good              5              38\n",
            "\n",
            "F1 micro\n",
            "(0.7068965517241379, 0.7068965517241379, 0.7068965517241379, None) \n",
            "\n",
            "F1 macro\n",
            "(0.5675, 0.541860465116279, 0.53903693314633, None) \n",
            "\n",
            "\n",
            "Classification Report of K-Nearest Neighbors\n",
            "\n",
            "              precision    recall  f1-score   support\n",
            "\n",
            "         bad       0.38      0.20      0.26        15\n",
            "        good       0.76      0.88      0.82        43\n",
            "\n",
            "    accuracy                           0.71        58\n",
            "   macro avg       0.57      0.54      0.54        58\n",
            "weighted avg       0.66      0.71      0.67        58\n",
            "\n"
          ],
          "name": "stdout"
        }
      ]
    },
    {
      "cell_type": "markdown",
      "metadata": {
        "id": "zo7051DaOGWd",
        "colab_type": "text"
      },
      "source": [
        "Παρατηρούμε ότι το precision του bad ειναι πιο μεγάλο από το recall του, αφού το μοντέλο μας πολύ πιο εύκολα δίνει αποτέλεσμα good από bad.\n",
        "Θέλουμε, λοιπόν, με κάποιο τρόπο να αυξήσουμε το recall του bad, αφού είναι πολύ εύκολο το μοντέλο μας να βγάζει πιο συχνά 1, λόγω της ανισορροπίας του dataset, αλλά και, από την άλλη, να αυξήσουμε και το recall του good, καθώς βλέπουμε πως υπάρχουν και κάποιοι 1 που τους προβλέπουμε ως 0. \n"
      ]
    },
    {
      "cell_type": "markdown",
      "metadata": {
        "id": "K-ADgUm43EDd",
        "colab_type": "text"
      },
      "source": [
        "Στο σημείο αυτό, τυπώνουμε σε κοινό διάγραμμα, ένα για f1-micro και ένα για f1-macro scores, τα scores των παραπάνω ταξινομητών."
      ]
    },
    {
      "cell_type": "code",
      "metadata": {
        "id": "eLkiLu5C0bDb",
        "colab_type": "code",
        "colab": {}
      },
      "source": [
        "import matplotlib.pyplot as plt; plt.rcdefaults()\n",
        "import numpy as np\n",
        "import matplotlib.pyplot as plt\n",
        "\n",
        "# Plot bar for f1_micro and f1_macro\n",
        "def plot_bar(classifiers, scores, title):\n",
        "  y_pos = np.arange(len(classifiers))\n",
        "  plt.bar(y_pos, scores, align='center', alpha=0.9)\n",
        "  plt.xticks(y_pos, classifiers)\n",
        "  plt.ylabel('Score')\n",
        "  plt.title(title)\n",
        "  plt.show()"
      ],
      "execution_count": 0,
      "outputs": []
    },
    {
      "cell_type": "code",
      "metadata": {
        "id": "X6NsB8931RLe",
        "colab_type": "code",
        "outputId": "41c86a2f-67af-4cf7-8b5d-cfcfa7089d30",
        "colab": {
          "base_uri": "https://localhost:8080/",
          "height": 953
        }
      },
      "source": [
        "classifiers = ('Dummy\\nUniform', 'Dummy\\nConstant-0', 'Dummy\\nConstant-1', 'Dummy\\nMost\\nFrequent', 'Dummy\\nStratified', 'knn(5)')\n",
        "plot_bar(classifiers, classifiers_f1_micro, \"F1-micro\")\n",
        "plot_bar(classifiers, classifiers_f1_macro, \"F1-macro\")"
      ],
      "execution_count": 0,
      "outputs": [
        {
          "output_type": "display_data",
          "data": {
            "image/png": "[encoded data removed]",
            "text/plain": [
              "<Figure size 640x480 with 1 Axes>"
            ]
          },
          "metadata": {
            "tags": []
          }
        },
        {
          "output_type": "display_data",
          "data": {
            "image/png": "[encoded data removed]",
            "text/plain": [
              "<Figure size 640x480 with 1 Axes>"
            ]
          },
          "metadata": {
            "tags": []
          }
        }
      ]
    },
    {
      "cell_type": "markdown",
      "metadata": {
        "id": "VPRROYv3XQ8W",
        "colab_type": "text"
      },
      "source": [
        "#### Σχολιασμός αποτελεσμάτων"
      ]
    },
    {
      "cell_type": "markdown",
      "metadata": {
        "id": "Ja5-gfpP3WdI",
        "colab_type": "text"
      },
      "source": [
        "Από τα παραπάνω διαγράμματα, βλέπουμε ότι ο knn, αν και δεν παραγεί αποτελέσματα στην τύχη ή σταθερά κάποιο label, όπως ο dummy classifier, βγάζει χειρότερο score. Αυτό συμβαίνει γιατί το dataset είναι αρκετά imbalanced με πολύ λίγα samples.   \n",
        "Στόχος μας, λοιπόν, σε αυτή την μελέτη είναι να βελτιστοποιήσουμε τον knn όσο περισσότερο γίνεται, ώστε να ξεπεράσει σε score τον καλύτερο, από τους παραπάνω, dummy classifiers. Δηλαδή, θα χρησιμοποιήσουμε το score του dummy classifier ως ένα μέτρο βελτίωσης του knn, δεδομένου ότι έχουμε πολύ μικρό αριθμό δεδομένων και τα bad είναι το 1/3 των good."
      ]
    },
    {
      "cell_type": "markdown",
      "metadata": {
        "id": "AYO0KZ2mbr5r",
        "colab_type": "text"
      },
      "source": [
        "###(Δ)  Βελτιστοποίηση ταξινομητών"
      ]
    },
    {
      "cell_type": "markdown",
      "metadata": {
        "id": "YfrngONiCDzd",
        "colab_type": "text"
      },
      "source": [
        "####Regularization"
      ]
    },
    {
      "cell_type": "markdown",
      "metadata": {
        "id": "tsKwPW7uVWfx",
        "colab_type": "text"
      },
      "source": [
        "Αρχικά, ελέγχουμε αν τα δεδομένα μας είναι ήδη κανονικοποιημένα regularized."
      ]
    },
    {
      "cell_type": "code",
      "metadata": {
        "id": "Y-kfeAlkUpQ1",
        "colab_type": "code",
        "colab": {}
      },
      "source": [
        "def checkScaled(data):\n",
        "  flag = True\n",
        "  for i in range(data.shape[0]):\n",
        "    for j in range(data.shape[1]):\n",
        "      if (data[i][j] < 0 or data[i][j] > 1):\n",
        "        flag = False\n",
        "        break\n",
        "      if (not flag):\n",
        "        break\n",
        "\n",
        "  if (flag):\n",
        "    print(\"Regularized\")\n",
        "  else:\n",
        "    print(\"No scaled\")"
      ],
      "execution_count": 0,
      "outputs": []
    },
    {
      "cell_type": "code",
      "metadata": {
        "id": "BCOfuL2XqmxX",
        "colab_type": "code",
        "outputId": "abc66b0d-6f87-43c6-e9ef-dbb78175d778",
        "colab": {
          "base_uri": "https://localhost:8080/",
          "height": 34
        }
      },
      "source": [
        "checkScaled(X_train)"
      ],
      "execution_count": 0,
      "outputs": [
        {
          "output_type": "stream",
          "text": [
            "No scaled\n"
          ],
          "name": "stdout"
        }
      ]
    },
    {
      "cell_type": "markdown",
      "metadata": {
        "id": "VqbepR1Jo4zi",
        "colab_type": "text"
      },
      "source": [
        "Βλέπουμε πως δεν είναι κανονικοποιημένα και τα κανονικοποιούμε."
      ]
    },
    {
      "cell_type": "code",
      "metadata": {
        "id": "AUTCQVkSo7Xa",
        "colab_type": "code",
        "outputId": "feacecd9-be74-45dc-d1e0-7d93a465ab88",
        "colab": {
          "base_uri": "https://localhost:8080/",
          "height": 34
        }
      },
      "source": [
        "def regularization(data):\n",
        "  return ( data - np.min(data) ) / ( np.max(data) - np.min(data) )\n",
        "\n",
        "# Regularization, Scaled\n",
        "X_train_scaled = regularization(X_train)\n",
        "X_test_scaled = regularization(X_test)\n",
        "checkScaled(X_train_scaled)"
      ],
      "execution_count": 0,
      "outputs": [
        {
          "output_type": "stream",
          "text": [
            "Regularized\n"
          ],
          "name": "stdout"
        }
      ]
    },
    {
      "cell_type": "markdown",
      "metadata": {
        "id": "YtAqYO07HOCd",
        "colab_type": "text"
      },
      "source": [
        "#### PCA"
      ]
    },
    {
      "cell_type": "markdown",
      "metadata": {
        "id": "YSnUeQfDEaz8",
        "colab_type": "text"
      },
      "source": [
        "Αρχικά υπολογίζουμε τον πίνακα συσχέτισης (covariance matrix) των μεταβλητών που έχουμε στα δεδομένα. Από αυτόν τον πίνακα βρίσκουμε τις γραμμικώς συσχετισμένες μεταβλητές και βρίσκοντας τα ιδιοδιανύσματα του πίνακα μπορούμε να μετατρέψουμε τον πίνακα με έναν ορθογώνιο μετασχηματισμό και να βρούμε την βάση του νέου πίνακα. Αυτή η βάση του χώρου αποτελεί ένα νέο σύνολο μεταβλητών που είναι γραμμικά ασυσχέτιστες και ονομάζονται κύριες συνιστώσες."
      ]
    },
    {
      "cell_type": "markdown",
      "metadata": {
        "id": "mhHhbo78CXg8",
        "colab_type": "text"
      },
      "source": [
        "Στο σημείο αυτό, θα χρησιμοποιήσουμε αρκετές διαφορετικές εκδοχές του PCA, δημιουργώντας έτσι διαφορετικά datasets, με n_components από το 2 εώς το 60 με βήμα 2 για κάθε dataset. Έτσι, θα μελετήσουμε τελικά 30 διαφορετικά datasets, προερχόμενα από διαφορετικό PCA, και το αρχικό που δεν έχει υποστεί PCA."
      ]
    },
    {
      "cell_type": "code",
      "metadata": {
        "id": "hW00DFTnPkNt",
        "colab_type": "code",
        "colab": {}
      },
      "source": [
        "from sklearn.decomposition import PCA\n",
        "\n",
        "def applyPCA(X_train, X_test, n):\n",
        "  # Returns a tuple (X_train_pca, X_test_pca)\n",
        "  pca = PCA(n_components=n)\n",
        "  X_train_pca = pca.fit_transform(X_train)\n",
        "  X_test_pca = pca.transform(X_test)\n",
        "  return (X_train_pca, X_test_pca, n)\n"
      ],
      "execution_count": 0,
      "outputs": []
    },
    {
      "cell_type": "code",
      "metadata": {
        "id": "EWG9kdhm5smY",
        "colab_type": "code",
        "colab": {}
      },
      "source": [
        "# A list[...] of tuples: (X_train_pca, X_test_pca, n)\n",
        "dataPCA = []\n",
        "\n",
        "# Apply PCA for the first (n_features-1) even integers\n",
        "for n in range(n_features+1):\n",
        "  if (n == 0):\n",
        "    continue\n",
        "  if (n == n_features):\n",
        "    # No PCA\n",
        "    dataPCA.append((X_train_scaled, X_test_scaled, n))\n",
        "    break\n",
        "  if (n % 2 == 0):\n",
        "    dataPCA.append(applyPCA(X_train_scaled, X_test_scaled, n))\n",
        "\n",
        "initial_data_PCA = dataPCA.copy()"
      ],
      "execution_count": 0,
      "outputs": []
    },
    {
      "cell_type": "markdown",
      "metadata": {
        "id": "63DoY2CSUh-s",
        "colab_type": "text"
      },
      "source": [
        "#### Oversampling"
      ]
    },
    {
      "cell_type": "markdown",
      "metadata": {
        "id": "IKYMJk3UEwlA",
        "colab_type": "text"
      },
      "source": [
        "Με τον όρο imbalanced dataset εννούμε ένα dataset στο οποίο τα πλήθη των δειγμάτων της κάθε κλάσης διαφέρουν σημαντικά μεταξύ τους. Χωρίς να υπάρχει κάποια συνολική απάντηση, όταν ο λόγος μεταξύ του αριθμού των δειγμάτων δύο κλάσεων αρχίζει να είναι μεγαλύτερος από 2:3, μπορούμε να αρχίζουμε να θεωρούμε το dataset μη ισορροπημένο.   \n",
        "\n",
        "Έχουμε δύο βασικούς τρόπους για να εξισσοροπούμε ένα dataset, την υποδειγματοληψία (undersampling) και την υπερδειγματοληψία (oversampling). Εν ολίγοις, στο undersampling απλά αφαιρούμε δείγματα από όλες τις κατηγορίες που έχουν μεγαλύτερο πλήθος από τη μικρότερη, ενώ στο oversampling επιλέγουμε  ορισμένα παραδείγματα ή όμοια με αυτά από τις λιγότερο συχνές κατηγορίες και τα επαναλαμβάνουμε. Στην πρώτη δηλαδή αφαιρούμε δεδομένα ενώ στην άλλη προσθέτουμε.\n",
        "\n",
        "Γενικά το oversampling ενδείκνυται περισσότερο στην περίπτωσή μας, αφού έχουμε πάρα πολύ λίγα samples.\n",
        "\n",
        "Η βιβλιοθήκη imbalanced-learn (ή imblearn) προσφέρει πολλές μεθόδους εξισορρόπησης datasets. Αφού εγκαταστήσουμε την imblearn θα πειραματιστούμε με το random oversampling, καθώς και με το SMOTE oversampling στο training set μας."
      ]
    },
    {
      "cell_type": "markdown",
      "metadata": {
        "id": "6OYgg2s2HPGH",
        "colab_type": "text"
      },
      "source": [
        "##### Random Oversampling"
      ]
    },
    {
      "cell_type": "markdown",
      "metadata": {
        "id": "QY8JJxRNHT4I",
        "colab_type": "text"
      },
      "source": [
        "  Στο Random oversampling, δείγματα της μειοψηφίας με τυχαίο τρόπο επιλέγονται και γίνονται duplicates έως ότου, η ισορροπία του dataset φθάσει στα επιθυμητά επιπέδα ισορροπίας. Η μέθοδος αυτή έχει το κακό ότι δημιουργεί ήδη υπάρχοντα δείγματα, με αποτέλεσμα να αυξάνεται ο κίνδυνος του overfitting, ειδικά στην περίπτωση που το oversamping συμβαίνει πριν το GridSearch και το cross-validation, όπως θα δούμε στην συνέχεια."
      ]
    },
    {
      "cell_type": "code",
      "metadata": {
        "id": "CEbv5Msh-VHQ",
        "colab_type": "code",
        "outputId": "6431ca0f-8440-47d1-feb4-35fbd1b7b131",
        "colab": {
          "base_uri": "https://localhost:8080/",
          "height": 71
        }
      },
      "source": [
        "from imblearn.over_sampling import RandomOverSampler\n",
        "\n",
        "# Random Oversampling\n",
        "def applyRandomOversampling(X_train_pca, y_train):\n",
        "  # Returns a tuple (X_train_resampled, y_train_resampled)\n",
        "\n",
        "  # print(\"Before applying oversampling\")\n",
        "  # print(\"Ones are now:\")\n",
        "  # print(np.sum([y_train==1]))\n",
        "  # print(\"Zeros are now:\")\n",
        "  # print(np.sum([y_train==0]))\n",
        "  # print() \n",
        "\n",
        "  ros = RandomOverSampler(sampling_strategy=0.42, random_state=0)\n",
        "\n",
        "  # Oversampling\n",
        "  X__train_resampled, y_train_resampled = ros.fit_sample(X_train_pca, y_train)\n",
        "\n",
        "  # print(\"After applying oversampling\")\n",
        "  # print(\"X_train_resampled shape: \", X__train_resampled.shape)\n",
        "  # print(\"y_train_resampled shape: \", y_train_resampled.shape)\n",
        "\n",
        "  #print(X__train_resampled)\n",
        "  #print(y_train_resampled)\n",
        "\n",
        "  # print(\"Ones are now:\")\n",
        "  # print(np.sum([y_train_resampled==1]))\n",
        "  # print(\"Zeros are now:\")\n",
        "  # print(np.sum([y_train_resampled==0]))\n",
        "  # print()\n",
        "\n",
        "  return (X__train_resampled, y_train_resampled)\n",
        "\n"
      ],
      "execution_count": 0,
      "outputs": [
        {
          "output_type": "stream",
          "text": [
            "/usr/local/lib/python3.6/dist-packages/sklearn/externals/six.py:31: DeprecationWarning: The module is deprecated in version 0.21 and will be removed in version 0.23 since we've dropped support for Python 2.7. Please rely on the official version of six (https://pypi.org/project/six/).\n",
            "  \"(https://pypi.org/project/six/).\", DeprecationWarning)\n"
          ],
          "name": "stderr"
        }
      ]
    },
    {
      "cell_type": "markdown",
      "metadata": {
        "id": "cJKj4poaXGyy",
        "colab_type": "text"
      },
      "source": [
        "##### SMOTE oversampling"
      ]
    },
    {
      "cell_type": "markdown",
      "metadata": {
        "id": "s13pSNxaU7Lp",
        "colab_type": "text"
      },
      "source": [
        "Παρακάτω, θα γίνει χρήση του SMOTE oversampling, που είναι εγγυάται περισσότερο την αποφυγή overfitting με χρήση κατάλληλου sampling_strategy. Πιο αναλυτικά, ο SMOTE oversampling προσθέτει και αυτός samples, αλλά όχι ήδη υπάρχοντα. Χρησιμοποιεί για κάθε δείγμα της μειοψηφίας τον knn και βρίσκει τα κ πιο κοντινά του δείγματα. Αναλόγως το sampling_strategy που έχουμε θέσει, για κάθε δείγμα της μειοψηφίας, επιλέγει μερικά από αυτά τα κ κοντινά δείγματα για να δημιουργήσει νέα, επιλέγοντας για καθένα ένα τυχαίο σημείο πάνω στην ευθεία που το συνδέει με αυτό που του ασκείθηκε ο knn."
      ]
    },
    {
      "cell_type": "code",
      "metadata": {
        "id": "IfQvhP3GXC1K",
        "colab_type": "code",
        "colab": {}
      },
      "source": [
        "from imblearn.over_sampling import SMOTE \n",
        "\n",
        "#  Synthetic Minority Oversampling Technique (SMOTE)\n",
        "def applySMOTE(X_train_pca, y_train):\n",
        "  # Returns a tuple (X_train_resampled, y_train_resampled)\n",
        "\n",
        "  # print(\"Before applying oversampling\")\n",
        "  # print(\"Ones are now:\")\n",
        "  # print(np.sum([y_train==1]))\n",
        "  # print(\"Zeros are now:\")\n",
        "  # print(np.sum([y_train==0]))\n",
        "  # print() \n",
        "\n",
        "  sm = SMOTE(sampling_strategy=0.54, random_state=32) \n",
        "\n",
        "  # Oversampling\n",
        "  X__train_resampled, y_train_resampled = sm.fit_sample(X_train_pca, y_train)\n",
        "\n",
        "  # print(\"After applying oversampling\")\n",
        "  # print(\"X_train_resampled shape: \", X__train_resampled.shape)\n",
        "  # print(\"y_train_resampled shape: \", y_train_resampled.shape)\n",
        "\n",
        "  #print(X__train_resampled)\n",
        "  #print(y_train_resampled)\n",
        "\n",
        "  # print(\"Ones are now:\")\n",
        "  # print(np.sum([y_train_resampled==1]))\n",
        "  # print(\"Zeros are now:\")\n",
        "  # print(np.sum([y_train_resampled==0]))\n",
        "  # print()\n",
        "\n",
        "  return (X__train_resampled, y_train_resampled)"
      ],
      "execution_count": 0,
      "outputs": []
    },
    {
      "cell_type": "markdown",
      "metadata": {
        "id": "YMb-x6k4GnFl",
        "colab_type": "text"
      },
      "source": [
        "Στην μελέτη μας, χειρηστικάμε πολύ τόσο το random όσο και το SMOTE και εξαιτίας του πολύ μικρού αριθμού των samples, το smote έβγαζε αρκετά καλύτερα αποτελέσματα από το random. Έτσι, θα δείξουμε μόνο την μέθοδο του SMOTE oversampling που έβγαζε και τα καλύτερα αποτελέσματα."
      ]
    },
    {
      "cell_type": "code",
      "metadata": {
        "id": "u_Uog-_tSVVX",
        "colab_type": "code",
        "colab": {}
      },
      "source": [
        "# Apply ovesampling on the scaled-PCA-transformed training sets\n",
        "y_train_sampled = []\n",
        "for i in range(0, len(dataPCA)):\n",
        "  (X_over, y_sampled_tmp) = applySMOTE(dataPCA[i][0], y_train)\n",
        "  y_train_sampled.append(y_sampled_tmp)\n",
        "  dataPCA[i] = (X_over, dataPCA[i][1], dataPCA[i][2])"
      ],
      "execution_count": 0,
      "outputs": []
    },
    {
      "cell_type": "markdown",
      "metadata": {
        "id": "ygFdi8MGYVRf",
        "colab_type": "text"
      },
      "source": [
        "#### Plot"
      ]
    },
    {
      "cell_type": "markdown",
      "metadata": {
        "id": "rN0DS5fBXbYW",
        "colab_type": "text"
      },
      "source": [
        "Παρακάτω, πλοτάρουμε την κατανομή των δειγμάτων για PCA(2) σε δυσδιάστατο χώρο μετά την εφαρμογή του SMOTE oversampling."
      ]
    },
    {
      "cell_type": "code",
      "metadata": {
        "id": "3FqvBJn4fPD6",
        "colab_type": "code",
        "outputId": "834bac9d-461b-4ab8-f1e8-6373894a27d8",
        "colab": {
          "base_uri": "https://localhost:8080/",
          "height": 472
        }
      },
      "source": [
        "# Plot training set for PCA(n_components=2)\n",
        "\n",
        "X0, X1 = dataPCA[0][0][:,0], dataPCA[0][0][:,1]\n",
        "colors = ['red', 'yellow']\n",
        "fig, ax = plt.subplots()\n",
        "for label in range(2):\n",
        "    ax.scatter(\n",
        "        X0[y_train_sampled[0] == label], X1[y_train_sampled[0] == label],\n",
        "        c=(colors[int(label)]), label=int(label),\n",
        "        s=60, alpha=0.9, edgecolors='k'\n",
        "    )\n",
        "    \n",
        "ax.set_xlabel('X1')\n",
        "ax.set_ylabel('X2')\n",
        "ax.set_title('Dataset, PCA(2)')\n",
        "plt.show()"
      ],
      "execution_count": 0,
      "outputs": [
        {
          "output_type": "display_data",
          "data": {
            "image/png": "[encoded data removed]",
            "text/plain": [
              "<Figure size 640x480 with 1 Axes>"
            ]
          },
          "metadata": {
            "tags": []
          }
        }
      ]
    },
    {
      "cell_type": "markdown",
      "metadata": {
        "id": "7KPAQhMzebFA",
        "colab_type": "text"
      },
      "source": [
        "#### **Optimizing k-nearest neighbors classifier**"
      ]
    },
    {
      "cell_type": "markdown",
      "metadata": {
        "id": "xnNLJCFlevUt",
        "colab_type": "text"
      },
      "source": [
        "Χρησιμοποίησαμε τις εξής δυο διαφορετικές τεχνικές:  \n",
        "- PCA-Oversampling-GridSearch-CV\n",
        "- PCA-GridSearch-CV-Oversampling  \n",
        "   \n",
        "Στην πρώτη, το oversampling, πραγματοποιείται πριν το GridSearch, κάτι που \n",
        "περιμένουμε να δώσει μη βέλτιστα αποτελέσματα, αφού η δημιουργία duplicates      (Random) ή γειτονικών δειγμάτων (SMOTE) γίνεται πριν τη δημιουργία του cross-validation, με αποτέλεσμα να υπάρχει μεγάλη πιθανότητα να βρεθούν ίδια ή πολύ παρόμοια δείγματα τόσο στο train όσο και το test set του cross-validation. Αυτό έχει ως αποτέλεσμα σε κάθε fold του cv, το μοντέλο μας να τεστάρει δείγματα που έχει ήδη δει στην εκπαίδευσή του, με χρήση ειδικά του Random oversampling, με αποτέλεσμα να επιλέγει πάντα το πιο μικρό διαθέσιμο k για μεγάλο sampling_strategy (κοντά στο 1.0), και να καταλήγουμε εύκολα σε overfitting και high variance του Knn, με μεγάλες τιμές του cross-validation score (έως και στο 90%) και πολύ μικρές τιμές του test score (έως και 48%). Έτσι, αν και λάθος σκέψη, θελήσαμε να βελτιστοποιήσουμε και αυτό το μοντέλο για χάριν έρευνας και φθάσαμε σε αρκετά καλά αποτελέσματα που θα δείξουμε παρακάτω. \n",
        "\n",
        "Στην δεύτερη περίπτωση, το oversampling, πραγματοποιείται μέσα στο cross-validation, μέσα στο GridSearch, προς αποφυγή της κατάστασης που περιγράφηκε παραπάνω. Χρησιμοποιήσαμε και Random και SMOTE, πειραματιζόμενη και εδώ με το sampling_strategy, με το SMOTE να υπερνικά πάντοτε, και έτσι κρατήσαμε μόνο τις περιπτώσεις αυτού.  \n",
        "  \n",
        "Αξίζει να σημειωθεί ότι το PCA και στις δυο περιπτώσεις έγινε στην αρχή και πάντα πριν το oversampling και το GridSearch, θεωρώντας ότι η προσθήκη/μείωση των δειγμάτων θα επιφέρει και αλλαγές στις συνδιακυμάνσεις του αρχικού συνόλου δεδομένων. Ωστόσο, για χάριν έρευνας, στο big set θα δοκιμαστεί και μέσα στο Pipeline, μετά το sampling, δείχνοντας να μην επηρεάζει σημαντικά τα αποτελέσματα του από αυτά της παραπάνω μεθόδου.  \n",
        "  \n",
        "Επιπλέον και στις δυο περιπτώσεις δημιουργούμε την δική μας class για τα δυο διαφορετικά GridSearch, με το ένα να δέχεται μια lambda function ως όρισμα, η οποία θα ειναι η oversampling method που θα χρησιμοποιηθεί στο cross-validation, ενώ διαθέτουν και οι δυο τις βασικές μεθόδους fit, predict, score που έχει οποιοσδήποτε sklearn classifier.\n",
        "\n"
      ]
    },
    {
      "cell_type": "markdown",
      "metadata": {
        "id": "Ba_x1kMcZn1t",
        "colab_type": "text"
      },
      "source": [
        "##### **GridSearch using KFold Cross-Validation**\n",
        "\n",
        "\n"
      ]
    },
    {
      "cell_type": "code",
      "metadata": {
        "id": "GwuQq7OGjxni",
        "colab_type": "code",
        "colab": {}
      },
      "source": [
        "def split_train(X_train, y_train, n_splits=10):\n",
        "  # Split training set into KFold splits\n",
        "  '''\n",
        "    X_splits, y_splits: lists of numpy arrays\n",
        "  '''\n",
        "  X_splits = []\n",
        "  y_splits = []\n",
        "  split_size = X_train.shape[0] // n_splits\n",
        "  count = 0\n",
        "  tempX = []\n",
        "  tempY = []\n",
        "  for i in range(X_train.shape[0]):\n",
        "    tempX.append(list(X_train[i]))\n",
        "    tempY.append(y_train[i])\n",
        "    if (count == split_size or i == X_train.shape[0]-1):\n",
        "      X_splits.append(np.array(tempX.copy()))\n",
        "      y_splits.append(np.array(tempY.copy()))\n",
        "      tempX = []\n",
        "      tempY = []\n",
        "      count = 0\n",
        "      continue\n",
        "    count += 1\n",
        "\n",
        "  return X_splits, y_splits"
      ],
      "execution_count": 0,
      "outputs": []
    },
    {
      "cell_type": "code",
      "metadata": {
        "id": "qAreCMw62FwO",
        "colab_type": "code",
        "colab": {}
      },
      "source": [
        "def concatCV(cv_list):\n",
        "  # Concatenate X_splits, y_splits\n",
        "  cv = cv_list[0]\n",
        "  for i in range(1, len(cv_list)):\n",
        "    cv = np.concatenate((cv, cv_list[i]), axis=0)\n",
        "\n",
        "  return cv"
      ],
      "execution_count": 0,
      "outputs": []
    },
    {
      "cell_type": "code",
      "metadata": {
        "id": "yqbrJ3_eKWoV",
        "colab_type": "code",
        "colab": {}
      },
      "source": [
        "import itertools\n",
        "\n",
        "def unpackParams(param_grid):\n",
        "  # Unpack params_grid to list of dicts of paramaters for GridSearchCV sklearn format\n",
        "  dicts = []\n",
        "  for dict_item in param_grid:\n",
        "    keys = list(dict_item.keys())\n",
        "    values = list(dict_item.values())\n",
        "    cartesian_values = list(itertools.product(*values))\n",
        "    for tup in cartesian_values:\n",
        "      temp_dict = {}\n",
        "      for i in range(len(tup)):\n",
        "        temp_dict[keys[i]] = tup[i]\n",
        "      dicts.append(temp_dict)\n",
        "    \n",
        "  return(dicts)"
      ],
      "execution_count": 0,
      "outputs": []
    },
    {
      "cell_type": "code",
      "metadata": {
        "id": "xneZRncJZxK3",
        "colab_type": "code",
        "colab": {}
      },
      "source": [
        "from sklearn.metrics import precision_recall_fscore_support\n",
        "from sklearn.metrics import accuracy_score\n",
        "from sklearn.metrics import classification_report\n",
        "from sklearn.base import clone\n",
        "from sklearn.base import BaseEstimator, ClassifierMixin\n",
        "\n",
        "class gridSearchCV(BaseEstimator, ClassifierMixin):\n",
        "  # GridSearch classifier to find the optimized hyperparameters of the given classifier using KFolding Cross-Validation\n",
        "  def __init__(self, clf, param_grid, cv, scoring='micro'):\n",
        "    ''' \n",
        "        clf:        an sklearn classifier for grid of paramaters\n",
        "        param_grid: a list of dicts of parameters\n",
        "        cv:         an integer, KFold Cross-Validation\n",
        "        scoring:    a string, (\"f1_micro, \"f1_macro\")\n",
        "    '''\n",
        "    self.clf = []\n",
        "    self.param_grid = unpackParams(param_grid) # list of dicts\n",
        "    self.cv = cv\n",
        "    self.optimal_clf = None\n",
        "    self.best_params_ = None\n",
        "    self.cv_results_ = {}\n",
        "    self.best_score = None\n",
        "    self.scoring = scoring\n",
        "\n",
        "    for params in self.param_grid:\n",
        "      # Clone initial classifier object in order to create new ones\n",
        "      clf_tmp = clone(clf)\n",
        "      self.clf.append(clf_tmp.set_params(**params))\n",
        "\n",
        "\n",
        "  def display_cv_results(self):\n",
        "    for key in self.cv_results_:\n",
        "      print(key, \": \\t\", self.cv_results_[key])\n",
        "    print()\n",
        "\n",
        "\n",
        "  def fit(self, X_train, y_train): \n",
        "    X, y = split_train(X_train, y_train, self.cv) \n",
        "\n",
        "    # Find the optimal classifier\n",
        "    clfs_scores = []\n",
        "    for j in range(len(self.clf)):\n",
        "      classifier_scores = []\n",
        "      # Running fit for KFold Cross Validation and find the optimal parameters using f1-micro accuracy\n",
        "      for i in range(self.cv):\n",
        "        Xcv = X.copy()\n",
        "        ycv = y.copy()\n",
        "        X_test = Xcv[i]\n",
        "        y_test = ycv[i]\n",
        "\n",
        "        # Delete ith list for the testset and let the rest lists for the trainset\n",
        "        del Xcv[i]\n",
        "        del ycv[i]\n",
        "\n",
        "        # Fit sklearn classifier      \n",
        "        self.clf[j].fit(concatCV(Xcv), concatCV(ycv))\n",
        "\n",
        "        # Scoring\n",
        "        y_pred = self.clf[j].predict(X_test)\n",
        "        score = precision_recall_fscore_support(y_test, y_pred, average=self.scoring)[2] # f1-micro accuracy score\n",
        "        classifier_scores.append(score)\n",
        "\n",
        "      # Compute mean F1-micro score for each classifier for all cross-validation sets\n",
        "      clfs_scores.append(np.mean(classifier_scores))\n",
        "      self.cv_results_[str(self.param_grid[j])] = clfs_scores[j]\n",
        "\n",
        "    # Select the optimal classifier, parameters and best score\n",
        "    self.best_score = np.max(clfs_scores)\n",
        "    optimal_clf_index = np.argmax(clfs_scores)\n",
        "    self.optimal_clf = self.clf[optimal_clf_index]\n",
        "    self.best_params_ = self.param_grid[optimal_clf_index]\n",
        "\n",
        "    return self\n",
        "\n",
        "\n",
        "  def predict(self, X_test):\n",
        "    return self.optimal_clf.predict(X_test)\n",
        "\n",
        "\n",
        "  def score(self, X_test, y_true):\n",
        "    y_pred = self.predict(X_test)\n",
        "    return precision_recall_fscore_support(y_true, y_pred, average=self.scoring)[2] "
      ],
      "execution_count": 0,
      "outputs": []
    },
    {
      "cell_type": "markdown",
      "metadata": {
        "id": "kNMN_ZuaU5uq",
        "colab_type": "text"
      },
      "source": [
        "Επιλέγουμε τιμές του $κ>4$, προκειμένου να αποφύγουμε το high variance για τον λόγο που είπαμε και παραπάνω και $strategy=0.55$, για να έχω μικρή επίδραση oversampling."
      ]
    },
    {
      "cell_type": "markdown",
      "metadata": {
        "id": "CJHBpTV5Om7K",
        "colab_type": "text"
      },
      "source": [
        "######F1-micro score"
      ]
    },
    {
      "cell_type": "code",
      "metadata": {
        "id": "eYRZLWSSaEK4",
        "colab_type": "code",
        "outputId": "7c33a4b5-c161-421a-dcea-51b475645907",
        "colab": {
          "base_uri": "https://localhost:8080/",
          "height": 1000
        }
      },
      "source": [
        "# Run all dataPCA for each grid parameter of KNN\n",
        "best_score_ = 0\n",
        "optimal_classifier = None\n",
        "# Time measure\n",
        "start_time = time.time()\n",
        "for i in range(0,len(dataPCA)-20):\n",
        "  data_tmp = dataPCA[i]\n",
        "  knn = gridSearchCV(KNeighborsClassifier(), [{\"n_neighbors\":[5,7,9,11,13,15,17,19,21,27]}], 10)\n",
        "  knn.fit(data_tmp[0], y_train_sampled[i])\n",
        "  if (knn.best_score > best_score_):\n",
        "    best_score_ = knn.best_score\n",
        "    optimal_classifier = knn\n",
        "    features = data_tmp[2]\n",
        "  print(\"n_features: \" + str(data_tmp[2]))\n",
        "  knn.display_cv_results() \n",
        "print(\"Time executed: \", time.time() - start_time)"
      ],
      "execution_count": 0,
      "outputs": [
        {
          "output_type": "stream",
          "text": [
            "n_features: 2\n",
            "{'n_neighbors': 5} : \t 0.7090177133655394\n",
            "{'n_neighbors': 7} : \t 0.6922705314009663\n",
            "{'n_neighbors': 9} : \t 0.6953301127214171\n",
            "{'n_neighbors': 11} : \t 0.6990338164251206\n",
            "{'n_neighbors': 13} : \t 0.7243156199677938\n",
            "{'n_neighbors': 15} : \t 0.7206119162640902\n",
            "{'n_neighbors': 17} : \t 0.7064412238325282\n",
            "{'n_neighbors': 19} : \t 0.7138486312399356\n",
            "{'n_neighbors': 21} : \t 0.72061191626409\n",
            "{'n_neighbors': 27} : \t 0.7243156199677939\n",
            "\n",
            "n_features: 4\n",
            "{'n_neighbors': 5} : \t 0.7201288244766506\n",
            "{'n_neighbors': 7} : \t 0.7157809983896941\n",
            "{'n_neighbors': 9} : \t 0.7410628019323672\n",
            "{'n_neighbors': 11} : \t 0.7249597423510468\n",
            "{'n_neighbors': 13} : \t 0.7441223832528181\n",
            "{'n_neighbors': 15} : \t 0.7249597423510467\n",
            "{'n_neighbors': 17} : \t 0.7360708534621578\n",
            "{'n_neighbors': 19} : \t 0.7397745571658615\n",
            "{'n_neighbors': 21} : \t 0.7169082125603865\n",
            "{'n_neighbors': 27} : \t 0.737842190016103\n",
            "\n",
            "n_features: 6\n",
            "{'n_neighbors': 5} : \t 0.7009661835748793\n",
            "{'n_neighbors': 7} : \t 0.7194847020933978\n",
            "{'n_neighbors': 9} : \t 0.7342995169082126\n",
            "{'n_neighbors': 11} : \t 0.7181964573268921\n",
            "{'n_neighbors': 13} : \t 0.7305958132045088\n",
            "{'n_neighbors': 15} : \t 0.7373590982286633\n",
            "{'n_neighbors': 17} : \t 0.7138486312399356\n",
            "{'n_neighbors': 19} : \t 0.7206119162640902\n",
            "{'n_neighbors': 21} : \t 0.7273752012882447\n",
            "{'n_neighbors': 27} : \t 0.7223832528180354\n",
            "\n",
            "n_features: 8\n",
            "{'n_neighbors': 5} : \t 0.7127214170692432\n",
            "{'n_neighbors': 7} : \t 0.7003220611916263\n",
            "{'n_neighbors': 9} : \t 0.715780998389694\n",
            "{'n_neighbors': 11} : \t 0.7293075684380033\n",
            "{'n_neighbors': 13} : \t 0.7342995169082125\n",
            "{'n_neighbors': 15} : \t 0.7212560386473429\n",
            "{'n_neighbors': 17} : \t 0.7219001610305958\n",
            "{'n_neighbors': 19} : \t 0.7169082125603864\n",
            "{'n_neighbors': 21} : \t 0.7243156199677938\n",
            "{'n_neighbors': 27} : \t 0.7112721417069243\n",
            "\n",
            "n_features: 10\n",
            "{'n_neighbors': 5} : \t 0.6979066022544284\n",
            "{'n_neighbors': 7} : \t 0.7077294685990337\n",
            "{'n_neighbors': 9} : \t 0.7003220611916263\n",
            "{'n_neighbors': 11} : \t 0.7169082125603865\n",
            "{'n_neighbors': 13} : \t 0.7101449275362319\n",
            "{'n_neighbors': 15} : \t 0.7088566827697262\n",
            "{'n_neighbors': 17} : \t 0.709500805152979\n",
            "{'n_neighbors': 19} : \t 0.7199677938808373\n",
            "{'n_neighbors': 21} : \t 0.7112721417069243\n",
            "{'n_neighbors': 27} : \t 0.6995169082125604\n",
            "\n",
            "n_features: 12\n",
            "{'n_neighbors': 5} : \t 0.701610305958132\n",
            "{'n_neighbors': 7} : \t 0.7003220611916263\n",
            "{'n_neighbors': 9} : \t 0.7114331723027375\n",
            "{'n_neighbors': 11} : \t 0.7169082125603865\n",
            "{'n_neighbors': 13} : \t 0.7101449275362318\n",
            "{'n_neighbors': 15} : \t 0.700805152979066\n",
            "{'n_neighbors': 17} : \t 0.7206119162640902\n",
            "{'n_neighbors': 19} : \t 0.7001610305958132\n",
            "{'n_neighbors': 21} : \t 0.7223832528180354\n",
            "{'n_neighbors': 27} : \t 0.7069243156199677\n",
            "\n",
            "n_features: 14\n",
            "{'n_neighbors': 5} : \t 0.6979066022544285\n",
            "{'n_neighbors': 7} : \t 0.6966183574879227\n",
            "{'n_neighbors': 9} : \t 0.7151368760064412\n",
            "{'n_neighbors': 11} : \t 0.7169082125603865\n",
            "{'n_neighbors': 13} : \t 0.7101449275362318\n",
            "{'n_neighbors': 15} : \t 0.7088566827697262\n",
            "{'n_neighbors': 17} : \t 0.7206119162640902\n",
            "{'n_neighbors': 19} : \t 0.7001610305958132\n",
            "{'n_neighbors': 21} : \t 0.7260869565217392\n",
            "{'n_neighbors': 27} : \t 0.7069243156199677\n",
            "\n",
            "n_features: 16\n",
            "{'n_neighbors': 5} : \t 0.7201288244766506\n",
            "{'n_neighbors': 7} : \t 0.7077294685990337\n",
            "{'n_neighbors': 9} : \t 0.7188405797101449\n",
            "{'n_neighbors': 11} : \t 0.733011272141707\n",
            "{'n_neighbors': 13} : \t 0.7262479871175522\n",
            "{'n_neighbors': 15} : \t 0.7175523349436392\n",
            "{'n_neighbors': 17} : \t 0.7293075684380033\n",
            "{'n_neighbors': 19} : \t 0.7125603864734298\n",
            "{'n_neighbors': 21} : \t 0.7384863123993558\n",
            "{'n_neighbors': 27} : \t 0.7069243156199677\n",
            "\n",
            "n_features: 18\n",
            "{'n_neighbors': 5} : \t 0.715780998389694\n",
            "{'n_neighbors': 7} : \t 0.7077294685990337\n",
            "{'n_neighbors': 9} : \t 0.7188405797101449\n",
            "{'n_neighbors': 11} : \t 0.7293075684380033\n",
            "{'n_neighbors': 13} : \t 0.729951690821256\n",
            "{'n_neighbors': 15} : \t 0.7175523349436392\n",
            "{'n_neighbors': 17} : \t 0.7336553945249598\n",
            "{'n_neighbors': 19} : \t 0.7125603864734298\n",
            "{'n_neighbors': 21} : \t 0.7384863123993558\n",
            "{'n_neighbors': 27} : \t 0.7069243156199677\n",
            "\n",
            "n_features: 20\n",
            "{'n_neighbors': 5} : \t 0.7120772946859903\n",
            "{'n_neighbors': 7} : \t 0.7077294685990337\n",
            "{'n_neighbors': 9} : \t 0.7188405797101449\n",
            "{'n_neighbors': 11} : \t 0.7293075684380033\n",
            "{'n_neighbors': 13} : \t 0.729951690821256\n",
            "{'n_neighbors': 15} : \t 0.7175523349436392\n",
            "{'n_neighbors': 17} : \t 0.7336553945249598\n",
            "{'n_neighbors': 19} : \t 0.7125603864734298\n",
            "{'n_neighbors': 21} : \t 0.7384863123993558\n",
            "{'n_neighbors': 27} : \t 0.7069243156199677\n",
            "\n",
            "n_features: 22\n",
            "{'n_neighbors': 5} : \t 0.7120772946859903\n",
            "{'n_neighbors': 7} : \t 0.7077294685990337\n",
            "{'n_neighbors': 9} : \t 0.7188405797101449\n",
            "{'n_neighbors': 11} : \t 0.733011272141707\n",
            "{'n_neighbors': 13} : \t 0.729951690821256\n",
            "{'n_neighbors': 15} : \t 0.7175523349436392\n",
            "{'n_neighbors': 17} : \t 0.7336553945249598\n",
            "{'n_neighbors': 19} : \t 0.7125603864734298\n",
            "{'n_neighbors': 21} : \t 0.7384863123993558\n",
            "{'n_neighbors': 27} : \t 0.7069243156199677\n",
            "\n",
            "Time executed:  2.865546941757202\n"
          ],
          "name": "stdout"
        }
      ]
    },
    {
      "cell_type": "code",
      "metadata": {
        "id": "KncAzT2jh_yT",
        "colab_type": "code",
        "outputId": "85348428-d1b3-444e-d178-397e04b4c7dd",
        "colab": {
          "base_uri": "https://localhost:8080/",
          "height": 102
        }
      },
      "source": [
        "print(\"Optimal knn classifier:\\t\", optimal_classifier.optimal_clf, \n",
        "      \"\\nwith PCA Components =\", features,\n",
        "      \"\\nand F1-micro accuracy score for cv: \\t\", optimal_classifier.best_score)"
      ],
      "execution_count": 0,
      "outputs": [
        {
          "output_type": "stream",
          "text": [
            "Optimal knn classifier:\t KNeighborsClassifier(algorithm='auto', leaf_size=30, metric='minkowski',\n",
            "                     metric_params=None, n_jobs=None, n_neighbors=13, p=2,\n",
            "                     weights='uniform') \n",
            "with PCA Components = 4 \n",
            "and F1-micro accuracy score for cv: \t 0.7441223832528181\n"
          ],
          "name": "stdout"
        }
      ]
    },
    {
      "cell_type": "code",
      "metadata": {
        "id": "d8buN6EE4l7f",
        "colab_type": "code",
        "outputId": "a9dfe1b4-e47c-4d1c-eca3-228b5961f013",
        "colab": {
          "base_uri": "https://localhost:8080/",
          "height": 306
        }
      },
      "source": [
        "# PCA(features) --> dataPCA[features] --> dataPCA[(features/2)-1]\n",
        "y_pred = optimal_classifier.predict(dataPCA[int(features/2)-1][1])\n",
        "# print(y_pred)\n",
        "# print(y_test)\n",
        "print(classification_report(y_test, y_pred))\n",
        "print(\"Ones in y_test: \\t\", np.sum([y_test==1]))\n",
        "print(\"Zeros in y_test: \\t\", np.sum([y_test==0]))\n",
        "top_score1_micro = optimal_classifier.score(dataPCA[int(features/2)-1][1], y_test)\n",
        "print(\"F1-micro accuracy score for Testset: \\t\", top_score1_micro)\n",
        "print()\n",
        "\n",
        "# No PCA\n",
        "knn_no_pca = KNeighborsClassifier(n_neighbors=optimal_classifier.optimal_clf.n_neighbors)\n",
        "knn_no_pca.fit(dataPCA[30][0], y_train_sampled[30])\n",
        "y_pred = knn_no_pca.predict(dataPCA[30][1])\n",
        "print(dataPCA[30][0].shape)\n",
        "print(\"Testset F1-micro accuracy score, No PCA, Oversampling: \\t\", knn_no_pca.score(dataPCA[30][1], y_test))\n",
        "\n",
        "# No preprocessing\n",
        "knn_no_pca = KNeighborsClassifier(n_neighbors=5)\n",
        "knn_no_pca.fit(X_train, y_train)\n",
        "y_pred = knn_no_pca.predict(X_test)\n",
        "print(X_train.shape)\n",
        "print(\"Testset F1-micro accuracy score, No Preprocessing: \\t\", knn_no_pca.score(X_test, y_test))"
      ],
      "execution_count": 0,
      "outputs": [
        {
          "output_type": "stream",
          "text": [
            "              precision    recall  f1-score   support\n",
            "\n",
            "           0       0.50      0.13      0.21        15\n",
            "           1       0.76      0.95      0.85        43\n",
            "\n",
            "    accuracy                           0.74        58\n",
            "   macro avg       0.63      0.54      0.53        58\n",
            "weighted avg       0.69      0.74      0.68        58\n",
            "\n",
            "Ones in y_test: \t 43\n",
            "Zeros in y_test: \t 15\n",
            "F1-micro accuracy score for Testset: \t 0.7413793103448276\n",
            "\n",
            "(266, 62)\n",
            "Testset F1-micro accuracy score, No PCA, Oversampling: \t 0.6896551724137931\n",
            "(229, 62)\n",
            "Testset F1-micro accuracy score, No Preprocessing: \t 0.7068965517241379\n"
          ],
          "name": "stdout"
        }
      ]
    },
    {
      "cell_type": "markdown",
      "metadata": {
        "id": "yjutIr8ofoWd",
        "colab_type": "text"
      },
      "source": [
        "Παρατηρούμε ότι αυξήσαμε κατά πολύ το recall του good (1), ενώ μειώσαμε κατά πολύ το recall του bad (0), εξαιτίας του ότι το oversampling έγινε πριν το cv,  με αποτέλεσμα το μοντέλο αυτό να προβλέπει κυρίως (1) και να μην είναι καθόλου ευέλικτος. Ωστόσο, βελτίωσε το f1_micro στο τεστ, διότι και εκεί οι (1) ειναι 3 φορές τα (0). "
      ]
    },
    {
      "cell_type": "markdown",
      "metadata": {
        "id": "aADWiBl3OhXK",
        "colab_type": "text"
      },
      "source": [
        "######F1-macro score"
      ]
    },
    {
      "cell_type": "code",
      "metadata": {
        "id": "0rMXr9S1OvVW",
        "colab_type": "code",
        "outputId": "6c5302ca-176c-4f34-d8db-e48ce34572a3",
        "colab": {
          "base_uri": "https://localhost:8080/",
          "height": 1000
        }
      },
      "source": [
        "import warnings\n",
        "warnings.filterwarnings('ignore')\n",
        "\n",
        "# Run all dataPCA for each grid parameter of KNN\n",
        "best_score_ = 0\n",
        "optimal_classifier = None\n",
        "# Time measure\n",
        "start_time = time.time()\n",
        "for i in range(0,len(dataPCA)-20):\n",
        "  data_tmp = dataPCA[i]\n",
        "  knn = gridSearchCV(KNeighborsClassifier(), [{\"n_neighbors\":[5,7,9,11,13,15,17,19,21,27]}], cv=10, scoring='macro')\n",
        "  knn.fit(data_tmp[0], y_train_sampled[i])\n",
        "  if (knn.best_score > best_score_):\n",
        "    best_score_ = knn.best_score\n",
        "    optimal_classifier = knn\n",
        "    features = data_tmp[2]\n",
        "  print(\"n_features: \" + str(data_tmp[2]))\n",
        "  knn.display_cv_results() \n",
        "print(\"Time executed: \", time.time() - start_time)"
      ],
      "execution_count": 0,
      "outputs": [
        {
          "output_type": "stream",
          "text": [
            "n_features: 2\n",
            "{'n_neighbors': 5} : \t 0.5692384304192804\n",
            "{'n_neighbors': 7} : \t 0.5608192132365608\n",
            "{'n_neighbors': 9} : \t 0.5540713983261769\n",
            "{'n_neighbors': 11} : \t 0.5358455551265822\n",
            "{'n_neighbors': 13} : \t 0.5634336669922841\n",
            "{'n_neighbors': 15} : \t 0.5531139185443265\n",
            "{'n_neighbors': 17} : \t 0.5395692766417213\n",
            "{'n_neighbors': 19} : \t 0.5373559523881651\n",
            "{'n_neighbors': 21} : \t 0.5506064823558553\n",
            "{'n_neighbors': 27} : \t 0.552805014400252\n",
            "\n",
            "n_features: 4\n",
            "{'n_neighbors': 5} : \t 0.6147701222191929\n",
            "{'n_neighbors': 7} : \t 0.5785356639575995\n",
            "{'n_neighbors': 9} : \t 0.6086832624170176\n",
            "{'n_neighbors': 11} : \t 0.5968137000436513\n",
            "{'n_neighbors': 13} : \t 0.612492139316924\n",
            "{'n_neighbors': 15} : \t 0.5834742436182038\n",
            "{'n_neighbors': 17} : \t 0.5927651698147054\n",
            "{'n_neighbors': 19} : \t 0.5786711671484299\n",
            "{'n_neighbors': 21} : \t 0.5572922248116703\n",
            "{'n_neighbors': 27} : \t 0.5818963237714193\n",
            "\n",
            "n_features: 6\n",
            "{'n_neighbors': 5} : \t 0.5757780120924314\n",
            "{'n_neighbors': 7} : \t 0.580462958506603\n",
            "{'n_neighbors': 9} : \t 0.5857552980212983\n",
            "{'n_neighbors': 11} : \t 0.5761568512577138\n",
            "{'n_neighbors': 13} : \t 0.5821674838491808\n",
            "{'n_neighbors': 15} : \t 0.5925938668150186\n",
            "{'n_neighbors': 17} : \t 0.5607959847458529\n",
            "{'n_neighbors': 19} : \t 0.570224286678234\n",
            "{'n_neighbors': 21} : \t 0.5693770012782761\n",
            "{'n_neighbors': 27} : \t 0.5679862413173533\n",
            "\n",
            "n_features: 8\n",
            "{'n_neighbors': 5} : \t 0.5927998372776732\n",
            "{'n_neighbors': 7} : \t 0.5625138554149192\n",
            "{'n_neighbors': 9} : \t 0.5652788100641601\n",
            "{'n_neighbors': 11} : \t 0.5848578651875279\n",
            "{'n_neighbors': 13} : \t 0.585769571661323\n",
            "{'n_neighbors': 15} : \t 0.576958600223306\n",
            "{'n_neighbors': 17} : \t 0.5666371044105021\n",
            "{'n_neighbors': 19} : \t 0.5528062315083202\n",
            "{'n_neighbors': 21} : \t 0.5668893032801792\n",
            "{'n_neighbors': 27} : \t 0.5501017793128434\n",
            "\n",
            "n_features: 10\n",
            "{'n_neighbors': 5} : \t 0.5842799792642226\n",
            "{'n_neighbors': 7} : \t 0.5695917379153349\n",
            "{'n_neighbors': 9} : \t 0.5545708786643215\n",
            "{'n_neighbors': 11} : \t 0.5768839743609501\n",
            "{'n_neighbors': 13} : \t 0.5693468618175606\n",
            "{'n_neighbors': 15} : \t 0.5619542865524096\n",
            "{'n_neighbors': 17} : \t 0.5556657322464145\n",
            "{'n_neighbors': 19} : \t 0.5591739225029245\n",
            "{'n_neighbors': 21} : \t 0.5638477653800595\n",
            "{'n_neighbors': 27} : \t 0.534034287076546\n",
            "\n",
            "n_features: 12\n",
            "{'n_neighbors': 5} : \t 0.5850489756306125\n",
            "{'n_neighbors': 7} : \t 0.562562791022955\n",
            "{'n_neighbors': 9} : \t 0.5643205141357062\n",
            "{'n_neighbors': 11} : \t 0.5770373130940103\n",
            "{'n_neighbors': 13} : \t 0.5695865575487424\n",
            "{'n_neighbors': 15} : \t 0.5555844148714424\n",
            "{'n_neighbors': 17} : \t 0.5704579137491222\n",
            "{'n_neighbors': 19} : \t 0.5493222060868763\n",
            "{'n_neighbors': 21} : \t 0.5754037021217548\n",
            "{'n_neighbors': 27} : \t 0.5530733532920944\n",
            "\n",
            "n_features: 14\n",
            "{'n_neighbors': 5} : \t 0.5825994017455634\n",
            "{'n_neighbors': 7} : \t 0.5593547709728297\n",
            "{'n_neighbors': 9} : \t 0.5676078517980438\n",
            "{'n_neighbors': 11} : \t 0.5764543594622762\n",
            "{'n_neighbors': 13} : \t 0.5695865575487424\n",
            "{'n_neighbors': 15} : \t 0.5607913846653515\n",
            "{'n_neighbors': 17} : \t 0.5704579137491222\n",
            "{'n_neighbors': 19} : \t 0.5493222060868763\n",
            "{'n_neighbors': 21} : \t 0.579103183336716\n",
            "{'n_neighbors': 27} : \t 0.5530733532920944\n",
            "\n",
            "n_features: 16\n",
            "{'n_neighbors': 5} : \t 0.5991345975561354\n",
            "{'n_neighbors': 7} : \t 0.5697729054699116\n",
            "{'n_neighbors': 9} : \t 0.5709246569441173\n",
            "{'n_neighbors': 11} : \t 0.5874483036457826\n",
            "{'n_neighbors': 13} : \t 0.5797153104062954\n",
            "{'n_neighbors': 15} : \t 0.5652879633554786\n",
            "{'n_neighbors': 17} : \t 0.5746858549255929\n",
            "{'n_neighbors': 19} : \t 0.5588252297455257\n",
            "{'n_neighbors': 21} : \t 0.5885629897084506\n",
            "{'n_neighbors': 27} : \t 0.5530733532920944\n",
            "\n",
            "n_features: 18\n",
            "{'n_neighbors': 5} : \t 0.5974078708294087\n",
            "{'n_neighbors': 7} : \t 0.5697729054699116\n",
            "{'n_neighbors': 9} : \t 0.5709246569441173\n",
            "{'n_neighbors': 11} : \t 0.5847144521314432\n",
            "{'n_neighbors': 13} : \t 0.5832552876704107\n",
            "{'n_neighbors': 15} : \t 0.5652879633554786\n",
            "{'n_neighbors': 17} : \t 0.5766186280348365\n",
            "{'n_neighbors': 19} : \t 0.5588252297455257\n",
            "{'n_neighbors': 21} : \t 0.5885629897084506\n",
            "{'n_neighbors': 27} : \t 0.5530733532920944\n",
            "\n",
            "n_features: 20\n",
            "{'n_neighbors': 5} : \t 0.5941998507792834\n",
            "{'n_neighbors': 7} : \t 0.5697729054699116\n",
            "{'n_neighbors': 9} : \t 0.5709246569441173\n",
            "{'n_neighbors': 11} : \t 0.5847144521314432\n",
            "{'n_neighbors': 13} : \t 0.5832552876704107\n",
            "{'n_neighbors': 15} : \t 0.5652879633554786\n",
            "{'n_neighbors': 17} : \t 0.5766186280348365\n",
            "{'n_neighbors': 19} : \t 0.5588252297455257\n",
            "{'n_neighbors': 21} : \t 0.5885629897084506\n",
            "{'n_neighbors': 27} : \t 0.5530733532920944\n",
            "\n",
            "n_features: 22\n",
            "{'n_neighbors': 5} : \t 0.5941998507792834\n",
            "{'n_neighbors': 7} : \t 0.5697729054699116\n",
            "{'n_neighbors': 9} : \t 0.5709246569441173\n",
            "{'n_neighbors': 11} : \t 0.5881331057078809\n",
            "{'n_neighbors': 13} : \t 0.5832552876704107\n",
            "{'n_neighbors': 15} : \t 0.5652879633554786\n",
            "{'n_neighbors': 17} : \t 0.5766186280348365\n",
            "{'n_neighbors': 19} : \t 0.5588252297455257\n",
            "{'n_neighbors': 21} : \t 0.5885629897084506\n",
            "{'n_neighbors': 27} : \t 0.5530733532920944\n",
            "\n",
            "Time executed:  2.8781611919403076\n"
          ],
          "name": "stdout"
        }
      ]
    },
    {
      "cell_type": "code",
      "metadata": {
        "id": "SSJS0izwOwYH",
        "colab_type": "code",
        "outputId": "dda36f76-764d-46db-c6c8-32d50c43e35d",
        "colab": {
          "base_uri": "https://localhost:8080/",
          "height": 102
        }
      },
      "source": [
        "print(\"Optimal knn classifier:\\t\", optimal_classifier.optimal_clf, \n",
        "      \"\\nwith PCA Components =\", features,\n",
        "      \"\\nand F1-macro accuracy score for cv: \\t\", optimal_classifier.best_score)"
      ],
      "execution_count": 0,
      "outputs": [
        {
          "output_type": "stream",
          "text": [
            "Optimal knn classifier:\t KNeighborsClassifier(algorithm='auto', leaf_size=30, metric='minkowski',\n",
            "                     metric_params=None, n_jobs=None, n_neighbors=5, p=2,\n",
            "                     weights='uniform') \n",
            "with PCA Components = 4 \n",
            "and F1-macro accuracy score for cv: \t 0.6147701222191929\n"
          ],
          "name": "stdout"
        }
      ]
    },
    {
      "cell_type": "code",
      "metadata": {
        "id": "gduuPNw4Oy1b",
        "colab_type": "code",
        "outputId": "be4a5c91-a532-4c58-bdfa-01507d92198e",
        "colab": {
          "base_uri": "https://localhost:8080/",
          "height": 306
        }
      },
      "source": [
        "# PCA(features) --> dataPCA[features] --> dataPCA[(features/2)-1]\n",
        "y_pred = optimal_classifier.predict(dataPCA[int(features/2)-1][1])\n",
        "# print(y_pred)\n",
        "# print(y_test)\n",
        "print(classification_report(y_test, y_pred))\n",
        "print(\"Ones in y_test: \\t\", np.sum([y_test==1]))\n",
        "print(\"Zeros in y_test: \\t\", np.sum([y_test==0]))\n",
        "top_score1_macro = optimal_classifier.score(dataPCA[int(features/2)-1][1], y_test)\n",
        "print(\"F1-macro accuracy score for Testset: \\t\", top_score1_macro)\n",
        "print()\n",
        "\n",
        "# No PCA\n",
        "knn_no_pca = KNeighborsClassifier(n_neighbors=optimal_classifier.optimal_clf.n_neighbors)\n",
        "knn_no_pca.fit(dataPCA[30][0], y_train_sampled[30])\n",
        "y_pred = knn_no_pca.predict(dataPCA[30][1])\n",
        "print(dataPCA[30][0].shape)\n",
        "y_pred = knn_no_pca.predict(dataPCA[30][1])\n",
        "print(\"Testset F1-macro accuracy score, No PCA, Oversampling: \\t\",  precision_recall_fscore_support(y_test, y_pred, average='macro')[2])\n",
        "\n",
        "# No preprocessing\n",
        "knn_no_pca = KNeighborsClassifier(n_neighbors=5)\n",
        "knn_no_pca.fit(X_train, y_train)\n",
        "y_pred = knn_no_pca.predict(X_test)\n",
        "print(X_train.shape)\n",
        "y_pred = knn_no_pca.predict(X_test)\n",
        "print(\"Testset F1-macro accuracy score, No Preprocessing: \\t\", precision_recall_fscore_support(y_test, y_pred, average='macro')[2])"
      ],
      "execution_count": 0,
      "outputs": [
        {
          "output_type": "stream",
          "text": [
            "              precision    recall  f1-score   support\n",
            "\n",
            "           0       0.50      0.13      0.21        15\n",
            "           1       0.76      0.95      0.85        43\n",
            "\n",
            "    accuracy                           0.74        58\n",
            "   macro avg       0.63      0.54      0.53        58\n",
            "weighted avg       0.69      0.74      0.68        58\n",
            "\n",
            "Ones in y_test: \t 43\n",
            "Zeros in y_test: \t 15\n",
            "F1-macro accuracy score for Testset: \t 0.5279435702658709\n",
            "\n",
            "(266, 62)\n",
            "Testset F1-macro accuracy score, No PCA, Oversampling: \t 0.4547008547008547\n",
            "(229, 62)\n",
            "Testset F1-macro accuracy score, No Preprocessing: \t 0.53903693314633\n"
          ],
          "name": "stdout"
        }
      ]
    },
    {
      "cell_type": "markdown",
      "metadata": {
        "id": "fYC0QA02vM5r",
        "colab_type": "text"
      },
      "source": [
        "Όπως βλέπουμε, καταφέραμε να βελτιώσουμε το f1_micro κατα 4% από την default επιλογή του knn σε score που είναι πολύ κοντά και με το score του cv. Ωστόσο, το f1_macro έπεσε ελάχιστα κατά 1% από την default, ενώ το score στο cv ήταν 10% πάνω. Έτσι, καταλαβαίνουμε ότι το μοντέλο αυτό δεν είναι αρκετά σταθερό, αφού κατάφερε να βελτιστοποιήσει ικανοποιητικά το f1_micro αλλά καθόλου το f1_macro. Τέλος, αξίζει να σημειωθεί ότι το μοντέλο αυτό επιλέγει πάντα το μικρότερο διαθέσιμο k ως βέλτιστο, όταν αποφασίζει με βάση το f1_macro, σε αντίθεση με όταν αποφασίζει με βάση το f1_micro, γεγονός που εξηγεί το αδυναμία αυτού του μοντέλου."
      ]
    },
    {
      "cell_type": "markdown",
      "metadata": {
        "id": "ImSUMdomhuUp",
        "colab_type": "text"
      },
      "source": [
        "##### **GridSearch using KFold Cross-Validation and a sampling method**"
      ]
    },
    {
      "cell_type": "code",
      "metadata": {
        "id": "9GdVB0r4F61k",
        "colab_type": "code",
        "colab": {}
      },
      "source": [
        "from imblearn.over_sampling import SMOTE \n",
        "\n",
        "#  Synthetic Minority Oversampling Technique (SMOTE)\n",
        "def SMOTE_oversampling(X_train_pca, y_train, ratio):\n",
        "  # Returns a tuple (X_train_resampled, y_train_resampled)\n",
        "\n",
        "  sm = SMOTE(sampling_strategy=ratio, random_state=32) \n",
        "\n",
        "  # Oversampling\n",
        "  X__train_resampled, y_train_resampled = sm.fit_sample(X_train_pca, y_train)\n",
        "\n",
        "  return (X__train_resampled, y_train_resampled)"
      ],
      "execution_count": 0,
      "outputs": []
    },
    {
      "cell_type": "code",
      "metadata": {
        "id": "9kJnmtKZGAqE",
        "colab_type": "code",
        "colab": {}
      },
      "source": [
        "from sklearn.metrics import precision_recall_fscore_support\n",
        "from sklearn.metrics import accuracy_score\n",
        "from sklearn.metrics import classification_report\n",
        "from sklearn.base import clone\n",
        "from sklearn.base import BaseEstimator, ClassifierMixin\n",
        "\n",
        "class gridSearchCV_oversampling(BaseEstimator, ClassifierMixin):\n",
        "  # GridSearch classifier to find the optimized hyperparameters of the given classifier using KFolding Cross-Validation\n",
        "  # Applies Oversampling on cv training set\n",
        "  def __init__(self, clf, param_grid, cv, sampling, scoring='micro'):\n",
        "    ''' \n",
        "        clf:          an sklearn classifier for grid of paramaters\n",
        "        param_grid:   a list of dicts of parameters\n",
        "        cv:           an integer, KFold Cross-Validation\n",
        "        sampling:     a samling method that will be used on each training set in cv\n",
        "        scoring:      a string, (\"f1_micro, \"f1_macro\")\n",
        "    '''\n",
        "    self.clf = []\n",
        "    self.param_grid = unpackParams(param_grid) # list of dicts\n",
        "    self.cv = cv\n",
        "    self.sampling = sampling\n",
        "    self.optimal_clf = None\n",
        "    self.best_params_ = None\n",
        "    self.cv_results_ = {}\n",
        "    self.best_score = None\n",
        "    self.scoring = scoring\n",
        "\n",
        "    for params in self.param_grid:\n",
        "      # Clone initial classifier object in order to create new ones\n",
        "      clf_tmp = clone(clf)\n",
        "      self.clf.append(clf_tmp.set_params(**params))\n",
        "\n",
        "\n",
        "  def display_cv_results(self):\n",
        "    for key in self.cv_results_:\n",
        "      print(key, \": \\t\", self.cv_results_[key])\n",
        "    print()\n",
        "\n",
        "\n",
        "  def fit(self, X_train, y_train): \n",
        "    X, y = split_train(X_train, y_train, self.cv) \n",
        "\n",
        "    # Find the optimal classifier\n",
        "    clfs_scores = []\n",
        "    for j in range(len(self.clf)):\n",
        "      classifier_scores = []\n",
        "      # Running fit for KFold Cross Validation and find the optimal parameters using f1-micro accuracy\n",
        "      for i in range(self.cv):\n",
        "        Xcv = X.copy()\n",
        "        ycv = y.copy()\n",
        "        X_test = Xcv[i]\n",
        "        y_test = ycv[i]\n",
        "\n",
        "        # Delete ith list for the testset and let the rest lists for the trainset\n",
        "        del Xcv[i]\n",
        "        del ycv[i]\n",
        "\n",
        "        # Sampling\n",
        "        Xcv_sampled, ycv_sampled = self.sampling(concatCV(Xcv), concatCV(ycv))\n",
        "\n",
        "        # Fit sklearn classifier      \n",
        "        self.clf[j].fit(Xcv_sampled, ycv_sampled)\n",
        "\n",
        "        # Scoring\n",
        "        y_pred = self.clf[j].predict(X_test)\n",
        "        score = precision_recall_fscore_support(y_test, y_pred, average=self.scoring)[2] \n",
        "        classifier_scores.append(score)\n",
        "\n",
        "      # Compute mean F1-micro score for each classifier for all cross-validation sets\n",
        "      clfs_scores.append(np.mean(classifier_scores))\n",
        "      self.cv_results_[str(self.param_grid[j])] = clfs_scores[j]\n",
        "\n",
        "    # Select the optimal classifier, parameters and best score\n",
        "    self.best_score = np.max(clfs_scores)\n",
        "    optimal_clf_index = np.argmax(clfs_scores)\n",
        "    self.optimal_clf = self.clf[optimal_clf_index]\n",
        "    self.best_params_ = self.param_grid[optimal_clf_index]\n",
        "\n",
        "    return self\n",
        "\n",
        "\n",
        "  def predict(self, X_test):\n",
        "    return self.optimal_clf.predict(X_test)\n",
        "\n",
        "\n",
        "  def score(self, X_test, y_true):\n",
        "    y_pred = self.predict(X_test)\n",
        "    return precision_recall_fscore_support(y_test, y_pred, average=self.scoring)[2] "
      ],
      "execution_count": 0,
      "outputs": []
    },
    {
      "cell_type": "markdown",
      "metadata": {
        "id": "os_SfAuWQ3Ru",
        "colab_type": "text"
      },
      "source": [
        "###### F1-micro score"
      ]
    },
    {
      "cell_type": "code",
      "metadata": {
        "id": "6yvYwlM8Ibep",
        "colab_type": "code",
        "outputId": "47158737-635c-46d6-fbbc-a2193b393b7e",
        "colab": {
          "base_uri": "https://localhost:8080/",
          "height": 1000
        }
      },
      "source": [
        "# SMOTE Oversampling on cv\n",
        "smoter = lambda X_train, y_train : SMOTE_oversampling(X_train, y_train, 0.7)\n",
        "\n",
        "# Run all initial_data_PCA for each grid parameter of KNN\n",
        "best_score_ = 0\n",
        "optimal_classifier = None\n",
        "start_time = time.time()\n",
        "for i in range(0,len(initial_data_PCA)):\n",
        "  data_tmp = initial_data_PCA[i]\n",
        "  knn = gridSearchCV_oversampling(KNeighborsClassifier(), [{\"n_neighbors\":[1,3,5,7,9,11,15,17,21,27,30,33,35,39,41,45,51,55,61,65,70]}], \n",
        "                                  10, smoter)\n",
        "  knn.fit(data_tmp[0], y_train)\n",
        "  if (knn.best_score > best_score_):\n",
        "    best_score_ = knn.best_score\n",
        "    optimal_classifier = knn\n",
        "    features = data_tmp[2]\n",
        "  print(\"n_features: \" + str(data_tmp[2]))\n",
        "  knn.display_cv_results() \n",
        "print(\"Time executed: \", time.time() - start_time)"
      ],
      "execution_count": 0,
      "outputs": [
        {
          "output_type": "stream",
          "text": [
            "n_features: 2\n",
            "{'n_neighbors': 1} : \t 0.6636363636363637\n",
            "{'n_neighbors': 3} : \t 0.6851778656126482\n",
            "{'n_neighbors': 5} : \t 0.6940711462450593\n",
            "{'n_neighbors': 7} : \t 0.6936758893280632\n",
            "{'n_neighbors': 9} : \t 0.7112648221343872\n",
            "{'n_neighbors': 11} : \t 0.7241106719367588\n",
            "{'n_neighbors': 15} : \t 0.7415019762845849\n",
            "{'n_neighbors': 17} : \t 0.7460474308300394\n",
            "{'n_neighbors': 21} : \t 0.7634387351778655\n",
            "{'n_neighbors': 27} : \t 0.767786561264822\n",
            "{'n_neighbors': 30} : \t 0.7675889328063242\n",
            "{'n_neighbors': 33} : \t 0.7719367588932806\n",
            "{'n_neighbors': 35} : \t 0.7810276679841899\n",
            "{'n_neighbors': 39} : \t 0.7766798418972332\n",
            "{'n_neighbors': 41} : \t 0.7810276679841897\n",
            "{'n_neighbors': 45} : \t 0.7897233201581028\n",
            "{'n_neighbors': 51} : \t 0.8027667984189722\n",
            "{'n_neighbors': 55} : \t 0.7897233201581028\n",
            "{'n_neighbors': 61} : \t 0.7986166007905138\n",
            "{'n_neighbors': 65} : \t 0.7853754940711462\n",
            "{'n_neighbors': 70} : \t 0.750592885375494\n",
            "\n",
            "n_features: 4\n",
            "{'n_neighbors': 1} : \t 0.6594861660079051\n",
            "{'n_neighbors': 3} : \t 0.6988142292490119\n",
            "{'n_neighbors': 5} : \t 0.6814229249011857\n",
            "{'n_neighbors': 7} : \t 0.6855731225296442\n",
            "{'n_neighbors': 9} : \t 0.7029644268774703\n",
            "{'n_neighbors': 11} : \t 0.7203557312252964\n",
            "{'n_neighbors': 15} : \t 0.7594861660079051\n",
            "{'n_neighbors': 17} : \t 0.7768774703557313\n",
            "{'n_neighbors': 21} : \t 0.7857707509881423\n",
            "{'n_neighbors': 27} : \t 0.7942687747035573\n",
            "{'n_neighbors': 30} : \t 0.7944664031620554\n",
            "{'n_neighbors': 33} : \t 0.7901185770750987\n",
            "{'n_neighbors': 35} : \t 0.7944664031620554\n",
            "{'n_neighbors': 39} : \t 0.7855731225296442\n",
            "{'n_neighbors': 41} : \t 0.7897233201581028\n",
            "{'n_neighbors': 45} : \t 0.7984189723320159\n",
            "{'n_neighbors': 51} : \t 0.7812252964426877\n",
            "{'n_neighbors': 55} : \t 0.7814229249011857\n",
            "{'n_neighbors': 61} : \t 0.7857707509881423\n",
            "{'n_neighbors': 65} : \t 0.7903162055335968\n",
            "{'n_neighbors': 70} : \t 0.7770750988142292\n",
            "\n",
            "n_features: 6\n",
            "{'n_neighbors': 1} : \t 0.6899209486166008\n",
            "{'n_neighbors': 3} : \t 0.6681818181818182\n",
            "{'n_neighbors': 5} : \t 0.667786561264822\n",
            "{'n_neighbors': 7} : \t 0.7027667984189724\n",
            "{'n_neighbors': 9} : \t 0.7114624505928854\n",
            "{'n_neighbors': 11} : \t 0.7507905138339921\n",
            "{'n_neighbors': 15} : \t 0.7725296442687747\n",
            "{'n_neighbors': 17} : \t 0.7814229249011858\n",
            "{'n_neighbors': 21} : \t 0.7812252964426877\n",
            "{'n_neighbors': 27} : \t 0.7857707509881423\n",
            "{'n_neighbors': 30} : \t 0.7679841897233202\n",
            "{'n_neighbors': 33} : \t 0.7679841897233202\n",
            "{'n_neighbors': 35} : \t 0.7592885375494072\n",
            "{'n_neighbors': 39} : \t 0.7592885375494071\n",
            "{'n_neighbors': 41} : \t 0.7549407114624506\n",
            "{'n_neighbors': 45} : \t 0.7636363636363636\n",
            "{'n_neighbors': 51} : \t 0.7679841897233202\n",
            "{'n_neighbors': 55} : \t 0.7814229249011857\n",
            "{'n_neighbors': 61} : \t 0.7770750988142292\n",
            "{'n_neighbors': 65} : \t 0.7903162055335968\n",
            "{'n_neighbors': 70} : \t 0.7727272727272727\n",
            "\n",
            "n_features: 8\n",
            "{'n_neighbors': 1} : \t 0.6723320158102767\n",
            "{'n_neighbors': 3} : \t 0.6681818181818181\n",
            "{'n_neighbors': 5} : \t 0.6855731225296442\n",
            "{'n_neighbors': 7} : \t 0.6899209486166008\n",
            "{'n_neighbors': 9} : \t 0.7027667984189723\n",
            "{'n_neighbors': 11} : \t 0.7420948616600789\n",
            "{'n_neighbors': 15} : \t 0.7638339920948616\n",
            "{'n_neighbors': 17} : \t 0.7855731225296443\n",
            "{'n_neighbors': 21} : \t 0.7679841897233202\n",
            "{'n_neighbors': 27} : \t 0.7723320158102766\n",
            "{'n_neighbors': 30} : \t 0.7766798418972332\n",
            "{'n_neighbors': 33} : \t 0.7766798418972332\n",
            "{'n_neighbors': 35} : \t 0.7679841897233202\n",
            "{'n_neighbors': 39} : \t 0.7636363636363636\n",
            "{'n_neighbors': 41} : \t 0.7592885375494071\n",
            "{'n_neighbors': 45} : \t 0.7855731225296443\n",
            "{'n_neighbors': 51} : \t 0.7770750988142292\n",
            "{'n_neighbors': 55} : \t 0.7814229249011857\n",
            "{'n_neighbors': 61} : \t 0.7859683794466401\n",
            "{'n_neighbors': 65} : \t 0.7859683794466402\n",
            "{'n_neighbors': 70} : \t 0.7814229249011857\n",
            "\n",
            "n_features: 10\n",
            "{'n_neighbors': 1} : \t 0.6594861660079051\n",
            "{'n_neighbors': 3} : \t 0.6596837944664032\n",
            "{'n_neighbors': 5} : \t 0.6636363636363637\n",
            "{'n_neighbors': 7} : \t 0.6853754940711463\n",
            "{'n_neighbors': 9} : \t 0.7156126482213437\n",
            "{'n_neighbors': 11} : \t 0.7505928853754942\n",
            "{'n_neighbors': 15} : \t 0.7723320158102767\n",
            "{'n_neighbors': 17} : \t 0.7721343873517786\n",
            "{'n_neighbors': 21} : \t 0.7942687747035573\n",
            "{'n_neighbors': 27} : \t 0.7723320158102767\n",
            "{'n_neighbors': 30} : \t 0.7766798418972332\n",
            "{'n_neighbors': 33} : \t 0.7636363636363636\n",
            "{'n_neighbors': 35} : \t 0.7723320158102767\n",
            "{'n_neighbors': 39} : \t 0.7810276679841897\n",
            "{'n_neighbors': 41} : \t 0.7679841897233202\n",
            "{'n_neighbors': 45} : \t 0.7855731225296443\n",
            "{'n_neighbors': 51} : \t 0.7814229249011857\n",
            "{'n_neighbors': 55} : \t 0.7857707509881423\n",
            "{'n_neighbors': 61} : \t 0.7857707509881423\n",
            "{'n_neighbors': 65} : \t 0.7903162055335968\n",
            "{'n_neighbors': 70} : \t 0.7770750988142292\n",
            "\n",
            "n_features: 12\n",
            "{'n_neighbors': 1} : \t 0.650790513833992\n",
            "{'n_neighbors': 3} : \t 0.6551383399209485\n",
            "{'n_neighbors': 5} : \t 0.6549407114624506\n",
            "{'n_neighbors': 7} : \t 0.6897233201581028\n",
            "{'n_neighbors': 9} : \t 0.7069169960474307\n",
            "{'n_neighbors': 11} : \t 0.7418972332015811\n",
            "{'n_neighbors': 15} : \t 0.750395256916996\n",
            "{'n_neighbors': 17} : \t 0.7721343873517788\n",
            "{'n_neighbors': 21} : \t 0.7768774703557312\n",
            "{'n_neighbors': 27} : \t 0.7636363636363637\n",
            "{'n_neighbors': 30} : \t 0.7462450592885376\n",
            "{'n_neighbors': 33} : \t 0.7636363636363636\n",
            "{'n_neighbors': 35} : \t 0.7636363636363636\n",
            "{'n_neighbors': 39} : \t 0.7766798418972332\n",
            "{'n_neighbors': 41} : \t 0.7636363636363637\n",
            "{'n_neighbors': 45} : \t 0.7810276679841898\n",
            "{'n_neighbors': 51} : \t 0.7814229249011857\n",
            "{'n_neighbors': 55} : \t 0.7901185770750987\n",
            "{'n_neighbors': 61} : \t 0.7901185770750987\n",
            "{'n_neighbors': 65} : \t 0.8033596837944664\n",
            "{'n_neighbors': 70} : \t 0.7857707509881422\n",
            "\n",
            "n_features: 14\n",
            "{'n_neighbors': 1} : \t 0.6551383399209485\n",
            "{'n_neighbors': 3} : \t 0.6507905138339921\n",
            "{'n_neighbors': 5} : \t 0.6549407114624506\n",
            "{'n_neighbors': 7} : \t 0.6810276679841898\n",
            "{'n_neighbors': 9} : \t 0.7069169960474307\n",
            "{'n_neighbors': 11} : \t 0.7418972332015811\n",
            "{'n_neighbors': 15} : \t 0.7549407114624506\n",
            "{'n_neighbors': 17} : \t 0.7721343873517786\n",
            "{'n_neighbors': 21} : \t 0.7768774703557312\n",
            "{'n_neighbors': 27} : \t 0.7679841897233202\n",
            "{'n_neighbors': 30} : \t 0.7505928853754942\n",
            "{'n_neighbors': 33} : \t 0.7592885375494072\n",
            "{'n_neighbors': 35} : \t 0.7592885375494071\n",
            "{'n_neighbors': 39} : \t 0.7810276679841898\n",
            "{'n_neighbors': 41} : \t 0.759090909090909\n",
            "{'n_neighbors': 45} : \t 0.7810276679841898\n",
            "{'n_neighbors': 51} : \t 0.7857707509881423\n",
            "{'n_neighbors': 55} : \t 0.7901185770750987\n",
            "{'n_neighbors': 61} : \t 0.7944664031620553\n",
            "{'n_neighbors': 65} : \t 0.8033596837944664\n",
            "{'n_neighbors': 70} : \t 0.7857707509881422\n",
            "\n",
            "n_features: 16\n",
            "{'n_neighbors': 1} : \t 0.6551383399209485\n",
            "{'n_neighbors': 3} : \t 0.6507905138339921\n",
            "{'n_neighbors': 5} : \t 0.6592885375494072\n",
            "{'n_neighbors': 7} : \t 0.6853754940711463\n",
            "{'n_neighbors': 9} : \t 0.7025691699604744\n",
            "{'n_neighbors': 11} : \t 0.742094861660079\n",
            "{'n_neighbors': 15} : \t 0.7549407114624506\n",
            "{'n_neighbors': 17} : \t 0.7721343873517786\n",
            "{'n_neighbors': 21} : \t 0.7725296442687746\n",
            "{'n_neighbors': 27} : \t 0.7679841897233202\n",
            "{'n_neighbors': 30} : \t 0.7549407114624507\n",
            "{'n_neighbors': 33} : \t 0.7592885375494072\n",
            "{'n_neighbors': 35} : \t 0.7636363636363636\n",
            "{'n_neighbors': 39} : \t 0.7764822134387351\n",
            "{'n_neighbors': 41} : \t 0.759090909090909\n",
            "{'n_neighbors': 45} : \t 0.7764822134387351\n",
            "{'n_neighbors': 51} : \t 0.7814229249011857\n",
            "{'n_neighbors': 55} : \t 0.7901185770750987\n",
            "{'n_neighbors': 61} : \t 0.7901185770750987\n",
            "{'n_neighbors': 65} : \t 0.7990118577075098\n",
            "{'n_neighbors': 70} : \t 0.7857707509881422\n",
            "\n",
            "n_features: 18\n",
            "{'n_neighbors': 1} : \t 0.6551383399209485\n",
            "{'n_neighbors': 3} : \t 0.642094861660079\n",
            "{'n_neighbors': 5} : \t 0.6592885375494072\n",
            "{'n_neighbors': 7} : \t 0.6810276679841897\n",
            "{'n_neighbors': 9} : \t 0.6982213438735178\n",
            "{'n_neighbors': 11} : \t 0.7377470355731226\n",
            "{'n_neighbors': 15} : \t 0.7592885375494072\n",
            "{'n_neighbors': 17} : \t 0.7764822134387351\n",
            "{'n_neighbors': 21} : \t 0.7725296442687746\n",
            "{'n_neighbors': 27} : \t 0.7679841897233202\n",
            "{'n_neighbors': 30} : \t 0.7549407114624507\n",
            "{'n_neighbors': 33} : \t 0.7592885375494072\n",
            "{'n_neighbors': 35} : \t 0.7592885375494071\n",
            "{'n_neighbors': 39} : \t 0.7764822134387351\n",
            "{'n_neighbors': 41} : \t 0.759090909090909\n",
            "{'n_neighbors': 45} : \t 0.7764822134387351\n",
            "{'n_neighbors': 51} : \t 0.7857707509881423\n",
            "{'n_neighbors': 55} : \t 0.7901185770750987\n",
            "{'n_neighbors': 61} : \t 0.7946640316205532\n",
            "{'n_neighbors': 65} : \t 0.7990118577075098\n",
            "{'n_neighbors': 70} : \t 0.7857707509881422\n",
            "\n",
            "n_features: 20\n",
            "{'n_neighbors': 1} : \t 0.6551383399209485\n",
            "{'n_neighbors': 3} : \t 0.642094861660079\n",
            "{'n_neighbors': 5} : \t 0.6592885375494072\n",
            "{'n_neighbors': 7} : \t 0.6810276679841897\n",
            "{'n_neighbors': 9} : \t 0.6982213438735178\n",
            "{'n_neighbors': 11} : \t 0.7377470355731226\n",
            "{'n_neighbors': 15} : \t 0.7592885375494072\n",
            "{'n_neighbors': 17} : \t 0.7764822134387351\n",
            "{'n_neighbors': 21} : \t 0.7681818181818181\n",
            "{'n_neighbors': 27} : \t 0.7679841897233202\n",
            "{'n_neighbors': 30} : \t 0.7549407114624507\n",
            "{'n_neighbors': 33} : \t 0.7592885375494072\n",
            "{'n_neighbors': 35} : \t 0.7592885375494071\n",
            "{'n_neighbors': 39} : \t 0.7764822134387351\n",
            "{'n_neighbors': 41} : \t 0.759090909090909\n",
            "{'n_neighbors': 45} : \t 0.7764822134387351\n",
            "{'n_neighbors': 51} : \t 0.7857707509881423\n",
            "{'n_neighbors': 55} : \t 0.7901185770750987\n",
            "{'n_neighbors': 61} : \t 0.7946640316205532\n",
            "{'n_neighbors': 65} : \t 0.7990118577075098\n",
            "{'n_neighbors': 70} : \t 0.7857707509881422\n",
            "\n",
            "n_features: 22\n",
            "{'n_neighbors': 1} : \t 0.6551383399209485\n",
            "{'n_neighbors': 3} : \t 0.642094861660079\n",
            "{'n_neighbors': 5} : \t 0.6592885375494072\n",
            "{'n_neighbors': 7} : \t 0.6810276679841897\n",
            "{'n_neighbors': 9} : \t 0.6982213438735178\n",
            "{'n_neighbors': 11} : \t 0.7377470355731226\n",
            "{'n_neighbors': 15} : \t 0.7592885375494072\n",
            "{'n_neighbors': 17} : \t 0.7721343873517786\n",
            "{'n_neighbors': 21} : \t 0.7681818181818181\n",
            "{'n_neighbors': 27} : \t 0.7679841897233202\n",
            "{'n_neighbors': 30} : \t 0.7549407114624507\n",
            "{'n_neighbors': 33} : \t 0.7592885375494072\n",
            "{'n_neighbors': 35} : \t 0.7592885375494071\n",
            "{'n_neighbors': 39} : \t 0.7764822134387351\n",
            "{'n_neighbors': 41} : \t 0.759090909090909\n",
            "{'n_neighbors': 45} : \t 0.7764822134387351\n",
            "{'n_neighbors': 51} : \t 0.7857707509881423\n",
            "{'n_neighbors': 55} : \t 0.7901185770750987\n",
            "{'n_neighbors': 61} : \t 0.7946640316205532\n",
            "{'n_neighbors': 65} : \t 0.7990118577075098\n",
            "{'n_neighbors': 70} : \t 0.7857707509881422\n",
            "\n",
            "n_features: 24\n",
            "{'n_neighbors': 1} : \t 0.6551383399209485\n",
            "{'n_neighbors': 3} : \t 0.642094861660079\n",
            "{'n_neighbors': 5} : \t 0.6592885375494072\n",
            "{'n_neighbors': 7} : \t 0.6810276679841897\n",
            "{'n_neighbors': 9} : \t 0.6982213438735178\n",
            "{'n_neighbors': 11} : \t 0.7377470355731226\n",
            "{'n_neighbors': 15} : \t 0.7592885375494072\n",
            "{'n_neighbors': 17} : \t 0.7721343873517786\n",
            "{'n_neighbors': 21} : \t 0.7681818181818181\n",
            "{'n_neighbors': 27} : \t 0.7679841897233202\n",
            "{'n_neighbors': 30} : \t 0.7549407114624507\n",
            "{'n_neighbors': 33} : \t 0.7592885375494072\n",
            "{'n_neighbors': 35} : \t 0.7592885375494071\n",
            "{'n_neighbors': 39} : \t 0.7764822134387351\n",
            "{'n_neighbors': 41} : \t 0.759090909090909\n",
            "{'n_neighbors': 45} : \t 0.7764822134387351\n",
            "{'n_neighbors': 51} : \t 0.7857707509881423\n",
            "{'n_neighbors': 55} : \t 0.7901185770750987\n",
            "{'n_neighbors': 61} : \t 0.7946640316205532\n",
            "{'n_neighbors': 65} : \t 0.7990118577075098\n",
            "{'n_neighbors': 70} : \t 0.7857707509881422\n",
            "\n",
            "n_features: 26\n",
            "{'n_neighbors': 1} : \t 0.6551383399209485\n",
            "{'n_neighbors': 3} : \t 0.642094861660079\n",
            "{'n_neighbors': 5} : \t 0.6592885375494072\n",
            "{'n_neighbors': 7} : \t 0.6810276679841897\n",
            "{'n_neighbors': 9} : \t 0.6982213438735178\n",
            "{'n_neighbors': 11} : \t 0.7377470355731226\n",
            "{'n_neighbors': 15} : \t 0.7592885375494072\n",
            "{'n_neighbors': 17} : \t 0.7721343873517786\n",
            "{'n_neighbors': 21} : \t 0.7681818181818181\n",
            "{'n_neighbors': 27} : \t 0.7679841897233202\n",
            "{'n_neighbors': 30} : \t 0.7549407114624507\n",
            "{'n_neighbors': 33} : \t 0.7592885375494072\n",
            "{'n_neighbors': 35} : \t 0.7592885375494071\n",
            "{'n_neighbors': 39} : \t 0.7764822134387351\n",
            "{'n_neighbors': 41} : \t 0.759090909090909\n",
            "{'n_neighbors': 45} : \t 0.7764822134387351\n",
            "{'n_neighbors': 51} : \t 0.7857707509881423\n",
            "{'n_neighbors': 55} : \t 0.7901185770750987\n",
            "{'n_neighbors': 61} : \t 0.7946640316205532\n",
            "{'n_neighbors': 65} : \t 0.7990118577075098\n",
            "{'n_neighbors': 70} : \t 0.7857707509881422\n",
            "\n",
            "n_features: 28\n",
            "{'n_neighbors': 1} : \t 0.6551383399209485\n",
            "{'n_neighbors': 3} : \t 0.642094861660079\n",
            "{'n_neighbors': 5} : \t 0.6592885375494072\n",
            "{'n_neighbors': 7} : \t 0.6810276679841897\n",
            "{'n_neighbors': 9} : \t 0.6982213438735178\n",
            "{'n_neighbors': 11} : \t 0.7377470355731226\n",
            "{'n_neighbors': 15} : \t 0.7592885375494072\n",
            "{'n_neighbors': 17} : \t 0.7721343873517786\n",
            "{'n_neighbors': 21} : \t 0.7681818181818181\n",
            "{'n_neighbors': 27} : \t 0.7679841897233202\n",
            "{'n_neighbors': 30} : \t 0.7549407114624507\n",
            "{'n_neighbors': 33} : \t 0.7592885375494072\n",
            "{'n_neighbors': 35} : \t 0.7592885375494071\n",
            "{'n_neighbors': 39} : \t 0.7764822134387351\n",
            "{'n_neighbors': 41} : \t 0.759090909090909\n",
            "{'n_neighbors': 45} : \t 0.7764822134387351\n",
            "{'n_neighbors': 51} : \t 0.7857707509881423\n",
            "{'n_neighbors': 55} : \t 0.7901185770750987\n",
            "{'n_neighbors': 61} : \t 0.7946640316205532\n",
            "{'n_neighbors': 65} : \t 0.7990118577075098\n",
            "{'n_neighbors': 70} : \t 0.7857707509881422\n",
            "\n",
            "n_features: 30\n",
            "{'n_neighbors': 1} : \t 0.6551383399209485\n",
            "{'n_neighbors': 3} : \t 0.642094861660079\n",
            "{'n_neighbors': 5} : \t 0.6592885375494072\n",
            "{'n_neighbors': 7} : \t 0.6810276679841897\n",
            "{'n_neighbors': 9} : \t 0.6982213438735178\n",
            "{'n_neighbors': 11} : \t 0.7377470355731226\n",
            "{'n_neighbors': 15} : \t 0.7592885375494072\n",
            "{'n_neighbors': 17} : \t 0.7721343873517786\n",
            "{'n_neighbors': 21} : \t 0.7681818181818181\n",
            "{'n_neighbors': 27} : \t 0.7679841897233202\n",
            "{'n_neighbors': 30} : \t 0.7549407114624507\n",
            "{'n_neighbors': 33} : \t 0.7592885375494072\n",
            "{'n_neighbors': 35} : \t 0.7592885375494071\n",
            "{'n_neighbors': 39} : \t 0.7764822134387351\n",
            "{'n_neighbors': 41} : \t 0.759090909090909\n",
            "{'n_neighbors': 45} : \t 0.7764822134387351\n",
            "{'n_neighbors': 51} : \t 0.7857707509881423\n",
            "{'n_neighbors': 55} : \t 0.7901185770750987\n",
            "{'n_neighbors': 61} : \t 0.7946640316205532\n",
            "{'n_neighbors': 65} : \t 0.7990118577075098\n",
            "{'n_neighbors': 70} : \t 0.7857707509881422\n",
            "\n",
            "n_features: 32\n",
            "{'n_neighbors': 1} : \t 0.6551383399209485\n",
            "{'n_neighbors': 3} : \t 0.642094861660079\n",
            "{'n_neighbors': 5} : \t 0.6592885375494072\n",
            "{'n_neighbors': 7} : \t 0.6810276679841897\n",
            "{'n_neighbors': 9} : \t 0.6982213438735178\n",
            "{'n_neighbors': 11} : \t 0.7377470355731226\n",
            "{'n_neighbors': 15} : \t 0.7592885375494072\n",
            "{'n_neighbors': 17} : \t 0.7721343873517786\n",
            "{'n_neighbors': 21} : \t 0.7681818181818181\n",
            "{'n_neighbors': 27} : \t 0.7679841897233202\n",
            "{'n_neighbors': 30} : \t 0.7549407114624507\n",
            "{'n_neighbors': 33} : \t 0.7592885375494072\n",
            "{'n_neighbors': 35} : \t 0.7592885375494071\n",
            "{'n_neighbors': 39} : \t 0.7764822134387351\n",
            "{'n_neighbors': 41} : \t 0.759090909090909\n",
            "{'n_neighbors': 45} : \t 0.7764822134387351\n",
            "{'n_neighbors': 51} : \t 0.7857707509881423\n",
            "{'n_neighbors': 55} : \t 0.7901185770750987\n",
            "{'n_neighbors': 61} : \t 0.7946640316205532\n",
            "{'n_neighbors': 65} : \t 0.7990118577075098\n",
            "{'n_neighbors': 70} : \t 0.7857707509881422\n",
            "\n",
            "n_features: 34\n",
            "{'n_neighbors': 1} : \t 0.6551383399209485\n",
            "{'n_neighbors': 3} : \t 0.642094861660079\n",
            "{'n_neighbors': 5} : \t 0.6592885375494072\n",
            "{'n_neighbors': 7} : \t 0.6810276679841897\n",
            "{'n_neighbors': 9} : \t 0.6982213438735178\n",
            "{'n_neighbors': 11} : \t 0.7377470355731226\n",
            "{'n_neighbors': 15} : \t 0.7592885375494072\n",
            "{'n_neighbors': 17} : \t 0.7721343873517786\n",
            "{'n_neighbors': 21} : \t 0.7681818181818181\n",
            "{'n_neighbors': 27} : \t 0.7679841897233202\n",
            "{'n_neighbors': 30} : \t 0.7549407114624507\n",
            "{'n_neighbors': 33} : \t 0.7592885375494072\n",
            "{'n_neighbors': 35} : \t 0.7592885375494071\n",
            "{'n_neighbors': 39} : \t 0.7764822134387351\n",
            "{'n_neighbors': 41} : \t 0.759090909090909\n",
            "{'n_neighbors': 45} : \t 0.7764822134387351\n",
            "{'n_neighbors': 51} : \t 0.7857707509881423\n",
            "{'n_neighbors': 55} : \t 0.7901185770750987\n",
            "{'n_neighbors': 61} : \t 0.7946640316205532\n",
            "{'n_neighbors': 65} : \t 0.7990118577075098\n",
            "{'n_neighbors': 70} : \t 0.7857707509881422\n",
            "\n",
            "n_features: 36\n",
            "{'n_neighbors': 1} : \t 0.6551383399209485\n",
            "{'n_neighbors': 3} : \t 0.642094861660079\n",
            "{'n_neighbors': 5} : \t 0.6592885375494072\n",
            "{'n_neighbors': 7} : \t 0.6810276679841897\n",
            "{'n_neighbors': 9} : \t 0.6982213438735178\n",
            "{'n_neighbors': 11} : \t 0.7377470355731226\n",
            "{'n_neighbors': 15} : \t 0.7592885375494072\n",
            "{'n_neighbors': 17} : \t 0.7721343873517786\n",
            "{'n_neighbors': 21} : \t 0.7681818181818181\n",
            "{'n_neighbors': 27} : \t 0.7679841897233202\n",
            "{'n_neighbors': 30} : \t 0.7549407114624507\n",
            "{'n_neighbors': 33} : \t 0.7592885375494072\n",
            "{'n_neighbors': 35} : \t 0.7592885375494071\n",
            "{'n_neighbors': 39} : \t 0.7764822134387351\n",
            "{'n_neighbors': 41} : \t 0.759090909090909\n",
            "{'n_neighbors': 45} : \t 0.7764822134387351\n",
            "{'n_neighbors': 51} : \t 0.7857707509881423\n",
            "{'n_neighbors': 55} : \t 0.7901185770750987\n",
            "{'n_neighbors': 61} : \t 0.7946640316205532\n",
            "{'n_neighbors': 65} : \t 0.7990118577075098\n",
            "{'n_neighbors': 70} : \t 0.7857707509881422\n",
            "\n",
            "n_features: 38\n",
            "{'n_neighbors': 1} : \t 0.6551383399209485\n",
            "{'n_neighbors': 3} : \t 0.642094861660079\n",
            "{'n_neighbors': 5} : \t 0.6592885375494072\n",
            "{'n_neighbors': 7} : \t 0.6810276679841897\n",
            "{'n_neighbors': 9} : \t 0.6982213438735178\n",
            "{'n_neighbors': 11} : \t 0.7377470355731226\n",
            "{'n_neighbors': 15} : \t 0.7592885375494072\n",
            "{'n_neighbors': 17} : \t 0.7721343873517786\n",
            "{'n_neighbors': 21} : \t 0.7681818181818181\n",
            "{'n_neighbors': 27} : \t 0.7679841897233202\n",
            "{'n_neighbors': 30} : \t 0.7549407114624507\n",
            "{'n_neighbors': 33} : \t 0.7592885375494072\n",
            "{'n_neighbors': 35} : \t 0.7592885375494071\n",
            "{'n_neighbors': 39} : \t 0.7764822134387351\n",
            "{'n_neighbors': 41} : \t 0.759090909090909\n",
            "{'n_neighbors': 45} : \t 0.7764822134387351\n",
            "{'n_neighbors': 51} : \t 0.7857707509881423\n",
            "{'n_neighbors': 55} : \t 0.7901185770750987\n",
            "{'n_neighbors': 61} : \t 0.7946640316205532\n",
            "{'n_neighbors': 65} : \t 0.7990118577075098\n",
            "{'n_neighbors': 70} : \t 0.7857707509881422\n",
            "\n",
            "n_features: 40\n",
            "{'n_neighbors': 1} : \t 0.6551383399209485\n",
            "{'n_neighbors': 3} : \t 0.642094861660079\n",
            "{'n_neighbors': 5} : \t 0.6592885375494072\n",
            "{'n_neighbors': 7} : \t 0.6810276679841897\n",
            "{'n_neighbors': 9} : \t 0.6982213438735178\n",
            "{'n_neighbors': 11} : \t 0.7377470355731226\n",
            "{'n_neighbors': 15} : \t 0.7592885375494072\n",
            "{'n_neighbors': 17} : \t 0.7721343873517786\n",
            "{'n_neighbors': 21} : \t 0.7681818181818181\n",
            "{'n_neighbors': 27} : \t 0.7679841897233202\n",
            "{'n_neighbors': 30} : \t 0.7549407114624507\n",
            "{'n_neighbors': 33} : \t 0.7592885375494072\n",
            "{'n_neighbors': 35} : \t 0.7592885375494071\n",
            "{'n_neighbors': 39} : \t 0.7764822134387351\n",
            "{'n_neighbors': 41} : \t 0.759090909090909\n",
            "{'n_neighbors': 45} : \t 0.7764822134387351\n",
            "{'n_neighbors': 51} : \t 0.7857707509881423\n",
            "{'n_neighbors': 55} : \t 0.7901185770750987\n",
            "{'n_neighbors': 61} : \t 0.7946640316205532\n",
            "{'n_neighbors': 65} : \t 0.7990118577075098\n",
            "{'n_neighbors': 70} : \t 0.7857707509881422\n",
            "\n",
            "n_features: 42\n",
            "{'n_neighbors': 1} : \t 0.6551383399209485\n",
            "{'n_neighbors': 3} : \t 0.642094861660079\n",
            "{'n_neighbors': 5} : \t 0.6592885375494072\n",
            "{'n_neighbors': 7} : \t 0.6810276679841897\n",
            "{'n_neighbors': 9} : \t 0.6982213438735178\n",
            "{'n_neighbors': 11} : \t 0.7377470355731226\n",
            "{'n_neighbors': 15} : \t 0.7592885375494072\n",
            "{'n_neighbors': 17} : \t 0.7721343873517786\n",
            "{'n_neighbors': 21} : \t 0.7681818181818181\n",
            "{'n_neighbors': 27} : \t 0.7679841897233202\n",
            "{'n_neighbors': 30} : \t 0.7549407114624507\n",
            "{'n_neighbors': 33} : \t 0.7592885375494072\n",
            "{'n_neighbors': 35} : \t 0.7592885375494071\n",
            "{'n_neighbors': 39} : \t 0.7764822134387351\n",
            "{'n_neighbors': 41} : \t 0.759090909090909\n",
            "{'n_neighbors': 45} : \t 0.7764822134387351\n",
            "{'n_neighbors': 51} : \t 0.7857707509881423\n",
            "{'n_neighbors': 55} : \t 0.7901185770750987\n",
            "{'n_neighbors': 61} : \t 0.7946640316205532\n",
            "{'n_neighbors': 65} : \t 0.7990118577075098\n",
            "{'n_neighbors': 70} : \t 0.7857707509881422\n",
            "\n",
            "n_features: 44\n",
            "{'n_neighbors': 1} : \t 0.6551383399209485\n",
            "{'n_neighbors': 3} : \t 0.642094861660079\n",
            "{'n_neighbors': 5} : \t 0.6592885375494072\n",
            "{'n_neighbors': 7} : \t 0.6810276679841897\n",
            "{'n_neighbors': 9} : \t 0.6982213438735178\n",
            "{'n_neighbors': 11} : \t 0.7377470355731226\n",
            "{'n_neighbors': 15} : \t 0.7592885375494072\n",
            "{'n_neighbors': 17} : \t 0.7721343873517786\n",
            "{'n_neighbors': 21} : \t 0.7681818181818181\n",
            "{'n_neighbors': 27} : \t 0.7679841897233202\n",
            "{'n_neighbors': 30} : \t 0.7549407114624507\n",
            "{'n_neighbors': 33} : \t 0.7592885375494072\n",
            "{'n_neighbors': 35} : \t 0.7592885375494071\n",
            "{'n_neighbors': 39} : \t 0.7764822134387351\n",
            "{'n_neighbors': 41} : \t 0.759090909090909\n",
            "{'n_neighbors': 45} : \t 0.7764822134387351\n",
            "{'n_neighbors': 51} : \t 0.7857707509881423\n",
            "{'n_neighbors': 55} : \t 0.7901185770750987\n",
            "{'n_neighbors': 61} : \t 0.7946640316205532\n",
            "{'n_neighbors': 65} : \t 0.7990118577075098\n",
            "{'n_neighbors': 70} : \t 0.7857707509881422\n",
            "\n",
            "n_features: 46\n",
            "{'n_neighbors': 1} : \t 0.6551383399209485\n",
            "{'n_neighbors': 3} : \t 0.642094861660079\n",
            "{'n_neighbors': 5} : \t 0.6592885375494072\n",
            "{'n_neighbors': 7} : \t 0.6810276679841897\n",
            "{'n_neighbors': 9} : \t 0.6982213438735178\n",
            "{'n_neighbors': 11} : \t 0.7377470355731226\n",
            "{'n_neighbors': 15} : \t 0.7592885375494072\n",
            "{'n_neighbors': 17} : \t 0.7721343873517786\n",
            "{'n_neighbors': 21} : \t 0.7681818181818181\n",
            "{'n_neighbors': 27} : \t 0.7679841897233202\n",
            "{'n_neighbors': 30} : \t 0.7549407114624507\n",
            "{'n_neighbors': 33} : \t 0.7592885375494072\n",
            "{'n_neighbors': 35} : \t 0.7592885375494071\n",
            "{'n_neighbors': 39} : \t 0.7764822134387351\n",
            "{'n_neighbors': 41} : \t 0.759090909090909\n",
            "{'n_neighbors': 45} : \t 0.7764822134387351\n",
            "{'n_neighbors': 51} : \t 0.7857707509881423\n",
            "{'n_neighbors': 55} : \t 0.7901185770750987\n",
            "{'n_neighbors': 61} : \t 0.7946640316205532\n",
            "{'n_neighbors': 65} : \t 0.7990118577075098\n",
            "{'n_neighbors': 70} : \t 0.7857707509881422\n",
            "\n",
            "n_features: 48\n",
            "{'n_neighbors': 1} : \t 0.6551383399209485\n",
            "{'n_neighbors': 3} : \t 0.642094861660079\n",
            "{'n_neighbors': 5} : \t 0.6592885375494072\n",
            "{'n_neighbors': 7} : \t 0.6810276679841897\n",
            "{'n_neighbors': 9} : \t 0.6982213438735178\n",
            "{'n_neighbors': 11} : \t 0.7377470355731226\n",
            "{'n_neighbors': 15} : \t 0.7592885375494072\n",
            "{'n_neighbors': 17} : \t 0.7721343873517786\n",
            "{'n_neighbors': 21} : \t 0.7681818181818181\n",
            "{'n_neighbors': 27} : \t 0.7679841897233202\n",
            "{'n_neighbors': 30} : \t 0.7549407114624507\n",
            "{'n_neighbors': 33} : \t 0.7592885375494072\n",
            "{'n_neighbors': 35} : \t 0.7592885375494071\n",
            "{'n_neighbors': 39} : \t 0.7764822134387351\n",
            "{'n_neighbors': 41} : \t 0.759090909090909\n",
            "{'n_neighbors': 45} : \t 0.7764822134387351\n",
            "{'n_neighbors': 51} : \t 0.7857707509881423\n",
            "{'n_neighbors': 55} : \t 0.7901185770750987\n",
            "{'n_neighbors': 61} : \t 0.7946640316205532\n",
            "{'n_neighbors': 65} : \t 0.7990118577075098\n",
            "{'n_neighbors': 70} : \t 0.7857707509881422\n",
            "\n",
            "n_features: 50\n",
            "{'n_neighbors': 1} : \t 0.6551383399209485\n",
            "{'n_neighbors': 3} : \t 0.642094861660079\n",
            "{'n_neighbors': 5} : \t 0.6592885375494072\n",
            "{'n_neighbors': 7} : \t 0.6810276679841897\n",
            "{'n_neighbors': 9} : \t 0.6982213438735178\n",
            "{'n_neighbors': 11} : \t 0.7377470355731226\n",
            "{'n_neighbors': 15} : \t 0.7592885375494072\n",
            "{'n_neighbors': 17} : \t 0.7721343873517786\n",
            "{'n_neighbors': 21} : \t 0.7681818181818181\n",
            "{'n_neighbors': 27} : \t 0.7679841897233202\n",
            "{'n_neighbors': 30} : \t 0.7549407114624507\n",
            "{'n_neighbors': 33} : \t 0.7592885375494072\n",
            "{'n_neighbors': 35} : \t 0.7592885375494071\n",
            "{'n_neighbors': 39} : \t 0.7764822134387351\n",
            "{'n_neighbors': 41} : \t 0.759090909090909\n",
            "{'n_neighbors': 45} : \t 0.7764822134387351\n",
            "{'n_neighbors': 51} : \t 0.7857707509881423\n",
            "{'n_neighbors': 55} : \t 0.7901185770750987\n",
            "{'n_neighbors': 61} : \t 0.7946640316205532\n",
            "{'n_neighbors': 65} : \t 0.7990118577075098\n",
            "{'n_neighbors': 70} : \t 0.7857707509881422\n",
            "\n",
            "n_features: 52\n",
            "{'n_neighbors': 1} : \t 0.6551383399209485\n",
            "{'n_neighbors': 3} : \t 0.642094861660079\n",
            "{'n_neighbors': 5} : \t 0.6592885375494072\n",
            "{'n_neighbors': 7} : \t 0.6810276679841897\n",
            "{'n_neighbors': 9} : \t 0.6982213438735178\n",
            "{'n_neighbors': 11} : \t 0.7377470355731226\n",
            "{'n_neighbors': 15} : \t 0.7592885375494072\n",
            "{'n_neighbors': 17} : \t 0.7721343873517786\n",
            "{'n_neighbors': 21} : \t 0.7681818181818181\n",
            "{'n_neighbors': 27} : \t 0.7679841897233202\n",
            "{'n_neighbors': 30} : \t 0.7549407114624507\n",
            "{'n_neighbors': 33} : \t 0.7592885375494072\n",
            "{'n_neighbors': 35} : \t 0.7592885375494071\n",
            "{'n_neighbors': 39} : \t 0.7764822134387351\n",
            "{'n_neighbors': 41} : \t 0.759090909090909\n",
            "{'n_neighbors': 45} : \t 0.7764822134387351\n",
            "{'n_neighbors': 51} : \t 0.7857707509881423\n",
            "{'n_neighbors': 55} : \t 0.7901185770750987\n",
            "{'n_neighbors': 61} : \t 0.7946640316205532\n",
            "{'n_neighbors': 65} : \t 0.7990118577075098\n",
            "{'n_neighbors': 70} : \t 0.7857707509881422\n",
            "\n",
            "n_features: 54\n",
            "{'n_neighbors': 1} : \t 0.6551383399209485\n",
            "{'n_neighbors': 3} : \t 0.642094861660079\n",
            "{'n_neighbors': 5} : \t 0.6592885375494072\n",
            "{'n_neighbors': 7} : \t 0.6810276679841897\n",
            "{'n_neighbors': 9} : \t 0.6982213438735178\n",
            "{'n_neighbors': 11} : \t 0.7377470355731226\n",
            "{'n_neighbors': 15} : \t 0.7592885375494072\n",
            "{'n_neighbors': 17} : \t 0.7721343873517786\n",
            "{'n_neighbors': 21} : \t 0.7681818181818181\n",
            "{'n_neighbors': 27} : \t 0.7679841897233202\n",
            "{'n_neighbors': 30} : \t 0.7549407114624507\n",
            "{'n_neighbors': 33} : \t 0.7592885375494072\n",
            "{'n_neighbors': 35} : \t 0.7592885375494071\n",
            "{'n_neighbors': 39} : \t 0.7764822134387351\n",
            "{'n_neighbors': 41} : \t 0.759090909090909\n",
            "{'n_neighbors': 45} : \t 0.7764822134387351\n",
            "{'n_neighbors': 51} : \t 0.7857707509881423\n",
            "{'n_neighbors': 55} : \t 0.7901185770750987\n",
            "{'n_neighbors': 61} : \t 0.7946640316205532\n",
            "{'n_neighbors': 65} : \t 0.7990118577075098\n",
            "{'n_neighbors': 70} : \t 0.7857707509881422\n",
            "\n",
            "n_features: 56\n",
            "{'n_neighbors': 1} : \t 0.6551383399209485\n",
            "{'n_neighbors': 3} : \t 0.642094861660079\n",
            "{'n_neighbors': 5} : \t 0.6592885375494072\n",
            "{'n_neighbors': 7} : \t 0.6810276679841897\n",
            "{'n_neighbors': 9} : \t 0.6982213438735178\n",
            "{'n_neighbors': 11} : \t 0.7377470355731226\n",
            "{'n_neighbors': 15} : \t 0.7592885375494072\n",
            "{'n_neighbors': 17} : \t 0.7721343873517786\n",
            "{'n_neighbors': 21} : \t 0.7681818181818181\n",
            "{'n_neighbors': 27} : \t 0.7679841897233202\n",
            "{'n_neighbors': 30} : \t 0.7549407114624507\n",
            "{'n_neighbors': 33} : \t 0.7592885375494072\n",
            "{'n_neighbors': 35} : \t 0.7592885375494071\n",
            "{'n_neighbors': 39} : \t 0.7764822134387351\n",
            "{'n_neighbors': 41} : \t 0.759090909090909\n",
            "{'n_neighbors': 45} : \t 0.7764822134387351\n",
            "{'n_neighbors': 51} : \t 0.7857707509881423\n",
            "{'n_neighbors': 55} : \t 0.7901185770750987\n",
            "{'n_neighbors': 61} : \t 0.7946640316205532\n",
            "{'n_neighbors': 65} : \t 0.7990118577075098\n",
            "{'n_neighbors': 70} : \t 0.7857707509881422\n",
            "\n",
            "n_features: 58\n",
            "{'n_neighbors': 1} : \t 0.6551383399209485\n",
            "{'n_neighbors': 3} : \t 0.642094861660079\n",
            "{'n_neighbors': 5} : \t 0.6592885375494072\n",
            "{'n_neighbors': 7} : \t 0.6810276679841897\n",
            "{'n_neighbors': 9} : \t 0.6982213438735178\n",
            "{'n_neighbors': 11} : \t 0.7377470355731226\n",
            "{'n_neighbors': 15} : \t 0.7592885375494072\n",
            "{'n_neighbors': 17} : \t 0.7721343873517786\n",
            "{'n_neighbors': 21} : \t 0.7681818181818181\n",
            "{'n_neighbors': 27} : \t 0.7679841897233202\n",
            "{'n_neighbors': 30} : \t 0.7549407114624507\n",
            "{'n_neighbors': 33} : \t 0.7592885375494072\n",
            "{'n_neighbors': 35} : \t 0.7592885375494071\n",
            "{'n_neighbors': 39} : \t 0.7764822134387351\n",
            "{'n_neighbors': 41} : \t 0.759090909090909\n",
            "{'n_neighbors': 45} : \t 0.7764822134387351\n",
            "{'n_neighbors': 51} : \t 0.7857707509881423\n",
            "{'n_neighbors': 55} : \t 0.7901185770750987\n",
            "{'n_neighbors': 61} : \t 0.7946640316205532\n",
            "{'n_neighbors': 65} : \t 0.7990118577075098\n",
            "{'n_neighbors': 70} : \t 0.7857707509881422\n",
            "\n",
            "n_features: 60\n",
            "{'n_neighbors': 1} : \t 0.6551383399209485\n",
            "{'n_neighbors': 3} : \t 0.642094861660079\n",
            "{'n_neighbors': 5} : \t 0.6592885375494072\n",
            "{'n_neighbors': 7} : \t 0.6810276679841897\n",
            "{'n_neighbors': 9} : \t 0.6982213438735178\n",
            "{'n_neighbors': 11} : \t 0.7377470355731226\n",
            "{'n_neighbors': 15} : \t 0.7592885375494072\n",
            "{'n_neighbors': 17} : \t 0.7721343873517786\n",
            "{'n_neighbors': 21} : \t 0.7681818181818181\n",
            "{'n_neighbors': 27} : \t 0.7679841897233202\n",
            "{'n_neighbors': 30} : \t 0.7549407114624507\n",
            "{'n_neighbors': 33} : \t 0.7592885375494072\n",
            "{'n_neighbors': 35} : \t 0.7592885375494071\n",
            "{'n_neighbors': 39} : \t 0.7764822134387351\n",
            "{'n_neighbors': 41} : \t 0.759090909090909\n",
            "{'n_neighbors': 45} : \t 0.7764822134387351\n",
            "{'n_neighbors': 51} : \t 0.7857707509881423\n",
            "{'n_neighbors': 55} : \t 0.7901185770750987\n",
            "{'n_neighbors': 61} : \t 0.7946640316205532\n",
            "{'n_neighbors': 65} : \t 0.7990118577075098\n",
            "{'n_neighbors': 70} : \t 0.7857707509881422\n",
            "\n",
            "n_features: 62\n",
            "{'n_neighbors': 1} : \t 0.6551383399209485\n",
            "{'n_neighbors': 3} : \t 0.642094861660079\n",
            "{'n_neighbors': 5} : \t 0.6592885375494072\n",
            "{'n_neighbors': 7} : \t 0.6810276679841897\n",
            "{'n_neighbors': 9} : \t 0.6982213438735178\n",
            "{'n_neighbors': 11} : \t 0.7377470355731226\n",
            "{'n_neighbors': 15} : \t 0.7592885375494072\n",
            "{'n_neighbors': 17} : \t 0.7721343873517786\n",
            "{'n_neighbors': 21} : \t 0.7681818181818181\n",
            "{'n_neighbors': 27} : \t 0.7679841897233202\n",
            "{'n_neighbors': 30} : \t 0.7549407114624507\n",
            "{'n_neighbors': 33} : \t 0.7592885375494072\n",
            "{'n_neighbors': 35} : \t 0.7592885375494071\n",
            "{'n_neighbors': 39} : \t 0.7764822134387351\n",
            "{'n_neighbors': 41} : \t 0.759090909090909\n",
            "{'n_neighbors': 45} : \t 0.7764822134387351\n",
            "{'n_neighbors': 51} : \t 0.7857707509881423\n",
            "{'n_neighbors': 55} : \t 0.7901185770750987\n",
            "{'n_neighbors': 61} : \t 0.7946640316205532\n",
            "{'n_neighbors': 65} : \t 0.7990118577075098\n",
            "{'n_neighbors': 70} : \t 0.7857707509881422\n",
            "\n",
            "Time executed:  29.742653131484985\n"
          ],
          "name": "stdout"
        }
      ]
    },
    {
      "cell_type": "code",
      "metadata": {
        "id": "JYdngZcYM1Nx",
        "colab_type": "code",
        "outputId": "eabf407c-20f0-4529-fc98-356068773e32",
        "colab": {
          "base_uri": "https://localhost:8080/",
          "height": 102
        }
      },
      "source": [
        "print(\"Optimal knn classifier:\\t\", optimal_classifier.optimal_clf, \n",
        "      \"\\nwith PCA Components =\", features,\n",
        "      \"\\nand F1-micro accuracy score for cv: \\t\", optimal_classifier.best_score)"
      ],
      "execution_count": 0,
      "outputs": [
        {
          "output_type": "stream",
          "text": [
            "Optimal knn classifier:\t KNeighborsClassifier(algorithm='auto', leaf_size=30, metric='minkowski',\n",
            "                     metric_params=None, n_jobs=None, n_neighbors=65, p=2,\n",
            "                     weights='uniform') \n",
            "with PCA Components = 12 \n",
            "and F1-micro accuracy score for cv: \t 0.8033596837944664\n"
          ],
          "name": "stdout"
        }
      ]
    },
    {
      "cell_type": "code",
      "metadata": {
        "id": "GkruuLADKHo8",
        "colab_type": "code",
        "outputId": "785a9dae-f176-4aed-84ee-68bbf11df7c3",
        "colab": {
          "base_uri": "https://localhost:8080/",
          "height": 289
        }
      },
      "source": [
        "from sklearn.metrics import classification_report\n",
        "\n",
        "# PCA(features) --> dataPCA[features] --> dataPCA[(features/2)-1]\n",
        "y_pred = optimal_classifier.predict(initial_data_PCA[int(features/2)-1][1])\n",
        "# print(y_pred)\n",
        "# print(y_test)\n",
        "print(classification_report(y_test, y_pred))\n",
        "print(\"Ones in y_test: \\t\", np.sum([y_test==1]))\n",
        "print(\"Zeros in y_test: \\t\", np.sum([y_test==0]))\n",
        "top_score2_micro = optimal_classifier.score(initial_data_PCA[int(features/2)-1][1], y_test)\n",
        "print(\"Testset F1-micro accuracy score: \\t\", top_score2_micro)\n",
        "print()\n",
        "\n",
        "# No PCA\n",
        "knn_no_pca = KNeighborsClassifier(n_neighbors=optimal_classifier.optimal_clf.n_neighbors)\n",
        "knn_no_pca.fit(initial_data_PCA[30][0], y_train)\n",
        "y_pred = knn_no_pca.predict(initial_data_PCA[30][1])\n",
        "print(\"Testset F1-micro accuracy score (No PCA, Oversampling): \", knn_no_pca.score(initial_data_PCA[30][1], y_test))\n",
        "\n",
        "# No preprocessing / default k=5\n",
        "knn_no_pca = KNeighborsClassifier(n_neighbors=5)\n",
        "knn_no_pca.fit(X_train, y_train)\n",
        "y_pred = knn_no_pca.predict(X_test)\n",
        "print(X_train.shape)\n",
        "print(\"Testset F1-micro accuracy score (No Preprocessing): \\t\", knn_no_pca.score(X_test, y_test))"
      ],
      "execution_count": 0,
      "outputs": [
        {
          "output_type": "stream",
          "text": [
            "              precision    recall  f1-score   support\n",
            "\n",
            "           0       0.60      0.20      0.30        15\n",
            "           1       0.77      0.95      0.85        43\n",
            "\n",
            "    accuracy                           0.76        58\n",
            "   macro avg       0.69      0.58      0.58        58\n",
            "weighted avg       0.73      0.76      0.71        58\n",
            "\n",
            "Ones in y_test: \t 43\n",
            "Zeros in y_test: \t 15\n",
            "Testset F1-micro accuracy score: \t 0.7586206896551724\n",
            "\n",
            "Testset F1-micro accuracy score (No PCA, Oversampling):  0.7413793103448276\n",
            "(229, 62)\n",
            "Testset F1-micro accuracy score (No Preprocessing): \t 0.7068965517241379\n"
          ],
          "name": "stdout"
        }
      ]
    },
    {
      "cell_type": "markdown",
      "metadata": {
        "id": "ldAlqHyJXwUu",
        "colab_type": "text"
      },
      "source": [
        "Παρατηρούμε ότι το recall του bad (0) έμεινε ως έχει ενώ αυξήθηκε του good (1), ενώ τα precision αυξήθηκαν και τα δυο. Αυτό σημαίνει ότι μπορέσαμε και καταλήξαμε σε ένaν classifier που ξέρει να ξεχωρίζει ικανοποιητικά, για το πλήθος των samples, τους (1), ενώ δεν βελτίωσε καθόλου την προβλεψιμότητα των (0). Άρα, δεν αποτελεί αυτός ο classifier τον βέλτιστο, αφού θα προτιμούσαμε μάλλον να είναι λιγότερο ειδίκο προς τους (1), και να ξέρει να διαλέγει με καλύτερη ικανότητα τα (0), δηλαδή να αυξηθούν και τα δυο recalls. Ωστόσο, αποτελεί βελτίωση του default knn. Αυτό εξηγείται και από την επιλογή του $k=65$, που είναι αρκετά μεγαλό και άρα εύκολα επιλέγει την επιλογή της πλειοψηφίας."
      ]
    },
    {
      "cell_type": "markdown",
      "metadata": {
        "id": "FyBvZzd_RsV5",
        "colab_type": "text"
      },
      "source": [
        "######F1-macro score"
      ]
    },
    {
      "cell_type": "code",
      "metadata": {
        "id": "GJeaPfOXTkNF",
        "colab_type": "code",
        "outputId": "900d6e9c-a3c3-4449-f640-a940527116a7",
        "colab": {
          "base_uri": "https://localhost:8080/",
          "height": 1000
        }
      },
      "source": [
        "# SMOTE Oversampling on cv\n",
        "smoter = lambda X, y : SMOTE_oversampling(X, y, 0.6)\n",
        "\n",
        "# Run all initial_data_PCA for each grid parameter of KNN\n",
        "best_score_ = 0\n",
        "optimal_classifier = None\n",
        "for i in range(0, len(initial_data_PCA)-20):\n",
        "  data_tmp = initial_data_PCA[i]\n",
        "  knn = gridSearchCV_oversampling(KNeighborsClassifier(), [{\"n_neighbors\":[1,3,5,7,9,11,15,17,21,27,30,33,35,39,41,45,51,55,61,65,70]}], \n",
        "                                  cv=10, sampling=smoter, scoring='macro')\n",
        "  \n",
        "  knn.fit(data_tmp[0], y_train_sampled[i])\n",
        "  if (knn.best_score > best_score_):\n",
        "    best_score_ = knn.best_score\n",
        "    optimal_classifier = knn\n",
        "    features = data_tmp[2]\n",
        "  print(\"n_features: \" + str(data_tmp[2]))\n",
        "  knn.display_cv_results() "
      ],
      "execution_count": 0,
      "outputs": [
        {
          "output_type": "stream",
          "text": [
            "n_features: 2\n",
            "{'n_neighbors': 1} : \t 0.542230377981152\n",
            "{'n_neighbors': 3} : \t 0.5698666366452277\n",
            "{'n_neighbors': 5} : \t 0.5788951488595451\n",
            "{'n_neighbors': 7} : \t 0.5305977274376246\n",
            "{'n_neighbors': 9} : \t 0.5482098338998966\n",
            "{'n_neighbors': 11} : \t 0.5406774768520597\n",
            "{'n_neighbors': 15} : \t 0.543308749088595\n",
            "{'n_neighbors': 17} : \t 0.5620600477953419\n",
            "{'n_neighbors': 21} : \t 0.5658512565865508\n",
            "{'n_neighbors': 27} : \t 0.5705260533345181\n",
            "{'n_neighbors': 30} : \t 0.5852668410021351\n",
            "{'n_neighbors': 33} : \t 0.5972142512659755\n",
            "{'n_neighbors': 35} : \t 0.594953803506435\n",
            "{'n_neighbors': 39} : \t 0.5877270517635542\n",
            "{'n_neighbors': 41} : \t 0.5837300071415097\n",
            "{'n_neighbors': 45} : \t 0.5837300071415097\n",
            "{'n_neighbors': 51} : \t 0.5925149851375477\n",
            "{'n_neighbors': 55} : \t 0.5925149851375477\n",
            "{'n_neighbors': 61} : \t 0.5766445852534563\n",
            "{'n_neighbors': 65} : \t 0.5330602069321582\n",
            "{'n_neighbors': 70} : \t 0.5174749180128436\n",
            "\n",
            "n_features: 4\n",
            "{'n_neighbors': 1} : \t 0.5463775941267451\n",
            "{'n_neighbors': 3} : \t 0.5683879760590286\n",
            "{'n_neighbors': 5} : \t 0.5492998660786635\n",
            "{'n_neighbors': 7} : \t 0.5125858416124581\n",
            "{'n_neighbors': 9} : \t 0.5662567110882811\n",
            "{'n_neighbors': 11} : \t 0.5826003536857937\n",
            "{'n_neighbors': 15} : \t 0.621775988029858\n",
            "{'n_neighbors': 17} : \t 0.6162114719008258\n",
            "{'n_neighbors': 21} : \t 0.6112687029173098\n",
            "{'n_neighbors': 27} : \t 0.5986147421955097\n",
            "{'n_neighbors': 30} : \t 0.605340978265052\n",
            "{'n_neighbors': 33} : \t 0.594388597312671\n",
            "{'n_neighbors': 35} : \t 0.5960649392634032\n",
            "{'n_neighbors': 39} : \t 0.5776887628500533\n",
            "{'n_neighbors': 41} : \t 0.562698828948829\n",
            "{'n_neighbors': 45} : \t 0.5691300366300366\n",
            "{'n_neighbors': 51} : \t 0.5693572875190523\n",
            "{'n_neighbors': 55} : \t 0.5613626351126352\n",
            "{'n_neighbors': 61} : \t 0.5721788216143054\n",
            "{'n_neighbors': 65} : \t 0.5538873092051462\n",
            "{'n_neighbors': 70} : \t 0.5714712259067098\n",
            "\n",
            "n_features: 6\n",
            "{'n_neighbors': 1} : \t 0.5714836826716297\n",
            "{'n_neighbors': 3} : \t 0.558260209979277\n",
            "{'n_neighbors': 5} : \t 0.5141313688723003\n",
            "{'n_neighbors': 7} : \t 0.5481765814044077\n",
            "{'n_neighbors': 9} : \t 0.5518862588237626\n",
            "{'n_neighbors': 11} : \t 0.5761491026165461\n",
            "{'n_neighbors': 15} : \t 0.6096786144022709\n",
            "{'n_neighbors': 17} : \t 0.6025039541780279\n",
            "{'n_neighbors': 21} : \t 0.6142792803028871\n",
            "{'n_neighbors': 27} : \t 0.5825731949730752\n",
            "{'n_neighbors': 30} : \t 0.6058909292461925\n",
            "{'n_neighbors': 33} : \t 0.5731890413508061\n",
            "{'n_neighbors': 35} : \t 0.5724240746102295\n",
            "{'n_neighbors': 39} : \t 0.5406988926106572\n",
            "{'n_neighbors': 41} : \t 0.5336818900054194\n",
            "{'n_neighbors': 45} : \t 0.5463554582672229\n",
            "{'n_neighbors': 51} : \t 0.5673407148407149\n",
            "{'n_neighbors': 55} : \t 0.5533067096302391\n",
            "{'n_neighbors': 61} : \t 0.5630864749982398\n",
            "{'n_neighbors': 65} : \t 0.5622528494896917\n",
            "{'n_neighbors': 70} : \t 0.5843020295980822\n",
            "\n",
            "n_features: 8\n",
            "{'n_neighbors': 1} : \t 0.5598055299408454\n",
            "{'n_neighbors': 3} : \t 0.5443796880166831\n",
            "{'n_neighbors': 5} : \t 0.5284229183898626\n",
            "{'n_neighbors': 7} : \t 0.5318817129310588\n",
            "{'n_neighbors': 9} : \t 0.5461677712897225\n",
            "{'n_neighbors': 11} : \t 0.5730820353168562\n",
            "{'n_neighbors': 15} : \t 0.6036381557764795\n",
            "{'n_neighbors': 17} : \t 0.6229439280411767\n",
            "{'n_neighbors': 21} : \t 0.5921175412669503\n",
            "{'n_neighbors': 27} : \t 0.5530273439477632\n",
            "{'n_neighbors': 30} : \t 0.5556708556426331\n",
            "{'n_neighbors': 33} : \t 0.5547882754500402\n",
            "{'n_neighbors': 35} : \t 0.556262634424399\n",
            "{'n_neighbors': 39} : \t 0.5364626386685211\n",
            "{'n_neighbors': 41} : \t 0.5434796412737588\n",
            "{'n_neighbors': 45} : \t 0.5463554582672231\n",
            "{'n_neighbors': 51} : \t 0.55232905982906\n",
            "{'n_neighbors': 55} : \t 0.55232905982906\n",
            "{'n_neighbors': 61} : \t 0.5576785179963548\n",
            "{'n_neighbors': 65} : \t 0.5487804079527339\n",
            "{'n_neighbors': 70} : \t 0.5944482488837328\n",
            "\n",
            "n_features: 10\n",
            "{'n_neighbors': 1} : \t 0.5684866700582434\n",
            "{'n_neighbors': 3} : \t 0.539956034773237\n",
            "{'n_neighbors': 5} : \t 0.523565747323014\n",
            "{'n_neighbors': 7} : \t 0.5339868455370402\n",
            "{'n_neighbors': 9} : \t 0.5430613550662626\n",
            "{'n_neighbors': 11} : \t 0.5735387195262094\n",
            "{'n_neighbors': 15} : \t 0.5855463748363079\n",
            "{'n_neighbors': 17} : \t 0.5889245655906344\n",
            "{'n_neighbors': 21} : \t 0.5903458830471214\n",
            "{'n_neighbors': 27} : \t 0.5672150153767801\n",
            "{'n_neighbors': 30} : \t 0.5532363186349254\n",
            "{'n_neighbors': 33} : \t 0.5575690241131418\n",
            "{'n_neighbors': 35} : \t 0.556262634424399\n",
            "{'n_neighbors': 39} : \t 0.5457555679614503\n",
            "{'n_neighbors': 41} : \t 0.5434796412737588\n",
            "{'n_neighbors': 45} : \t 0.5393384556619851\n",
            "{'n_neighbors': 51} : \t 0.5673407148407149\n",
            "{'n_neighbors': 55} : \t 0.5603237122354771\n",
            "{'n_neighbors': 61} : \t 0.5516061293634823\n",
            "{'n_neighbors': 65} : \t 0.5548859867609868\n",
            "{'n_neighbors': 70} : \t 0.5768490537240537\n",
            "\n",
            "n_features: 12\n",
            "{'n_neighbors': 1} : \t 0.5506146699419195\n",
            "{'n_neighbors': 3} : \t 0.526408983051743\n",
            "{'n_neighbors': 5} : \t 0.5131093081786278\n",
            "{'n_neighbors': 7} : \t 0.5155686601451708\n",
            "{'n_neighbors': 9} : \t 0.5385602755614466\n",
            "{'n_neighbors': 11} : \t 0.5742340308072205\n",
            "{'n_neighbors': 15} : \t 0.5680555930140385\n",
            "{'n_neighbors': 17} : \t 0.5874794731412378\n",
            "{'n_neighbors': 21} : \t 0.5862163423700618\n",
            "{'n_neighbors': 27} : \t 0.5520671659144145\n",
            "{'n_neighbors': 30} : \t 0.5789939082083044\n",
            "{'n_neighbors': 33} : \t 0.5590433830875007\n",
            "{'n_neighbors': 35} : \t 0.5406988926106572\n",
            "{'n_neighbors': 39} : \t 0.5364626386685211\n",
            "{'n_neighbors': 41} : \t 0.5434796412737588\n",
            "{'n_neighbors': 45} : \t 0.5393384556619851\n",
            "{'n_neighbors': 51} : \t 0.5673407148407149\n",
            "{'n_neighbors': 55} : \t 0.5665945247562895\n",
            "{'n_neighbors': 61} : \t 0.5576785179963548\n",
            "{'n_neighbors': 65} : \t 0.5487804079527339\n",
            "{'n_neighbors': 70} : \t 0.5768490537240537\n",
            "\n",
            "n_features: 14\n",
            "{'n_neighbors': 1} : \t 0.5575729012146668\n",
            "{'n_neighbors': 3} : \t 0.5322579774496325\n",
            "{'n_neighbors': 5} : \t 0.5096244596937793\n",
            "{'n_neighbors': 7} : \t 0.5155686601451708\n",
            "{'n_neighbors': 9} : \t 0.5385602755614466\n",
            "{'n_neighbors': 11} : \t 0.5730798391521799\n",
            "{'n_neighbors': 15} : \t 0.5806283559045974\n",
            "{'n_neighbors': 17} : \t 0.5812086606204253\n",
            "{'n_neighbors': 21} : \t 0.594210994776479\n",
            "{'n_neighbors': 27} : \t 0.556262634424399\n",
            "{'n_neighbors': 30} : \t 0.5789939082083044\n",
            "{'n_neighbors': 33} : \t 0.556262634424399\n",
            "{'n_neighbors': 35} : \t 0.5327042402042401\n",
            "{'n_neighbors': 39} : \t 0.5364626386685211\n",
            "{'n_neighbors': 41} : \t 0.5434796412737588\n",
            "{'n_neighbors': 45} : \t 0.5393384556619851\n",
            "{'n_neighbors': 51} : \t 0.5634378203495851\n",
            "{'n_neighbors': 55} : \t 0.5641149210266858\n",
            "{'n_neighbors': 61} : \t 0.5516061293634823\n",
            "{'n_neighbors': 65} : \t 0.5487804079527339\n",
            "{'n_neighbors': 70} : \t 0.5768490537240537\n",
            "\n",
            "n_features: 16\n",
            "{'n_neighbors': 1} : \t 0.5615759644282564\n",
            "{'n_neighbors': 3} : \t 0.5312052911231124\n",
            "{'n_neighbors': 5} : \t 0.5197475288168485\n",
            "{'n_neighbors': 7} : \t 0.5120838116603222\n",
            "{'n_neighbors': 9} : \t 0.541858455875756\n",
            "{'n_neighbors': 11} : \t 0.5730798391521799\n",
            "{'n_neighbors': 15} : \t 0.5915464700485179\n",
            "{'n_neighbors': 17} : \t 0.5763397015425412\n",
            "{'n_neighbors': 21} : \t 0.594210994776479\n",
            "{'n_neighbors': 27} : \t 0.5649747556365203\n",
            "{'n_neighbors': 30} : \t 0.5789939082083044\n",
            "{'n_neighbors': 33} : \t 0.556262634424399\n",
            "{'n_neighbors': 35} : \t 0.5406988926106572\n",
            "{'n_neighbors': 39} : \t 0.5336818900054194\n",
            "{'n_neighbors': 41} : \t 0.5434796412737588\n",
            "{'n_neighbors': 45} : \t 0.5463554582672231\n",
            "{'n_neighbors': 51} : \t 0.5634378203495851\n",
            "{'n_neighbors': 55} : \t 0.5641149210266858\n",
            "{'n_neighbors': 61} : \t 0.5516061293634823\n",
            "{'n_neighbors': 65} : \t 0.5487804079527339\n",
            "{'n_neighbors': 70} : \t 0.5768490537240537\n",
            "\n",
            "n_features: 18\n",
            "{'n_neighbors': 1} : \t 0.5575729012146668\n",
            "{'n_neighbors': 3} : \t 0.538710523100961\n",
            "{'n_neighbors': 5} : \t 0.5158720709413905\n",
            "{'n_neighbors': 7} : \t 0.5120838116603222\n",
            "{'n_neighbors': 9} : \t 0.5378144998317999\n",
            "{'n_neighbors': 11} : \t 0.5730798391521799\n",
            "{'n_neighbors': 15} : \t 0.5915464700485179\n",
            "{'n_neighbors': 17} : \t 0.589919323674795\n",
            "{'n_neighbors': 21} : \t 0.594210994776479\n",
            "{'n_neighbors': 27} : \t 0.5649747556365203\n",
            "{'n_neighbors': 30} : \t 0.5890089232233195\n",
            "{'n_neighbors': 33} : \t 0.556262634424399\n",
            "{'n_neighbors': 35} : \t 0.5406988926106572\n",
            "{'n_neighbors': 39} : \t 0.5336818900054194\n",
            "{'n_neighbors': 41} : \t 0.5434796412737588\n",
            "{'n_neighbors': 45} : \t 0.5463554582672231\n",
            "{'n_neighbors': 51} : \t 0.5634378203495851\n",
            "{'n_neighbors': 55} : \t 0.5641149210266858\n",
            "{'n_neighbors': 61} : \t 0.5516061293634823\n",
            "{'n_neighbors': 65} : \t 0.5487804079527339\n",
            "{'n_neighbors': 70} : \t 0.5768490537240537\n",
            "\n",
            "n_features: 20\n",
            "{'n_neighbors': 1} : \t 0.5575729012146668\n",
            "{'n_neighbors': 3} : \t 0.538710523100961\n",
            "{'n_neighbors': 5} : \t 0.5158720709413905\n",
            "{'n_neighbors': 7} : \t 0.5120838116603222\n",
            "{'n_neighbors': 9} : \t 0.5378144998317999\n",
            "{'n_neighbors': 11} : \t 0.5730798391521799\n",
            "{'n_neighbors': 15} : \t 0.5915464700485179\n",
            "{'n_neighbors': 17} : \t 0.589919323674795\n",
            "{'n_neighbors': 21} : \t 0.5862163423700618\n",
            "{'n_neighbors': 27} : \t 0.5649747556365203\n",
            "{'n_neighbors': 30} : \t 0.5890089232233195\n",
            "{'n_neighbors': 33} : \t 0.556262634424399\n",
            "{'n_neighbors': 35} : \t 0.5406988926106572\n",
            "{'n_neighbors': 39} : \t 0.5336818900054194\n",
            "{'n_neighbors': 41} : \t 0.5434796412737588\n",
            "{'n_neighbors': 45} : \t 0.5463554582672231\n",
            "{'n_neighbors': 51} : \t 0.5634378203495851\n",
            "{'n_neighbors': 55} : \t 0.5641149210266858\n",
            "{'n_neighbors': 61} : \t 0.5516061293634823\n",
            "{'n_neighbors': 65} : \t 0.5487804079527339\n",
            "{'n_neighbors': 70} : \t 0.5768490537240537\n",
            "\n",
            "n_features: 22\n",
            "{'n_neighbors': 1} : \t 0.5575729012146668\n",
            "{'n_neighbors': 3} : \t 0.538710523100961\n",
            "{'n_neighbors': 5} : \t 0.5158720709413905\n",
            "{'n_neighbors': 7} : \t 0.5120838116603222\n",
            "{'n_neighbors': 9} : \t 0.5378144998317999\n",
            "{'n_neighbors': 11} : \t 0.5730798391521799\n",
            "{'n_neighbors': 15} : \t 0.5915464700485179\n",
            "{'n_neighbors': 17} : \t 0.589919323674795\n",
            "{'n_neighbors': 21} : \t 0.5862163423700618\n",
            "{'n_neighbors': 27} : \t 0.5649747556365203\n",
            "{'n_neighbors': 30} : \t 0.5890089232233195\n",
            "{'n_neighbors': 33} : \t 0.556262634424399\n",
            "{'n_neighbors': 35} : \t 0.5406988926106572\n",
            "{'n_neighbors': 39} : \t 0.5336818900054194\n",
            "{'n_neighbors': 41} : \t 0.5434796412737588\n",
            "{'n_neighbors': 45} : \t 0.5463554582672231\n",
            "{'n_neighbors': 51} : \t 0.5634378203495851\n",
            "{'n_neighbors': 55} : \t 0.5641149210266858\n",
            "{'n_neighbors': 61} : \t 0.5516061293634823\n",
            "{'n_neighbors': 65} : \t 0.5487804079527339\n",
            "{'n_neighbors': 70} : \t 0.5768490537240537\n",
            "\n"
          ],
          "name": "stdout"
        }
      ]
    },
    {
      "cell_type": "code",
      "metadata": {
        "id": "AFZsXjCOT1rs",
        "colab_type": "code",
        "outputId": "d1a43852-6027-4e2b-aadd-a09628ea16de",
        "colab": {
          "base_uri": "https://localhost:8080/",
          "height": 102
        }
      },
      "source": [
        "print(\"Optimal knn classifier:\\t\", optimal_classifier.optimal_clf, \n",
        "      \"\\nwith PCA Components =\", features,\n",
        "      \"\\nand F1-macro accuracy score for cv: \\t\", optimal_classifier.best_score)"
      ],
      "execution_count": 0,
      "outputs": [
        {
          "output_type": "stream",
          "text": [
            "Optimal knn classifier:\t KNeighborsClassifier(algorithm='auto', leaf_size=30, metric='minkowski',\n",
            "                     metric_params=None, n_jobs=None, n_neighbors=17, p=2,\n",
            "                     weights='uniform') \n",
            "with PCA Components = 8 \n",
            "and F1-macro accuracy score for cv: \t 0.6229439280411767\n"
          ],
          "name": "stdout"
        }
      ]
    },
    {
      "cell_type": "code",
      "metadata": {
        "id": "Hk_dLSqdT5lL",
        "colab_type": "code",
        "outputId": "8d2b1999-e7d6-460e-fc84-8a53e503bf33",
        "colab": {
          "base_uri": "https://localhost:8080/",
          "height": 272
        }
      },
      "source": [
        "from sklearn.metrics import classification_report\n",
        "\n",
        "# PCA(features) --> dataPCA[features] --> dataPCA[(features/2)-1]\n",
        "y_pred = optimal_classifier.predict(initial_data_PCA[int(features/2)-1][1])\n",
        "# print(y_pred)\n",
        "# print(y_test)\n",
        "print(classification_report(y_test, y_pred))\n",
        "print(\"Ones in y_test: \\t\", np.sum([y_test==1]))\n",
        "print(\"Zeros in y_test: \\t\", np.sum([y_test==0]))\n",
        "top_score2_macro = optimal_classifier.score(initial_data_PCA[int(features/2)-1][1], y_test)\n",
        "print(\"Testset F1-macro accuracy score: \\t\", top_score2_macro)\n",
        "print()\n",
        "\n",
        "# No PCA\n",
        "knn_no_pca = KNeighborsClassifier(n_neighbors=optimal_classifier.optimal_clf.n_neighbors)\n",
        "knn_no_pca.fit(initial_data_PCA[30][0], y_train)\n",
        "y_pred = knn_no_pca.predict(dataPCA[30][1])\n",
        "print(\"Testset F1-macro accuracy score (No PCA, Oversampling): \", precision_recall_fscore_support(y_test, \n",
        "                                                                                                  y_pred, average='macro')[2])\n",
        "\n",
        "# No preprocessing / default k=5\n",
        "knn_no_pca = KNeighborsClassifier(n_neighbors=5)\n",
        "knn_no_pca.fit(X_train, y_train)\n",
        "y_pred = knn_no_pca.predict(X_test)\n",
        "print(\"Testset F1-macro accuracy score (No Preprocessing): \\t\",  precision_recall_fscore_support(y_test, \n",
        "                                                                                                  y_pred, average='macro')[2])"
      ],
      "execution_count": 0,
      "outputs": [
        {
          "output_type": "stream",
          "text": [
            "              precision    recall  f1-score   support\n",
            "\n",
            "           0       0.50      0.27      0.35        15\n",
            "           1       0.78      0.91      0.84        43\n",
            "\n",
            "    accuracy                           0.74        58\n",
            "   macro avg       0.64      0.59      0.59        58\n",
            "weighted avg       0.71      0.74      0.71        58\n",
            "\n",
            "Ones in y_test: \t 43\n",
            "Zeros in y_test: \t 15\n",
            "Testset F1-macro accuracy score: \t 0.5932678821879382\n",
            "\n",
            "Testset F1-macro accuracy score (No PCA, Oversampling):  0.42574257425742573\n",
            "Testset F1-macro accuracy score (No Preprocessing): \t 0.53903693314633\n"
          ],
          "name": "stdout"
        }
      ]
    },
    {
      "cell_type": "markdown",
      "metadata": {
        "id": "Ahjt9WV9beQX",
        "colab_type": "text"
      },
      "source": [
        "Με βάση το f1_macro, καταλήξαμε σε εναν ταξινομητή που έχει αυξημένα και τα precision και τα recall και των δυο labels. Αυτό έχει ως αποτέλεσμα, ο ταξινομητής να είναι πιο ευέλικτος και πιο γενικός και όχι τόσο ειδικός στους (1), όπως ο ταξινομητής που καταλήξαμε με το f1_micro. Έτσι, αυτό το μοντέλο κατέληξε σε έναν ταξινομητή με τις αρχικές μας προσδοκίες, που είχαμε θέσει στο (Γ) για τον knn classifier, και έτσι αποτελεί το βέλτιστο από αυτά που μελετήθηκαν."
      ]
    },
    {
      "cell_type": "markdown",
      "metadata": {
        "id": "t5syTz4Tc2NQ",
        "colab_type": "text"
      },
      "source": [
        "###### Σύγκριση δυο μοντέλων/τεχνικών"
      ]
    },
    {
      "cell_type": "markdown",
      "metadata": {
        "id": "lL0ZdoH570SL",
        "colab_type": "text"
      },
      "source": [
        "Βλέπουμε ότι το μοντέλο αυτό, βελτιστοποιεί και το f1_micro και το f1_macro score του default knn κατά 5% έκαστος. Μπορεί ίσως να περιμέναμε πιο μεγάλο score της τάξης του 80%, ωστόσο το σχετικά μικρό score δικαιολογείται σε μεγάλο βαθμό από τον πολύ μικρό αριθμό των αρχικών δεδομένων.  \n",
        "Επίσης, αξίζει να σημειωθεί ότι ο ταξινομητής που επιλέχθηκε με βάση το f1_micro έδωσε και ανεβασμένα ποσοστά και στο f1_macro, γεγονός που εξηγεί την πιο μεγάλη σταθερότητα αυτού του μοντέλου από του προηγούμενου.  \n",
        "Τέλος, είδαμε ότι το k που επιλέγεται κάθε φορά δίνει πιο low variance στον ταξινομητή με την χρήση αυτού του μοντέλου."
      ]
    },
    {
      "cell_type": "code",
      "metadata": {
        "id": "d4NEC3ku8Bu3",
        "colab_type": "code",
        "colab": {}
      },
      "source": [
        "if (top_score1_micro > top_score2_micro):\n",
        "  knn_micro = top_score1_micro\n",
        "else: \n",
        "  knn_micro = top_score2_micro\n",
        "\n",
        "if (top_score1_macro > top_score2_macro):\n",
        "  knn_macro = top_score1_macro\n",
        "else: \n",
        "  knn_macro = top_score2_macro\n",
        "\n",
        "classifiers_f1_micro.append(knn_micro)\n",
        "classifiers_f1_macro.append(knn_macro)\n",
        "\n",
        "classifiers_micro = ('Dummy\\nUniform', 'Dummy\\nConstant\\n-0', 'Dummy\\nConstant\\n-1', 'Dummy\\nMost\\nFrequent', 'Dummy\\nStratified', \n",
        "               'knn\\n(default)', 'knn\\n    (opt_micro)')\n",
        "classifiers_macro = ('Dummy\\nUniform', 'Dummy\\nConstant\\n-0', 'Dummy\\nConstant\\n-1', 'Dummy\\nMost\\nFrequent', 'Dummy\\nStratified', \n",
        "               'knn\\n(default)', 'knn\\n    (opt_macro)')"
      ],
      "execution_count": 0,
      "outputs": []
    },
    {
      "cell_type": "markdown",
      "metadata": {
        "id": "Tnn7hDYHegj_",
        "colab_type": "text"
      },
      "source": [
        "####Optimizing dummy classifier"
      ]
    },
    {
      "cell_type": "markdown",
      "metadata": {
        "id": "eA_Ty_Poeqps",
        "colab_type": "text"
      },
      "source": [
        "Οι dummy classifiers εξ ορισμού δεν είναι αξίοι μελέτης για βελτιστοποίηση. Ωστόσο, ας αναφέρουμε ότι ο stratified, που είναι ίσος ο μόνος που ξεχωρίζει για μελέτη, επιδέχεται κάποια βελτίωση. Πιο συγκεκριμένα, στην περίπτωσή μας με χρήση undersampling/oversampling (με αρκετές διαφορετικές τιμές για το sampling_strategy) μάλλον δεν θα μας δώσει καλύτερο αποτέλεσμα, αφού οι ισορροπίες στο trainset θα είναι πάντα διαφορετικές από αυτή του testset. Όμως, δεδομένου του 25%-75% της ισορροπίας τόσο του trainset και του testset, η σταθερή βελτιστοποίηση του stratified θα ήταν εάν έτεινε στον constant-1. Έτσι, αν ρίχναμε samples από την μειοψηφία των κλάσεων, τότε θα έδινε μάλλον καλύτερα αποτελέσματα, και στην ακραία περίπτωση που τα ρίχναμε όλα εκτός από ένα (ένα διότι πρέπει υποχρεωτικά να υπάρχουν αντιπρόσωπα δείγματα από όλες τις κλάσεις), τότε θα έτεινε ακόμα πιο πολύ στον constant-1 και το score θα ήταν περίπου ίσο με το ποσοστό της πλειοψηφίας, δηλαδή της κλάσης good. Αυτή θα ήταν μια σταθερή βελτιστοποιήση του stratified dummy classifier."
      ]
    },
    {
      "cell_type": "markdown",
      "metadata": {
        "id": "m1NEyvwO-TwE",
        "colab_type": "text"
      },
      "source": [
        "#### Τελική σύγκριση αποτελεσμάτων και συμπεράσματα"
      ]
    },
    {
      "cell_type": "markdown",
      "metadata": {
        "id": "qAShBJNB-J1t",
        "colab_type": "text"
      },
      "source": [
        "Παρακάτω, γίνεται σύγκριση όλων των ταξινομητών που χρησιμοποιήθηκαν. Δεν κάνουμε κάποια περαιτέρω ανάλυση στη βελτίωση των dummy classifiers, δεδομένου ότι βγάζουν αποτελέσματα είτε με τυχαίο τρόπο είτε σταθερά."
      ]
    },
    {
      "cell_type": "code",
      "metadata": {
        "id": "4BDoXUaH-c3n",
        "colab_type": "code",
        "outputId": "4e9ff718-af0c-4943-e8cd-e440aebc1983",
        "colab": {
          "base_uri": "https://localhost:8080/",
          "height": 953
        }
      },
      "source": [
        "plot_bar(classifiers_micro, classifiers_f1_micro, \"F1-micro\")\n",
        "plot_bar(classifiers_macro, classifiers_f1_macro, \"F1-macro\")"
      ],
      "execution_count": 0,
      "outputs": [
        {
          "output_type": "display_data",
          "data": {
            "image/png": "[encoded data removed]",
            "text/plain": [
              "<Figure size 640x480 with 1 Axes>"
            ]
          },
          "metadata": {
            "tags": []
          }
        },
        {
          "output_type": "display_data",
          "data": {
            "image/png": "[encoded data removed]",
            "text/plain": [
              "<Figure size 640x480 with 1 Axes>"
            ]
          },
          "metadata": {
            "tags": []
          }
        }
      ]
    },
    {
      "cell_type": "markdown",
      "metadata": {
        "id": "ADJZ5Xwx-gwS",
        "colab_type": "text"
      },
      "source": [
        "Βλέπουμε ότι, τελικώς, ο optimal knn ξεπέρασε τον καλυτερο dummy classifier τόσο στο f1_micro όσο και στο f1_macro, πετυχαίνοντας, έτσι, τον αρχικό μας στόχο."
      ]
    }
  ]
}