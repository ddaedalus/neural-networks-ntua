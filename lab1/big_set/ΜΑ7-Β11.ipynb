{
  "nbformat": 4,
  "nbformat_minor": 0,
  "metadata": {
    "colab": {
      "name": "ΜΑ7-Β11.ipynb",
      "provenance": [],
      "collapsed_sections": [],
      "toc_visible": true
    },
    "kernelspec": {
      "name": "python3",
      "display_name": "Python 3"
    },
    "accelerator": "GPU"
  },
  "cells": [
    {
      "cell_type": "markdown",
      "metadata": {
        "id": "x34vbNofWqEb",
        "colab_type": "text"
      },
      "source": [
        "###(**A**) **Στοιχεία** **Ομάδος**"
      ]
    },
    {
      "cell_type": "markdown",
      "metadata": {
        "id": "_MljtUv1nbAI",
        "colab_type": "text"
      },
      "source": [
        "Η παρακάτω μελέτη διεξήχθη από την ομάδα ΜΑ7:  \n",
        "**ΣΠΥΡΟΥ ΝΙΚΟΛΑΟΣ (03116201)  \n",
        "ΠΕΠΠΑΣ ΠΑΝΑΓΙΩΤΗΣ (03115146)  \n",
        "ΚΟΝΤΟΓΙΑΝΝΗΣ ΑΝΔΡΕΑΣ (03115187)**"
      ]
    },
    {
      "cell_type": "markdown",
      "metadata": {
        "id": "Hk5U5eljFs-y",
        "colab_type": "text"
      },
      "source": [
        "###**(Β) Εισαγωγή του Dataset**\n"
      ]
    },
    {
      "cell_type": "markdown",
      "metadata": {
        "id": "-NlmWwF9GRLH",
        "colab_type": "text"
      },
      "source": [
        "Θα μελετήσουμε το Β11 dataset, δηλαδή το Νomao Dataset απο το UCI Machine Learning Repository.To Nomao είναι μία μηχανή αναζήτησης που συλλέγει δεδομένα σχετικά με μέρη από διάφορες πηγές στο διαδίκτυο όπως τα ονομάτα των περιοχών, διευθύνσεις, τηλέφωνα,γεωγραφικές συντεταγμένες, fax κ.ά. Επομένως, το Νomao Data περιέχει ως δεδομένα περιγράφες περιοχών. Κάθε περιοχή περιγράφεται από τα παραπάνω χαρακτηριστικά. Κάθε εγγραφή στο dataset (sample)αποτελεί την σύγκριση 2 περιοχών με βάσει τα παραπάνω χαρακτηριστικά. Οι ετικέτες των δειγμάτων έχουν την τιμή $+1$, αν η σύγκριση αναφέρεται στην ίδια περιοχή, διαφορετικά έχουν την τιμή $-1$.  \n",
        "Επομένως, η μελέτη μας ανάγεται σε **binary classification problem**. Στην συνέχεια, θα δούμε πιο αναλυτικά τι περιέχει το dataset.\n"
      ]
    },
    {
      "cell_type": "code",
      "metadata": {
        "id": "0X7_6KC_QduX",
        "colab_type": "code",
        "outputId": "96323650-5203-4627-c08a-e15d5e34a77a",
        "colab": {
          "base_uri": "https://localhost:8080/",
          "height": 217
        }
      },
      "source": [
        "!pip install sklearn # version 2.21\n",
        "!pip install pandas"
      ],
      "execution_count": 1,
      "outputs": [
        {
          "output_type": "stream",
          "text": [
            "Requirement already satisfied: sklearn in /usr/local/lib/python3.6/dist-packages (0.0)\n",
            "Requirement already satisfied: scikit-learn in /usr/local/lib/python3.6/dist-packages (from sklearn) (0.21.3)\n",
            "Requirement already satisfied: numpy>=1.11.0 in /usr/local/lib/python3.6/dist-packages (from scikit-learn->sklearn) (1.17.4)\n",
            "Requirement already satisfied: scipy>=0.17.0 in /usr/local/lib/python3.6/dist-packages (from scikit-learn->sklearn) (1.3.3)\n",
            "Requirement already satisfied: joblib>=0.11 in /usr/local/lib/python3.6/dist-packages (from scikit-learn->sklearn) (0.14.1)\n",
            "Requirement already satisfied: pandas in /usr/local/lib/python3.6/dist-packages (0.25.3)\n",
            "Requirement already satisfied: numpy>=1.13.3 in /usr/local/lib/python3.6/dist-packages (from pandas) (1.17.4)\n",
            "Requirement already satisfied: python-dateutil>=2.6.1 in /usr/local/lib/python3.6/dist-packages (from pandas) (2.6.1)\n",
            "Requirement already satisfied: pytz>=2017.2 in /usr/local/lib/python3.6/dist-packages (from pandas) (2018.9)\n",
            "Requirement already satisfied: six>=1.5 in /usr/local/lib/python3.6/dist-packages (from python-dateutil>=2.6.1->pandas) (1.12.0)\n"
          ],
          "name": "stdout"
        }
      ]
    },
    {
      "cell_type": "markdown",
      "metadata": {
        "id": "NUbQLhhzXlDP",
        "colab_type": "text"
      },
      "source": [
        "Αρχικά διαβάζουμε το .data αρχειο. Διαπιστώνουμε ότι περιέχει 34465 δείγματα, με 120 features το καθένα."
      ]
    },
    {
      "cell_type": "code",
      "metadata": {
        "id": "CAy7joS2Qsu6",
        "colab_type": "code",
        "outputId": "87187598-fea1-418e-8495-4548c2f8e815",
        "colab": {
          "base_uri": "https://localhost:8080/",
          "height": 53
        }
      },
      "source": [
        "import pandas as pd \n",
        "import numpy as np\n",
        "\n",
        "# Read Data and take rows and columns\n",
        "df = pd.read_csv('Nomao.data', na_values = '?', header = None) \n",
        "n_samples = len(df.iloc[:,0])\n",
        "n_features = len(df.iloc[0,:])\n",
        "print(\"rows:\\t\", n_samples, \"\\ncolumns:\", n_features)"
      ],
      "execution_count": 2,
      "outputs": [
        {
          "output_type": "stream",
          "text": [
            "rows:\t 34465 \n",
            "columns: 120\n"
          ],
          "name": "stdout"
        }
      ]
    },
    {
      "cell_type": "markdown",
      "metadata": {
        "id": "E5hOQteIa6zk",
        "colab_type": "text"
      },
      "source": [
        "Στην συνέχεια, ελέγχουμε για NaN values ή απουσιάζουσες τιμές και διαπιστώνουμε ότι το πλήθος αυτών έιναι 1166378. Όσον αφορά την ισορροπία του dataset παρατηρούμε ότι τα ποσοστά των κλάσεων είναι 71% - 29%, περίπου, με την πλειοψηφία να είναι υπέρ της κλάσης 1. Επομένως,πρόκειται για ένα imbalanced set και όπως θα δούμε παρακάτω θα χρησιμοποιήσουμε μεθόδους κυρίως undersampling, λόγω του μεγάλου μεγέθους του dataset, για την εξισορρόπησή του.  "
      ]
    },
    {
      "cell_type": "code",
      "metadata": {
        "id": "Na9KFuuNRwJK",
        "colab_type": "code",
        "outputId": "f09065fa-d934-4f11-97eb-d39444598a8d",
        "colab": {
          "base_uri": "https://localhost:8080/",
          "height": 143
        }
      },
      "source": [
        "# Dataset Balance \n",
        "data = np.array(df)\n",
        "print(\"#NaN in dataset:\",np.sum(np.sum(df.isna())))\n",
        "\n",
        "labels = data[:,119]\n",
        "count_ones = np.sum([labels == 1])\n",
        "count_minus_ones = np.sum([labels == -1])\n",
        "\n",
        "print(\"\\nDataset Balance\")\n",
        "print(\"#labeled ones(1):\\t\", count_ones)\n",
        "print(\"#labeled minus ones(-1):\", count_minus_ones)\n",
        "print(\"#Ones(1) percent:\\t\", (100*count_ones / (count_ones + count_minus_ones)), \"%\")\n",
        "print(\"#Minus Ones(-1) percent:\",(100*count_minus_ones / (count_ones + count_minus_ones)), \"%\")\n"
      ],
      "execution_count": 3,
      "outputs": [
        {
          "output_type": "stream",
          "text": [
            "#NaN in dataset: 1166378\n",
            "\n",
            "Dataset Balance\n",
            "#labeled ones(1):\t 24621\n",
            "#labeled minus ones(-1): 9844\n",
            "#Ones(1) percent:\t 71.43769041056144 %\n",
            "#Minus Ones(-1) percent: 28.56230958943856 %\n"
          ],
          "name": "stdout"
        }
      ]
    },
    {
      "cell_type": "markdown",
      "metadata": {
        "id": "wZEZMbIEfLtc",
        "colab_type": "text"
      },
      "source": [
        "Αρχικά χρειάζεται να διαχειριστούμε τα ΝaN values. Ορίζουμε ένα threshold και χρησιμοποιούμε την dropna για να αφαιρέσουμε κάποιες στήλες που περιέχουν NaN values με βάση το κατώφλι που ορίσαμε. Θέσαμε το threhold ίσο με 0.6, κάτι που σημαίνει ότι κρατάμε μόνο στήλες που περιέχουν τουλάχιστον 60% non NaN values, ένω τις υπόλοιπες τις αφαιρούμε."
      ]
    },
    {
      "cell_type": "code",
      "metadata": {
        "id": "EhwGb8EPQohD",
        "colab_type": "code",
        "outputId": "8802b8e9-843f-4500-c1ee-4924452c833a",
        "colab": {
          "base_uri": "https://localhost:8080/",
          "height": 107
        }
      },
      "source": [
        "# Delete id column\n",
        "df.drop(columns=0, inplace=True)\n",
        "\n",
        "# Delete NaN values, delete columns\n",
        "import math\n",
        "threshold = math.ceil(0.6 * n_samples) # require that many non NaN\n",
        "dataframe = df.dropna(axis=1, thresh=threshold)\n",
        "n_samples = len(dataframe.iloc[:,0])\n",
        "n_features = len(dataframe.iloc[0,:])\n",
        "print(\"rows:\\t\", n_samples, \"\\ncolumns:\", n_features)\n",
        "X_df, y_df = dataframe.iloc[:, 0:n_features-1], dataframe.iloc[:, n_features-1]\n",
        "y = np.array(y_df)\n",
        "print(\"dataframe shape \", str(dataframe.shape))\n",
        "print(\"X_df shape \", str(X_df.shape))\n",
        "print(\"y_df shape \", str(y_df.shape))"
      ],
      "execution_count": 4,
      "outputs": [
        {
          "output_type": "stream",
          "text": [
            "rows:\t 34465 \n",
            "columns: 76\n",
            "dataframe shape  (34465, 76)\n",
            "X_df shape  (34465, 75)\n",
            "y_df shape  (34465,)\n"
          ],
          "name": "stdout"
        }
      ]
    },
    {
      "cell_type": "markdown",
      "metadata": {
        "id": "7oncPJcWi5lQ",
        "colab_type": "text"
      },
      "source": [
        "Το dataset μας περιέχει και κάποιες στήλες με κατηγορικά χαρακτηριστικά σε μορφή string π.χ.('m','n','s'), τα οποία πρέπει να διαχειριστούμε. Η μεθοδολογία που ακολουθούμε είναι να μετατρέψουμε κάθε κατηγορικό χαρακτηριστικό με n πιθανές τιμές σε n binary χαρακτηριστικά από τα οποία μόνο ένα θα είναι ενεργό(ίσο με 1) κάθε φορά."
      ]
    },
    {
      "cell_type": "code",
      "metadata": {
        "id": "fpxC3omidi8x",
        "colab_type": "code",
        "outputId": "bcaca9ab-fe32-4e8e-8ea4-2fe7d641a235",
        "colab": {
          "base_uri": "https://localhost:8080/",
          "height": 53
        }
      },
      "source": [
        "# Με την \"get_dummies\" κάνουμε τη μετατροπή σε binary χαρακτηριστικά που περιγράψαμε\n",
        "nominal_columns = [ 7, 8, 15, 16, 23, 24, 31, 32, 39, 40, 47, 48, 55, 56, 63, \n",
        "                   64, 71, 72, 79, 80, 87, 88, 92, 96, 100, 104, 108, 112, 116 ]\n",
        "\n",
        "X_bin_dummies = pd.get_dummies(X_df, columns=nominal_columns)\n",
        "n_samples = len(X_bin_dummies.iloc[:,0])\n",
        "n_features = len(X_bin_dummies.iloc[0,:])\n",
        "print(\"rows:\\t\", n_samples, \"\\ncolumns:\", n_features)"
      ],
      "execution_count": 5,
      "outputs": [
        {
          "output_type": "stream",
          "text": [
            "rows:\t 34465 \n",
            "columns: 131\n"
          ],
          "name": "stdout"
        }
      ]
    },
    {
      "cell_type": "markdown",
      "metadata": {
        "id": "AOSZ6rUEl6kq",
        "colab_type": "text"
      },
      "source": [
        "Εν συνεχεία χρειάζεται να επεξεργαστούμε τις στήλες που έχουν κάποια ΝaN values (λιγότερα απο 40%), τις οποίες δεν αφαιρέσαμε παραπάνω. Για αυτό θα χρησιμοποιήσουμε τον μετασχηματιστή Imputer. Aυτός ο μετασχηματιστής θα αντικαταστήσει κάθε τιμή NaN  με την μέση τιμή(το dataset περιέχει συνεχείς τιμές) των τιμών της εκάστοτε στήλης."
      ]
    },
    {
      "cell_type": "code",
      "metadata": {
        "id": "5eEARIKjwvLI",
        "colab_type": "code",
        "outputId": "c4929f2b-48ec-452d-e91a-2464a7f18068",
        "colab": {
          "base_uri": "https://localhost:8080/",
          "height": 289
        }
      },
      "source": [
        "import warnings\n",
        "warnings.filterwarnings(\"ignore\", category=DeprecationWarning)\n",
        "\n",
        "# Update NaN values with mean values\n",
        "from sklearn.preprocessing import Imputer\n",
        "imr = Imputer(missing_values='NaN', strategy='mean', axis=0)\n",
        "imr = imr.fit(X_bin_dummies.values)\n",
        "X = imr.transform(X_bin_dummies.values)\n",
        "\n",
        "print(\"#NaN in dataset:\",np.sum(np.sum(pd.DataFrame(X).isna())))\n",
        "\n",
        "print(\"\\ny is :\", y)\n",
        "print(\"y shape \", str(y.shape))\n",
        "print(\"X is :\", X)\n",
        "print(\"X shape \", str(X.shape))\n",
        "\n",
        "X=np.array(X)\n",
        "\n",
        "n_samples = X.shape[0]\n",
        "n_features = X.shape[1]\n",
        "n_labels = len(y)"
      ],
      "execution_count": 6,
      "outputs": [
        {
          "output_type": "stream",
          "text": [
            "#NaN in dataset: 0\n",
            "\n",
            "y is : [ 1  1  1 ...  1  1 -1]\n",
            "y shape  (34465,)\n",
            "X is : [[1.       1.       1.       ... 0.       1.       0.      ]\n",
            " [1.       0.75     0.857143 ... 0.       1.       0.      ]\n",
            " [1.       1.       1.       ... 0.       1.       0.      ]\n",
            " ...\n",
            " [0.       0.       0.3125   ... 1.       0.       0.      ]\n",
            " [0.5      0.2      0.414966 ... 1.       0.       0.      ]\n",
            " [0.5      0.333333 0.511111 ... 1.       0.       0.      ]]\n",
            "X shape  (34465, 131)\n"
          ],
          "name": "stdout"
        },
        {
          "output_type": "stream",
          "text": [
            "/usr/local/lib/python3.6/dist-packages/sklearn/utils/deprecation.py:66: DeprecationWarning: Class Imputer is deprecated; Imputer was deprecated in version 0.20 and will be removed in 0.22. Import impute.SimpleImputer from sklearn instead.\n",
            "  warnings.warn(msg, category=DeprecationWarning)\n"
          ],
          "name": "stderr"
        }
      ]
    },
    {
      "cell_type": "markdown",
      "metadata": {
        "id": "wSr7Ev7VR6r6",
        "colab_type": "text"
      },
      "source": [
        "Ελέγχουμε αν τα δεδομένα μας είναι κανονικοποιημένα με την παρακάτω συνάρτηση."
      ]
    },
    {
      "cell_type": "code",
      "metadata": {
        "id": "Uk7g0jyUwuVO",
        "colab_type": "code",
        "colab": {}
      },
      "source": [
        "def checkScaled(data):\n",
        "  # Checks whether the dataset is already regularized or not scaled\n",
        "  flag = True\n",
        "  for i in range(data.shape[0]):\n",
        "    for j in range(data.shape[1]):\n",
        "      if (data[i][j] < 0 or data[i][j] > 1):\n",
        "        print(i,j)\n",
        "        flag = False\n",
        "        break\n",
        "      if (not flag):\n",
        "        break\n",
        "\n",
        "  if (flag):\n",
        "    print(\"Regularized\")\n",
        "  else:\n",
        "    print(\"Not scaled\")"
      ],
      "execution_count": 0,
      "outputs": []
    },
    {
      "cell_type": "markdown",
      "metadata": {
        "id": "GksxfgcrqiW_",
        "colab_type": "text"
      },
      "source": [
        "Διαπιστώνουμε ότι οι τιμές είναι ήδη κανονικοποιημένες, ως regularized."
      ]
    },
    {
      "cell_type": "code",
      "metadata": {
        "id": "FIJhm8pbypjH",
        "colab_type": "code",
        "outputId": "80065795-0d4b-41ba-a277-846e726d4416",
        "colab": {
          "base_uri": "https://localhost:8080/",
          "height": 35
        }
      },
      "source": [
        "checkScaled(X[:,0:n_features])"
      ],
      "execution_count": 8,
      "outputs": [
        {
          "output_type": "stream",
          "text": [
            "Regularized\n"
          ],
          "name": "stdout"
        }
      ]
    },
    {
      "cell_type": "markdown",
      "metadata": {
        "id": "zpYnU0XBSF0k",
        "colab_type": "text"
      },
      "source": [
        "Σε αυτό το σημείο, αφού έχουμε λάβει σε μία ικανοποιητική μορφή το dataset χρειάζεται να το διαχωρίσουμε σε train set και test set με αναλογία 70%-30%. Παρατηρήσαμε ότι οι ετικέτες της δεύτερης κλάσης(-1) βρίσκονταν συσσωρευμένες στις τελευταίες γραμμές του dataset. Για αυτόν τον λόγο κατά τον διαχωρισμό επιλέξαμε να κάνουμε shuffle, έτσι ώστε να αποφύγουμε το ενδεχόμενο το train set να περιέχει πολύ μικρό πλήθος ετικετών της κλασής 2(-1). Μετά τον διαχωρισμό, υπολογίσαμε την ισορροπία τόσο του train set όσο και του data set. Οι αναλογίες των δύο κλάσεων, τοσο στο train set όσο και στο test set  προέκυψαν σχεδόν ίδιες με το αρχικό dataset(71% - 29%)."
      ]
    },
    {
      "cell_type": "markdown",
      "metadata": {
        "id": "Jiw_Fbgf6bkP",
        "colab_type": "text"
      },
      "source": [
        "Αυτό συμβαίνει καθώς επειδή έχουμε πολύ μεγάλο αριθμό απο samples, το shuffle δεν επηρεάζει τις αναλογίες του αρχικού dataset, καθώς όσο αυξάνει ο αριθμός των δειγμάτων, οι αναλογίες τείνουν να είναι ίδιες με τις a priori του dataset.\n"
      ]
    },
    {
      "cell_type": "code",
      "metadata": {
        "id": "FZSIETIwzko2",
        "colab_type": "code",
        "outputId": "fdb121b0-6224-4e7f-f4d5-1fc0403a6b90",
        "colab": {
          "base_uri": "https://localhost:8080/",
          "height": 215
        }
      },
      "source": [
        "from sklearn.model_selection import train_test_split\n",
        "\n",
        "# Split Dataset: 30% Testset\n",
        "X_train, X_test, y_train, y_test = train_test_split(X, y, test_size=0.30, shuffle=True)\n",
        "\n",
        "# Training set Balance (binary classification)\n",
        "count_minus_ones = np.sum([y_train == -1])\n",
        "count_ones = np.sum([y_train == 1])\n",
        "print(\"Trainset Balance\")\n",
        "print(\"#labeled 1s:\\t\" + str(count_ones))\n",
        "print(\"#labeled -1s:\\t\" + str(count_minus_ones))\n",
        "print(\"1s percent:\\t\" + str( 100 * count_ones / (count_ones + count_minus_ones) ) + \" %\")\n",
        "print(\"-1s percent:\\t\" + str( 100 * count_minus_ones / (count_ones + count_minus_ones) ) + \" %\")\n",
        "print()\n",
        "\n",
        "# Test set Balance (binary classification)\n",
        "count_minus_ones = np.sum([y_test == -1])\n",
        "count_ones = np.sum([y_test == 1])\n",
        "print(\"Testset Balance\")\n",
        "print(\"#labeled 1s:\\t\" + str(count_ones))\n",
        "print(\"#labeled -1s:\\t\" + str(count_minus_ones))\n",
        "print(\"1s percent:\\t\" + str( 100 * count_ones / (count_ones + count_minus_ones) ) + \" %\")\n",
        "print(\"-1s percent:\\t\" + str( 100 * count_minus_ones / (count_ones + count_minus_ones) ) + \" %\")"
      ],
      "execution_count": 9,
      "outputs": [
        {
          "output_type": "stream",
          "text": [
            "Trainset Balance\n",
            "#labeled 1s:\t17188\n",
            "#labeled -1s:\t6937\n",
            "1s percent:\t71.24559585492229 %\n",
            "-1s percent:\t28.75440414507772 %\n",
            "\n",
            "Testset Balance\n",
            "#labeled 1s:\t7433\n",
            "#labeled -1s:\t2907\n",
            "1s percent:\t71.88588007736944 %\n",
            "-1s percent:\t28.11411992263056 %\n"
          ],
          "name": "stdout"
        }
      ]
    },
    {
      "cell_type": "code",
      "metadata": {
        "id": "APu8bh0RTOv_",
        "colab_type": "code",
        "colab": {}
      },
      "source": [
        "print(\"X_train shape: \" + str(X_train.shape))\n",
        "print(\"X_test shape: \" + str(X_test.shape))\n",
        "print(\"y_train shape: \" + str(y_train.shape))\n",
        "print(\"y_test shape: \" + str(y_test.shape))"
      ],
      "execution_count": 0,
      "outputs": []
    },
    {
      "cell_type": "markdown",
      "metadata": {
        "id": "gKM1SPaATYEf",
        "colab_type": "text"
      },
      "source": [
        "### **(Γ) Baseline classification** \n"
      ]
    },
    {
      "cell_type": "markdown",
      "metadata": {
        "id": "c1Nt_SK8UG-E",
        "colab_type": "text"
      },
      "source": [
        "Θα δοκιμάσουμε πρώτα κάποιες πολύ απλές τακτικές ταξινόμησης. Η κλάση DummyClassifier δέχεται μια παράμετρο που καθορίζει την τακτική της ταξινόμησης ως εξής:\n",
        "\n",
        "“uniform”: προβλέπει τυχαία και ομοιόμορφα.\n",
        "\n",
        "“constant”: προβλέπει πάντα μία κατηγορία που τη διαλέγει ο χρήστης.\n",
        "\n",
        "“most_frequent”: προβλέπει πάντα την πιο συχνή κατηγορία στο training set.\n",
        "\n",
        "“stratified”: κάνει προβλέψεις διατηρώντας την κατανομή των κλάσεων στο training set."
      ]
    },
    {
      "cell_type": "markdown",
      "metadata": {
        "id": "cMZqhCoLUyfz",
        "colab_type": "text"
      },
      "source": [
        "####**Dummy Classifiers**"
      ]
    },
    {
      "cell_type": "code",
      "metadata": {
        "id": "TUzBgb5RUbi8",
        "colab_type": "code",
        "outputId": "23b9c8f9-eaad-4f43-ff55-a71c1efdc67e",
        "colab": {
          "base_uri": "https://localhost:8080/",
          "height": 168
        }
      },
      "source": [
        "from sklearn.dummy import DummyClassifier\n",
        "from sklearn.metrics import accuracy_score\n",
        "\n",
        "# Dummy Classifier\n",
        "dc_uniform = DummyClassifier(strategy=\"uniform\")\n",
        "dc_constant_0 = DummyClassifier(strategy=\"constant\", constant=-1)\n",
        "dc_constant_1 = DummyClassifier(strategy=\"constant\", constant=1)\n",
        "dc_most_frequent = DummyClassifier(strategy=\"most_frequent\")\n",
        "dc_stratified = DummyClassifier(strategy=\"stratified\") \n",
        "#\n",
        "# Training and accuracy Scoring\n",
        "accuracy = {}\n",
        "model = dc_uniform.fit(X_train, y_train)\n",
        "accuracy['uniform (random) \\t'] = dc_uniform.score(X_test, y_test)\n",
        "model = dc_constant_0.fit(X_train, y_train)\n",
        "accuracy['constant -1 \\t\\t'] = dc_constant_0.score(X_test, y_test)\n",
        "model = dc_constant_1.fit(X_train, y_train)\n",
        "accuracy['constant 1 \\t\\t'] = dc_constant_1.score(X_test, y_test)\n",
        "model = dc_most_frequent.fit(X_train, y_train)\n",
        "accuracy['most frequent label \\t'] = dc_most_frequent.score(X_test, y_test)\n",
        "model = dc_stratified.fit(X_train, y_train)\n",
        "accuracy['stratified \\t\\t'] = dc_stratified.score(X_test, y_test)\n",
        "\n",
        "print(\"Classification Accuracy on the given Dataset (30% test set)\\n\")\n",
        "sorted_accuracy = [(k, accuracy[k]) for k in sorted(accuracy, key=accuracy.get, reverse=True)]\n",
        "print(\"Dummy Classifiers Scores\")\n",
        "for clf, score in sorted_accuracy:\n",
        "  print(str(clf) + \": \", score)\n",
        "print()\n",
        "\n",
        "y_pred1 = dc_uniform.predict(X_test)\n",
        "y_pred2 = dc_constant_0.predict(X_test)\n",
        "y_pred3 = dc_constant_1.predict(X_test)\n",
        "y_pred4 = dc_most_frequent.predict(X_test)\n",
        "y_pred5 = dc_stratified.predict(X_test)\n",
        "label_names = [\"not merged\", \"merged\"]"
      ],
      "execution_count": 0,
      "outputs": [
        {
          "output_type": "stream",
          "text": [
            "Classification Accuracy on the given Dataset (30% test set)\n",
            "\n",
            "Dummy Classifiers Scores\n",
            "constant 1 \t\t:  0.7126692456479691\n",
            "most frequent label \t:  0.7126692456479691\n",
            "stratified \t\t:  0.5960348162475823\n",
            "uniform (random) \t:  0.49980657640232107\n",
            "constant -1 \t\t:  0.2873307543520309\n",
            "\n"
          ],
          "name": "stdout"
        }
      ]
    },
    {
      "cell_type": "markdown",
      "metadata": {
        "id": "mRm0E8S3JcHa",
        "colab_type": "text"
      },
      "source": [
        "Aπό τα παραπάνω παρατηρούμε ότι ο constant-1  και ο most frequent label προβλέπουν πάντα 1 για αυτό έχουν και το ίδιο ποσοστό. Ο constant-1 προβλέπει πάντα την δεύτερη κλάση(-1), για αυτό δίνει ως αποτέλεσμα το ποσοστό της κλάσης(-1). Τέλος, παρατηρούμε τα ποσοστά για random (0.49) και stratified (0.59)."
      ]
    },
    {
      "cell_type": "markdown",
      "metadata": {
        "id": "rU0416qaMdY4",
        "colab_type": "text"
      },
      "source": [
        "Στην συνέχεια δημιουργoύμε μία συνάρτηση που τυπώνει το confusion matrix, f1-micro, f1-macro, καθώς και ολόκληρο το report της ταξινόμησης για τους dummy classifiers."
      ]
    },
    {
      "cell_type": "code",
      "metadata": {
        "id": "rOjFfUsvWanh",
        "colab_type": "code",
        "colab": {}
      },
      "source": [
        "from sklearn.metrics import confusion_matrix\n",
        "from sklearn.metrics import precision_recall_fscore_support\n",
        "from sklearn.metrics import classification_report\n",
        "\n",
        "def score(y_pred, y_test, name, label_names):\n",
        "  cnf_matrix = confusion_matrix(y_test, y_pred)\n",
        "  print(\"Confusion Matrix: \" + name)\n",
        "  df_confusion_matrix = pd.DataFrame(cnf_matrix, label_names, columns=[\"Predicted not merged\", \"Predicted merged\"]) \n",
        "  print(df_confusion_matrix)\n",
        "  print()\n",
        "  # εκτυπώνουμε τa precision, recall και F1 λαμβάνοντας υπόψη συνολικά (αθροίζοντας εκτός κλάσεων) τα δείγματα (average = micro).\n",
        "  print(\"F1 micro\")\n",
        "  f1_micro = precision_recall_fscore_support(y_test, y_pred, average='micro')\n",
        "  print(f1_micro, \"\\n\")\n",
        "  # εκτυπώνουμε το μέσο όρο των precision, recall και F1 θεωρόντας ότι οι κλάσεις έχουν το ίδιο βάρος (average = macro)\n",
        "  print(\"F1 macro\")\n",
        "  f1_macro = precision_recall_fscore_support(y_test, y_pred, average='macro')\n",
        "  print(f1_macro, \"\\n\")\n",
        "  print()\n",
        "  print(\"Classification Report of \" + name)\n",
        "  print()\n",
        "  print(classification_report(y_test, y_pred, target_names=label_names))\n",
        "\n",
        "  # Return accuracy F1 scores\n",
        "  return (f1_micro[2], f1_macro[2])"
      ],
      "execution_count": 0,
      "outputs": []
    },
    {
      "cell_type": "code",
      "metadata": {
        "id": "PSLwtl-0xMXY",
        "colab_type": "code",
        "colab": {}
      },
      "source": [
        "classifiers_f1_micro = []\n",
        "classifiers_f1_macro = []"
      ],
      "execution_count": 0,
      "outputs": []
    },
    {
      "cell_type": "code",
      "metadata": {
        "id": "vTGw_mZSuwe9",
        "colab_type": "code",
        "outputId": "a0d2d80b-3760-4a79-a56c-55077b1ad968",
        "colab": {
          "base_uri": "https://localhost:8080/",
          "height": 403
        }
      },
      "source": [
        "f1_scores = score(y_pred1, y_test, \"Dummy Classifier Uniform\", label_names)\n",
        "classifiers_f1_micro.append(f1_scores[0])\n",
        "classifiers_f1_macro.append(f1_scores[1])"
      ],
      "execution_count": 0,
      "outputs": [
        {
          "output_type": "stream",
          "text": [
            "Confusion Matrix: Dummy Classifier Uniform\n",
            "             Predicted not merged  Predicted merged\n",
            "not mergerd                  1499              1472\n",
            "merged                       3601              3768\n",
            "\n",
            "F1 micro\n",
            "(0.5093810444874275, 0.5093810444874275, 0.5093810444874275, None) \n",
            "\n",
            "F1 macro\n",
            "(0.50650276904655, 0.5079375885744766, 0.48456084182454817, None) \n",
            "\n",
            "\n",
            "Classification Report of Dummy Classifier Uniform\n",
            "\n",
            "              precision    recall  f1-score   support\n",
            "\n",
            " not mergerd       0.29      0.50      0.37      2971\n",
            "      merged       0.72      0.51      0.60      7369\n",
            "\n",
            "    accuracy                           0.51     10340\n",
            "   macro avg       0.51      0.51      0.48     10340\n",
            "weighted avg       0.60      0.51      0.53     10340\n",
            "\n"
          ],
          "name": "stdout"
        }
      ]
    },
    {
      "cell_type": "markdown",
      "metadata": {
        "id": "WdSWBq3320cm",
        "colab_type": "text"
      },
      "source": [
        "Προφανώς, τα παραπάνω αποτελέσματα είναι βγαλμένα με τυχαία τρόπο."
      ]
    },
    {
      "cell_type": "code",
      "metadata": {
        "id": "3LEZqJTHwlbw",
        "colab_type": "code",
        "outputId": "28b79441-04b7-4fa5-d762-d2f15ff27a17",
        "colab": {
          "base_uri": "https://localhost:8080/",
          "height": 457
        }
      },
      "source": [
        "f1_scores = score(y_pred2, y_test, \"Dummy Classifier Constant-1\", label_names)\n",
        "classifiers_f1_micro.append(f1_scores[0])\n",
        "classifiers_f1_macro.append(f1_scores[1])"
      ],
      "execution_count": 0,
      "outputs": [
        {
          "output_type": "stream",
          "text": [
            "Confusion Matrix: Dummy Classifier Constant-1\n",
            "             Predicted not merged  Predicted merged\n",
            "not mergerd                  2971                 0\n",
            "merged                       7369                 0\n",
            "\n",
            "F1 micro\n",
            "(0.2873307543520309, 0.2873307543520309, 0.2873307543520309, None) \n",
            "\n",
            "F1 macro\n",
            "(0.14366537717601546, 0.5, 0.2231988580872962, None) \n",
            "\n",
            "\n",
            "Classification Report of Dummy Classifier Constant-1\n",
            "\n",
            "              precision    recall  f1-score   support\n",
            "\n",
            " not mergerd       0.29      1.00      0.45      2971\n",
            "      merged       0.00      0.00      0.00      7369\n",
            "\n",
            "    accuracy                           0.29     10340\n",
            "   macro avg       0.14      0.50      0.22     10340\n",
            "weighted avg       0.08      0.29      0.13     10340\n",
            "\n"
          ],
          "name": "stdout"
        },
        {
          "output_type": "stream",
          "text": [
            "/usr/local/lib/python3.6/dist-packages/sklearn/metrics/classification.py:1437: UndefinedMetricWarning: Precision and F-score are ill-defined and being set to 0.0 in labels with no predicted samples.\n",
            "  'precision', 'predicted', average, warn_for)\n"
          ],
          "name": "stderr"
        }
      ]
    },
    {
      "cell_type": "code",
      "metadata": {
        "id": "BPskKrRsxjnR",
        "colab_type": "code",
        "outputId": "4301ee23-6287-4a3c-d1b0-aa4d0e9fdbb3",
        "colab": {
          "base_uri": "https://localhost:8080/",
          "height": 457
        }
      },
      "source": [
        "f1_scores = score(y_pred3, y_test, \"Dummy Classifier Constant1\", label_names)\n",
        "classifiers_f1_micro.append(f1_scores[0])\n",
        "classifiers_f1_macro.append(f1_scores[1])"
      ],
      "execution_count": 0,
      "outputs": [
        {
          "output_type": "stream",
          "text": [
            "Confusion Matrix: Dummy Classifier Constant1\n",
            "             Predicted not merged  Predicted merged\n",
            "not mergerd                     0              2971\n",
            "merged                          0              7369\n",
            "\n",
            "F1 micro\n",
            "(0.7126692456479691, 0.7126692456479691, 0.7126692456479691, None) \n",
            "\n",
            "F1 macro\n",
            "(0.35633462282398454, 0.5, 0.4161160991586199, None) \n",
            "\n",
            "\n",
            "Classification Report of Dummy Classifier Constant1\n",
            "\n",
            "              precision    recall  f1-score   support\n",
            "\n",
            " not mergerd       0.00      0.00      0.00      2971\n",
            "      merged       0.71      1.00      0.83      7369\n",
            "\n",
            "    accuracy                           0.71     10340\n",
            "   macro avg       0.36      0.50      0.42     10340\n",
            "weighted avg       0.51      0.71      0.59     10340\n",
            "\n"
          ],
          "name": "stdout"
        },
        {
          "output_type": "stream",
          "text": [
            "/usr/local/lib/python3.6/dist-packages/sklearn/metrics/classification.py:1437: UndefinedMetricWarning: Precision and F-score are ill-defined and being set to 0.0 in labels with no predicted samples.\n",
            "  'precision', 'predicted', average, warn_for)\n"
          ],
          "name": "stderr"
        }
      ]
    },
    {
      "cell_type": "markdown",
      "metadata": {
        "id": "mxCn9AOk3Gip",
        "colab_type": "text"
      },
      "source": [
        "Στους constant dummy το precision είναι πάντα ίσο με την ισορροπία του test, ενώ το recall είναι 1.00 για το label που ταυτίζεται με την constant σταθερά."
      ]
    },
    {
      "cell_type": "code",
      "metadata": {
        "id": "Biv8xmhOxlt8",
        "colab_type": "code",
        "outputId": "56ae2c3c-7be8-40f6-d1e8-bc130471d4e3",
        "colab": {
          "base_uri": "https://localhost:8080/",
          "height": 457
        }
      },
      "source": [
        "f1_scores = score(y_pred4, y_test, \"Dummy Classifier Most Frequent\", label_names)\n",
        "classifiers_f1_micro.append(f1_scores[0])\n",
        "classifiers_f1_macro.append(f1_scores[1])"
      ],
      "execution_count": 0,
      "outputs": [
        {
          "output_type": "stream",
          "text": [
            "Confusion Matrix: Dummy Classifier Most Frequent\n",
            "             Predicted not merged  Predicted merged\n",
            "not mergerd                     0              2971\n",
            "merged                          0              7369\n",
            "\n",
            "F1 micro\n",
            "(0.7126692456479691, 0.7126692456479691, 0.7126692456479691, None) \n",
            "\n",
            "F1 macro\n",
            "(0.35633462282398454, 0.5, 0.4161160991586199, None) \n",
            "\n",
            "\n",
            "Classification Report of Dummy Classifier Most Frequent\n",
            "\n",
            "              precision    recall  f1-score   support\n",
            "\n",
            " not mergerd       0.00      0.00      0.00      2971\n",
            "      merged       0.71      1.00      0.83      7369\n",
            "\n",
            "    accuracy                           0.71     10340\n",
            "   macro avg       0.36      0.50      0.42     10340\n",
            "weighted avg       0.51      0.71      0.59     10340\n",
            "\n"
          ],
          "name": "stdout"
        },
        {
          "output_type": "stream",
          "text": [
            "/usr/local/lib/python3.6/dist-packages/sklearn/metrics/classification.py:1437: UndefinedMetricWarning: Precision and F-score are ill-defined and being set to 0.0 in labels with no predicted samples.\n",
            "  'precision', 'predicted', average, warn_for)\n"
          ],
          "name": "stderr"
        }
      ]
    },
    {
      "cell_type": "code",
      "metadata": {
        "id": "0hAYqKPKxqJF",
        "colab_type": "code",
        "outputId": "8d0976df-1037-462d-b53d-871e2abb2cf1",
        "colab": {
          "base_uri": "https://localhost:8080/",
          "height": 403
        }
      },
      "source": [
        "f1_scores = score(y_pred5, y_test, \"Dummy Classifier Stratified\", label_names)\n",
        "classifiers_f1_micro.append(f1_scores[0])\n",
        "classifiers_f1_macro.append(f1_scores[1])"
      ],
      "execution_count": 0,
      "outputs": [
        {
          "output_type": "stream",
          "text": [
            "Confusion Matrix: Dummy Classifier Stratified\n",
            "             Predicted not merged  Predicted merged\n",
            "not mergerd                   838              2133\n",
            "merged                       2101              5268\n",
            "\n",
            "F1 micro\n",
            "(0.5905222437137331, 0.5905222437137331, 0.5905222437137331, None) \n",
            "\n",
            "F1 macro\n",
            "(0.498463350110537, 0.4984732999809668, 0.4984624937135342, None) \n",
            "\n",
            "\n",
            "Classification Report of Dummy Classifier Stratified\n",
            "\n",
            "              precision    recall  f1-score   support\n",
            "\n",
            " not mergerd       0.29      0.28      0.28      2971\n",
            "      merged       0.71      0.71      0.71      7369\n",
            "\n",
            "    accuracy                           0.59     10340\n",
            "   macro avg       0.50      0.50      0.50     10340\n",
            "weighted avg       0.59      0.59      0.59     10340\n",
            "\n"
          ],
          "name": "stdout"
        }
      ]
    },
    {
      "cell_type": "markdown",
      "metadata": {
        "id": "QeS6KehD3UQj",
        "colab_type": "text"
      },
      "source": [
        "Τα αποτελέσματα του recall και precision για τον stratified είναι πολύ κοντά στην ισορροπία του dataset. Κάτι που περιμέναμε, αφού ο Stratified Dummy στο binary classification αντιστοιχείζεται σε ένα μη τίμιο νόμισμα με πιθανότητα κορώνας και γράμματα αντίστοιχα με την ισορροπία του dataset και όσο μεγαλώνει το πλήθος των samples τόσο τα ποσοστά κορώνας θα τείνουν στην a priori πιθανότητα."
      ]
    },
    {
      "cell_type": "markdown",
      "metadata": {
        "id": "dQGxUPzGxtu7",
        "colab_type": "text"
      },
      "source": [
        "\n",
        "####**k-nearest neighbors classifier (knn)** \n",
        "\n"
      ]
    },
    {
      "cell_type": "markdown",
      "metadata": {
        "id": "1Y-jZqTWwQhC",
        "colab_type": "text"
      },
      "source": [
        "O kNN είναι ένας μη παραμετρικός ταξινομητής βασισμένος σε παραδείγματα (instance-based). Η αρχή λειτουργίας του είναι πολύ απλή. Για ένα νέο δείγμα προς ταξινόμηση, πρώτα υπολογίζουμε τους k πλησιέστερους γείτονές του (στον ν-διάστατο χώρο των χαρακτηριστικών εισόδου) με βάση κάποια συνάρτηση απόστασης, συνήθως ευκλείδεια\n",
        "$$d(x, x') = \\sqrt{\\left(x_1 - x'_1 \\right)^2 + \\left(x_2 - x'_2 \\right)^2 + \\dotsc + \\left(x_n - x'_n \\right)^2}$$\n",
        "Η κλάση του νέου δείγματος θα είναι η κλάση της πλειοψηφίας των k γειτόνων (διαλέγουμε k περιττό γενικά), είτε απλά υπολογισμένη (άθροισμα) είτε (αντίστροφα) ζυγισμένη με βάση την απόσταση του κάθε γείτονα. \n",
        "\n",
        "Ο kNN δεν έχει πρακτικά φάση εκπαίδευσης. Ωστόσο, για να ταξινομήσουμε ένα νέο δείγμα στην φάση test,  πρέπει να συγκρίνουμε την απόστασή του με κάθε δείγμα του train set. Αυτό σημαίνει ότι για την ταξινόμηση είναι απαραίτητα όλα τα δείγματα εκπαίδευσης (εξού και η ονομασία \"instance-based\", ενώ στον Naive Bayes χρειαζόμαστε μόνο τις παραμέτρους $μ$ και $σ^2$). Αυτό σημαίνει ότι ο kNN είναι πιο απαιτητικός και σε χώρο (αποθήκευση όλων των δειγμάτων) και σε χρόνο (υπολογισμός όλων των αποστάσεων για κάθε νέο δείγμα).\n",
        "\n",
        "Όσο το k μικραίνει αυτό σημαίνει πως ο knn προσαρμόζεται πιο πολύ στο train set. Όσο πιο κοντά στο 1 πηγαίνει τόσο πιο πολύ high variance έχουμε, δηλαδή το μοντέλο δεν είναι τόσο γενικό, αλλά είναι πολύ fit στο training set. Όσο το k αυξάνει τόσο οι προβλέψεις γίνονται πιο σταθερές στην πλειψηφία των τιμών και της μέσης τιμής με αποτέλεσμα να έχουμε περισσοτερές επιτυχημένες προβλέψεις.Συνεχίζοντας να αυξάνει το k ξεκινάμε να έχουμε αρκετές αποτυχίες όμως. Αυτό είναι το σημείο που θεωρητικά πρέπει να σταματήσουμε να αυξάνουμε το k και αρκετές φορές είναι κοντά στο $\\sqrt{N}$."
      ]
    },
    {
      "cell_type": "markdown",
      "metadata": {
        "id": "Cu5965-uOjR7",
        "colab_type": "text"
      },
      "source": [
        "Δοκιμάσαμε ακόμη τον ταξινομητή k-nearest-neighbors με τις υπερπαραμέτρους του στις deafault τιμές τους και πήραμε τα παρακάτω αποτελέσματα."
      ]
    },
    {
      "cell_type": "code",
      "metadata": {
        "id": "HJN_2EhizGdW",
        "colab_type": "code",
        "outputId": "1e5fa78c-595b-4a1b-a334-8a73adcd8667",
        "colab": {
          "base_uri": "https://localhost:8080/",
          "height": 403
        }
      },
      "source": [
        "from sklearn.neighbors import KNeighborsClassifier\n",
        "\n",
        "# default n_neighbors=5\n",
        "knn = KNeighborsClassifier()\n",
        "knn.fit(X_train, y_train)\n",
        "y_pred = knn.predict(X_test)\n",
        "f1_scores = score(y_pred, y_test, \"K-Nearest Neighbors\", label_names)\n",
        "classifiers_f1_micro.append(f1_scores[0])\n",
        "classifiers_f1_macro.append(f1_scores[1])"
      ],
      "execution_count": 0,
      "outputs": [
        {
          "output_type": "stream",
          "text": [
            "Confusion Matrix: K-Nearest Neighbors\n",
            "             Predicted not merged  Predicted merged\n",
            "not mergerd                  2677               257\n",
            "merged                        268              7138\n",
            "\n",
            "F1 micro\n",
            "(0.9492263056092843, 0.9492263056092843, 0.9492263056092843, None) \n",
            "\n",
            "F1 macro\n",
            "(0.9371225452888257, 0.9381096978978153, 0.937614261086863, None) \n",
            "\n",
            "\n",
            "Classification Report of K-Nearest Neighbors\n",
            "\n",
            "              precision    recall  f1-score   support\n",
            "\n",
            " not mergerd       0.91      0.91      0.91      2934\n",
            "      merged       0.97      0.96      0.96      7406\n",
            "\n",
            "    accuracy                           0.95     10340\n",
            "   macro avg       0.94      0.94      0.94     10340\n",
            "weighted avg       0.95      0.95      0.95     10340\n",
            "\n"
          ],
          "name": "stdout"
        }
      ]
    },
    {
      "cell_type": "markdown",
      "metadata": {
        "id": "duLv2RIjh42Y",
        "colab_type": "text"
      },
      "source": [
        "Παρατηρούμε πως το recall των not merged είναι 0.91 ενώ του merged είναι 0.96. Θα προσπαθήσουμε να εξισορροπήσουμε το αποτέλεσμα των recalls στις δύο κλάσεις για να κάνουμε το μοντέλο μας πιο ευέλικτο. Σκοπεύουμε δηλαδή την αύξηση του recall της πρώτης κλάσης(-1), προσπαθώντας να κρατήσουμε σταθερό το recall της δεύτερης κλάσης(1) ή αν όχι σταθερό να έχει μια μικρή μείωση, καθώς επίσης και την αύξηση των f1 scores."
      ]
    },
    {
      "cell_type": "markdown",
      "metadata": {
        "colab_type": "text",
        "id": "8alrX1i5l-L6"
      },
      "source": [
        "####**Gaussian Naive Bayes (GNB)**"
      ]
    },
    {
      "cell_type": "markdown",
      "metadata": {
        "id": "X1rWe3Mu4lOv",
        "colab_type": "text"
      },
      "source": [
        "H βασική ιδέα λειτουργίας του ταξινομητή είναι α) ο γνωστός νόμος του Bayes $$P(A\\mid B)={\\frac {P(B\\mid A)\\,P(A)}{P(B)}}$$\n",
        "​\n",
        "και β) η (naive) υπόθεση ότι τα χαρακτηριστικά είναι όλα ανεξάρτητα μεταξύ τους (στην περίπτωσή μας τα χαρακτηριστικά είναι τα pixel των εικόνων και για τα γειτονικά pixel δεν ισχύει η υπόθεση της ανεξαρτησίας). \n",
        "​\n",
        "Με δεδομένα μια μεταβλητή κατηγορίας (κλάσης) $y$ και ένα εξαρτώμενο διάνυσμα χαρακτηριστικών $x_1$ μέχρι $x_n$, σύμφωνα με το θεώρημα του Bayes θα ισχύει \n",
        "$$P(y \\mid x_1, \\dots, x_n) = \\frac{P(y) P(x_1, \\dots x_n \\mid y)}{P(x_1, \\dots, x_n)}$$\n",
        "Ισχύει ότι $P(x_1, \\dots, x_i, \\dots, x_n \\mid y) =  \\prod_{i=1}^{n} P(x_i | y, x_1, \\dots, x_{i-1}, x_{i+1}, \\dots, x_n)$ και κάνουμε την αφελή υπόθεση ότι το χαρακτηριστικό $x_i$ για κάθε $i$ εξαρτάται μόνο από τo label $y$ και όχι από οποιοδήποτε άλλο χαρακτηριστικό\n",
        "$$P(x_i | y, x_1, \\dots, x_{i-1}, x_{i+1}, \\dots, x_n) = P(x_i | y)$$\n",
        "αυτό οδηγεί στην απλοποίηση\n",
        "$$P(y \\mid x_1, \\dots, x_n) = \\frac{P(y) \\prod_{i=1}^{n} P(x_i \\mid y)}{P(x_1, \\dots, x_n)}$$\n",
        "Με δεδομένη είσοδο, το $P(x_1, \\dots, x_n)$ είναι σταθερό. Συνεπώς μπορούμε να χρησιμοποιήσουμε τον ακόλουθο κανόνα ταξινόμησης $$P(y \\mid x_1, \\dots, x_n) \\propto P(y) \\prod_{i=1}^{n} P(x_i \\mid y)$$ \n",
        "$$\\Downarrow$$\n",
        "$$\\hat{y} = \\arg\\max_y P(y) \\prod_{i=1}^{n} P(x_i \\mid y)\\quad (1) $$\n",
        "Το $P(y)$ είναι η υπόθεσή μας και ισούται με τη σχετική συχνότητα του label $y$ στο training set. To $P(x_i \\mid y)$ είναι η πιθανοφάνεια δηλαδή η πιθανότητα του δείγματος με δεδομένη την υπόθεσή μας και μπορεί επίσης να υπολογιστεί απλά από το training set. Οι διάφοροι Naive Bayes classifiers διαφοροποιούνται κυρίως από τις υποθέσεις που κάνουν ως προς την κατανομή $P(x_i \\mid y)$. Το label $\\hat{y}$ που ανατίθεται σε ένα νέο δείγμα είναι αυτή που μεγιστοποιεί το δεξί μέλος της σχέσης.\n",
        "​\n",
        "Στην περίπτωσή μας τα χαρακτηριστικά (τιμές pixels) παίρνουν συνεχείς τιμές. Θα δουλέψουμε λοιπόν με τις πυκνότητες πιθανότητας των χαρακτηριστικών: $$P(x_i \\mid y) = \\frac{1}{\\sqrt{2\\pi\\sigma^2_y}} \\exp\\left(-\\frac{(x_i - \\mu_y)^2}{2\\sigma^2_y}\\right)$$ και τις apriori πιθανότητες των labels, εφαρμόζοντας τον ίδιο τύπο.\n",
        "​\n",
        "Υλοποιούμε τον Bayesian Classifier σαν έναν scikit-learn εκτιμητή. \n",
        "Ο εκτιμητής αυτός υπολογίζει στη μέθοδο fit τις δεσμευμένες κατανομές των χαρακτηριστικών δεδομένου του κάθε label και τις a priori κατανομές των labels. Γίνεται η υπόθεση πως οι κατανομές των χαρακτηριστικών είναι κανονικές. Έτσι η κάθε κατανομή προσδιορίζεται πλήρως από τη μέση τιμή και τη διασπορά της. Η μέση τιμή και η διασπορά παίρνουν ως τιμές τις πειραματικές (στατιστικές) τιμές τους με βάση τα δείγματα του train. Επειδή η διασπορά υπάρχει στον παρονομαστή της συνάρτησης πυκνότητας μηδενισμοί της διασποράς θα οδηγήσουν σε απροσδιοριστίες. Για να το αποφύγουμε αυτό συχνά προσθέτουμε σε όλες τις αποκλίσεις ένα κοινό μικρό offset της τάξης του 10^-6.\n",
        "​\n",
        "\n",
        "Στην predict υπολογίζονται οι δεσμευμένες πιθανότητες των labels, δεδομένων των χαρακτηριστικών του test sample και επιλέγεται αυτό με τη μεγαλύτερη πιθανότητα, όπως ορίζει ο τύπος (1). Ισοδύναμα μπορούμε να επιλέξουμε το label που έχει τη μεγαλύτερη λογαριθμική πιθανοφάνεια, δηλαδή να πάρουμε το λογάριθμο της έκφρασης (1):\n",
        "$$\\hat{y} = \\arg\\max_y \\{log(P(y))+ \\sum_{i=1}^{n} log(P(x_i \\mid y))\\} \\quad=\\quad \\arg\\max_y \\{ log(P(y))+ \\sum_{i=1}^{n} log(\\frac{1}{\\sqrt{2\\pi\\sigma^2_y}})+ \\sum_{i=1}^{n}\\left(-\\frac{(x_i - \\mu_y)^2}{2\\sigma^2_y}\\right)\\}$$\n",
        "Ο μετασχηματισμός αυτός βολεύει γιατί πλέον υπολογίζουμε αθροίσματα αντί για γινόμενα και έχουμε μεγαλύτερη αριθμητική ευστάθεια. Στην υλοποίησή μας έχουμε δουλέψει με λογαρίθμους python:log (φυσικός λογάριθμος).\n"
      ]
    },
    {
      "cell_type": "code",
      "metadata": {
        "id": "TZIhAv8EhWlZ",
        "colab_type": "code",
        "outputId": "34c90228-00ef-473d-aa2e-32ab555d0ba6",
        "colab": {
          "base_uri": "https://localhost:8080/",
          "height": 439
        }
      },
      "source": [
        "from sklearn.naive_bayes import GaussianNB\n",
        "\n",
        "nb = GaussianNB()\n",
        "nb.fit(X_train, y_train)\n",
        "y_pred = nb.predict(X_test)\n",
        "f1_scores = score(y_pred, y_test, \"Gaussian Naive Bayes\", label_names)\n",
        "classifiers_f1_micro.append(f1_scores[0])\n",
        "classifiers_f1_macro.append(f1_scores[1])"
      ],
      "execution_count": 0,
      "outputs": [
        {
          "output_type": "stream",
          "text": [
            "Confusion Matrix: Gaussian Naive Bayes\n",
            "            Predicted not merged  Predicted merged\n",
            "not merged                  1694              1309\n",
            "merged                       490              6847\n",
            "\n",
            "F1 micro\n",
            "(0.8260154738878143, 0.8260154738878143, 0.8260154738878142, None) \n",
            "\n",
            "F1 macro\n",
            "(0.8075728423938331, 0.748658887339547, 0.768527216984415, None) \n",
            "\n",
            "\n",
            "Classification Report of Gaussian Naive Bayes\n",
            "\n",
            "              precision    recall  f1-score   support\n",
            "\n",
            "  not merged       0.78      0.56      0.65      3003\n",
            "      merged       0.84      0.93      0.88      7337\n",
            "\n",
            "    accuracy                           0.83     10340\n",
            "   macro avg       0.81      0.75      0.77     10340\n",
            "weighted avg       0.82      0.83      0.82     10340\n",
            "\n"
          ],
          "name": "stdout"
        }
      ]
    },
    {
      "cell_type": "markdown",
      "metadata": {
        "id": "r86JYhNA5o8m",
        "colab_type": "text"
      },
      "source": [
        "Όπως παρατηρούμε, ο παραπάνω gnb προβλέπει παρά πολύ αποτελεσματικά τους (1), αλλά σχετικά μέτρια τα (-1). Αυτό οφείλεται στο γεγονός ότι τα samples είναι αρκετά συσχετισμένα και όχι τόσο ανεξάρτητα μεταξύ τους (i.i.d), κάτι το οποίο αποτελεί απαραίτητη προϋπόθεση για την αποτελεσματική χρήση του gnb. Έτσι, στόχος μας θα είναι να καταστήσουμε όσο το δυνατόν πιο i.i.d τα δείγματα τoυ training set και να ανεβασουμε κατά πολύ το precision και το recall του not merged."
      ]
    },
    {
      "cell_type": "markdown",
      "metadata": {
        "id": "w9heUXsUmU75",
        "colab_type": "text"
      },
      "source": [
        "####**Multi-Layer Perceptron (MLP)**"
      ]
    },
    {
      "cell_type": "markdown",
      "metadata": {
        "id": "OnmTkHuCDnmz",
        "colab_type": "text"
      },
      "source": [
        "Ένα MLP είναι ένα δίκτυο απλών νευρώνων που ονομάζεται perceptrons. Η βασική ιδέα ενός ενιαίου perceptron εισήχθη από το Rosenblatt το 1958. Το perceptron υπολογίζει μια ενιαία έξοδο από πολλαπλές εισόδους πραγματικής αποτίμησης σχηματίζοντας έναν γραμμικό συνδυασμό σύμφωνα με τα βάρη εισόδου του και στη συνέχεια ενδεχομένως τοποθετώντας την έξοδο μέσω κάποιας συνάρτησης μη γραμμικής ενεργοποίησης. Μαθηματικά αυτό μπορεί να γραφτεί ως   \n",
        "  \n",
        "\n",
        "$$ \\textbf y = \\varphi\\left(\\sum_{i=1}^{N} w_ix_i + b \\right)= \\varphi\\left(\\textbf w^T \\textbf x + b\\right)$$   \n",
        "\n",
        "όπου $ \\mathbf{w}$ είναι vector of weights, $ \\mathbf{x}$ είναι ο vector of inputs, το $ b$ is το bias το $ \\varphi$ είναι η activation function.   \n",
        "\n",
        "\n",
        "Ένα ενιαίο perceptron δεν είναι πολύ χρήσιμο λόγω της περιορισμένης δυνατότητάς του mapping. Ανεξάρτητα από το ποια συνάρτηση ενεργοποίησης χρησιμοποιείται, το perceptron είναι ικανό να αντιπροσωπεύει μόνο μια προσανατολισμένη στην κορυφή λειτουργία. Τα perceptrons μπορούν, ωστόσο, να χρησιμοποιηθούν ως δομικά στοιχεία μιας μεγαλύτερης, πολύ πιο πρακτικής δομής. Ένα τυπικό δίκτυο πολλαπλών στρώσεων perceptron (MLP) αποτελείται από ένα σύνολο κόμβων πηγής που σχηματίζουν το στρώμα εισόδου, ένα ή περισσότερα hidden layers και ένα output layer.  \n",
        "\n",
        "\n",
        "Οι υπολογισμοί που εκτελούνται από ένα τέτοιο feedforward δίκτυο με ένα μόνο hidden layer με συναρτήσεις μη γραμμικής ενεργοποίησης και γραμμικό επίπεδο εξόδου μπορούν να γραφτούν μαθηματικά ως  \n",
        "\n",
        "$$\\displaystyle \\mathbf{x}= \\mathbf{f}(\\mathbf{s}) = \\mathbf{B}\\boldsymbol{\\varphi}( \\mathbf{A}\\mathbf{s}+ \\mathbf{a} ) + \\mathbf{b}$$   \n",
        "\n",
        "όπου $ \\mathbf{s}$ is vector of inputs και $ \\mathbf{x}$ vector of outputs. $ \\mathbf{A}$ είναι matrix of weights του πρώτου layer, $ \\mathbf{a}$ είναι το bias vector του πρώτου layer. $ \\mathbf{B}$ και $ \\mathbf{b}$ είναι, αντίστοιχα, ο weight matrix και ο bias vector του δεύτερου layer. Η συνάρτηση $ \\boldsymbol{\\varphi}$ είναι elementwise μη γραμμική. Η γενίκευση του μοντέλου σε περισσότερα hidden layers είναι προφανής.  \n",
        "\n",
        "Τα δίκτυα MLP χρησιμοποιούνται συνήθως σε supervised learning προβλήματα. Αυτό σημαίνει ότι υπάρχει ένα σύνολο εκπαιδευτικών ζευγών εισόδου-εξόδου και το δίκτυο πρέπει να μάθει να διαμορφώνει την εξάρτηση μεταξύ τους. Η εκπαίδευση εδώ σημαίνει προσαρμογή όλων των βαρών και των bias.  \n",
        "\n",
        "Το κριτήριο που πρέπει να βελτιστοποιηθεί είναι τυπικά το mean squared error.  \n",
        "\n",
        "Το supervised learning πρόβλημα του MLP μπορεί να λυθεί με τον αλγόριθμο back-propagation. Ο αλγόριθμος αποτελείται από δύο βήματα. Στο forward pass, αξιολογούνται οι προβλεπόμενες εξόδoι που αντιστοιχούν στις δεδομένες εισόδους. Στο backward pass, τα partial derivatives της συνάρτησης κόστους σε σχέση με τις διαφορετικές παραμέτρους πολλαπλασιάζονται μέσω του δικτύου. Ο κανόνας της αλυσίδας διαφοροποίησης δίνει πολύ παρόμοιους υπολογιστικούς κανόνες για το πέρασμα προς τα πίσω όπως αυτοί στο forward pass. Τα βάρη μπορούν στη συνέχεια να προσαρμοστούν χρησιμοποιώντας οποιονδήποτε αλγόριθμο βελτιστοποίησης gradient descent. Η όλη διαδικασία επαναλαμβάνεται μέχρις ότου τα βάρη συγκλίνουν.\n",
        "\n"
      ]
    },
    {
      "cell_type": "code",
      "metadata": {
        "id": "yU0jCcXDrc6g",
        "colab_type": "code",
        "outputId": "094660e7-00f3-4833-95f5-4eac0234eeb7",
        "colab": {
          "base_uri": "https://localhost:8080/",
          "height": 439
        }
      },
      "source": [
        "from sklearn.neural_network import MLPClassifier\n",
        "\n",
        "mlp = MLPClassifier()\n",
        "mlp.fit(X_train, y_train)\n",
        "y_pred = mlp.predict(X_test)\n",
        "f1_scores = score(y_pred, y_test, \"Multi-Layer Perceptron\", label_names)\n",
        "classifiers_f1_micro.append(f1_scores[0])\n",
        "classifiers_f1_macro.append(f1_scores[1])"
      ],
      "execution_count": 0,
      "outputs": [
        {
          "output_type": "stream",
          "text": [
            "Confusion Matrix: Multi-Layer Perceptron\n",
            "            Predicted not merged  Predicted merged\n",
            "not merged                  2792               181\n",
            "merged                       232              7135\n",
            "\n",
            "F1 micro\n",
            "(0.9600580270793037, 0.9600580270793037, 0.9600580270793037, None) \n",
            "\n",
            "F1 macro\n",
            "(0.9492700640185605, 0.9538134737911554, 0.9515022329889546, None) \n",
            "\n",
            "\n",
            "Classification Report of Multi-Layer Perceptron\n",
            "\n",
            "              precision    recall  f1-score   support\n",
            "\n",
            "  not merged       0.92      0.94      0.93      2973\n",
            "      merged       0.98      0.97      0.97      7367\n",
            "\n",
            "    accuracy                           0.96     10340\n",
            "   macro avg       0.95      0.95      0.95     10340\n",
            "weighted avg       0.96      0.96      0.96     10340\n",
            "\n"
          ],
          "name": "stdout"
        }
      ]
    },
    {
      "cell_type": "markdown",
      "metadata": {
        "id": "IHuMmTjRJU0O",
        "colab_type": "text"
      },
      "source": [
        "Παρατηρούμε ότι με το default MLP, τα scores όλα είναι πάρα πολύ υψηλά, με αποτέλεσμα, από την αρχή να καθίσταται δύσκολη η βελτιστοποίηση του. Ωστόσο, βλέποντας, το precision του not merged αρκετά πιο χαμηλό από αυτό του merged ίσως θα μπορούσαμε να το ανεβάσουμε κάπως, χωρίς να επηρεαστούν οι υπόλοιπες τιμές των scores, με τη βοήθεια κάποιων εμπειρικών κανόνων και χρήση ανεπτυγμένου gridsearch της βιβλιοθήκης sklearn. "
      ]
    },
    {
      "cell_type": "markdown",
      "metadata": {
        "id": "E9Z98d0QsAbb",
        "colab_type": "text"
      },
      "source": [
        "Παρακάτω, κάνουμε μια συγκεντρωτική αναπαράσταση των scores των παραπάνω ταξινομητών."
      ]
    },
    {
      "cell_type": "code",
      "metadata": {
        "id": "w4XwVulwzWeo",
        "colab_type": "code",
        "colab": {}
      },
      "source": [
        "import matplotlib.pyplot as plt; plt.rcdefaults()\n",
        "import numpy as np\n",
        "import matplotlib.pyplot as plt\n",
        "\n",
        "# Plot bar for f1_micro and f1_macro\n",
        "def plot_bar(classifiers, scores, title):\n",
        "  y_pos = np.arange(len(classifiers))\n",
        "  performance = scores\n",
        "\n",
        "  plt.bar(y_pos, performance, align='center', alpha=0.9)\n",
        "  plt.xticks(y_pos, classifiers)\n",
        "  plt.ylabel('Score')\n",
        "  plt.title(title)\n",
        "\n",
        "  plt.show()"
      ],
      "execution_count": 0,
      "outputs": []
    },
    {
      "cell_type": "code",
      "metadata": {
        "id": "GZyOGr2iz7i1",
        "colab_type": "code",
        "outputId": "6d6ee006-7587-4a98-f2d5-f3301bc71b58",
        "colab": {
          "base_uri": "https://localhost:8080/",
          "height": 953
        }
      },
      "source": [
        "classifiers = ('Dummy\\nUniform', 'Dummy\\nConstant\\n-1', 'Dummy\\nConstant\\n1', 'Dummy\\nMost\\nFrequent', 'Dummy\\nStratified', 'knn(5)','Gaussian\\nNaive\\nBayes','MLP\\n(default)')\n",
        "classifiers_f1_micro = [0.51, 0.29, 0.71, 0.71, 0.59, 0.95, 0.83, 0.96]\n",
        "classifiers_f1_macro = [0.48, 0.22, 0.42, 0.42, 0.50, 0.94, 0.77, 0.95]\n",
        "plot_bar(classifiers, classifiers_f1_micro, \"F1-micro\")\n",
        "plot_bar(classifiers, classifiers_f1_macro, \"F1-macro\")"
      ],
      "execution_count": 0,
      "outputs": [
        {
          "output_type": "display_data",
          "data": {
            "image/png": "[encoded data removed]",
            "text/plain": [
              "<Figure size 640x480 with 1 Axes>"
            ]
          },
          "metadata": {
            "tags": []
          }
        },
        {
          "output_type": "display_data",
          "data": {
            "image/png": "[encoded data removed]",
            "text/plain": [
              "<Figure size 640x480 with 1 Axes>"
            ]
          },
          "metadata": {
            "tags": []
          }
        }
      ]
    },
    {
      "cell_type": "markdown",
      "metadata": {
        "id": "aAPdbFh_8An6",
        "colab_type": "text"
      },
      "source": [
        "#### **Σχολιασμός αποτελεσμάτων default ταξινομητών**"
      ]
    },
    {
      "cell_type": "markdown",
      "metadata": {
        "id": "98bONGOdKp8C",
        "colab_type": "text"
      },
      "source": [
        "Παρατηρούμε ότι ο MLP δίνει τα καλύτερα αποτελέσματα από όλους τους παραπάνω ταξινομητές, με τον knn να είναι πολύ κοντά του και για τα δυο f1 scores, γεγονός που ίσως μας εκπλήσει, καθώς ο knn φαίνεται αρκετά πιο απλός. Το γεγονός ότι ο knn είναι τόσο κοντά με τον MLP, ο οποίος είναι και σε πάρα πολύ υψηλά scores, σημαίνει ότι περιμένουμε μάλλον μικρή βελτιστοποίηση και από τους δυο. Επιπλέον τα μεγάλα scores από τον knn(5) δείχνουν ότι το μοντέλο δουλεύει πολύ καλά με σχετικά high variance, καθώς επίσης και ότι υπάρχουν πολλά γειτονικά δείγματα ίδιου label. Επιπλέον, παρατηρούμε ότι ο gnb απέχει παρά πολύ από τα dummies, που έχουν ποσοστά πολύ χαμηλά λόγω της τυχαιότητας κατά την πρόβλεψή τους. Ωστόσο, όπως είπαμε και παραπάνω είναι δεδομένο ότι δέχεται ικανοποιητική βελτίωση σε όλες τις μετρικές. "
      ]
    },
    {
      "cell_type": "markdown",
      "metadata": {
        "colab_type": "text",
        "id": "HDUgItcrx0bS"
      },
      "source": [
        "### **(Δ) Βελτιστοποίηση ταξινομητών**"
      ]
    },
    {
      "cell_type": "markdown",
      "metadata": {
        "id": "XuqpOMzoXXWj",
        "colab_type": "text"
      },
      "source": [
        "####Regularization"
      ]
    },
    {
      "cell_type": "markdown",
      "metadata": {
        "id": "hDhycDdrXE1M",
        "colab_type": "text"
      },
      "source": [
        "Αρχικά ελέγχουμε αν τα δεδομένα μας είναι ήδη κανονικοποιημένα (regularized)"
      ]
    },
    {
      "cell_type": "code",
      "metadata": {
        "id": "sECP5iqP8d-k",
        "colab_type": "code",
        "outputId": "e154e4f9-0df2-4f1f-9bdb-33b37ec823be",
        "colab": {
          "base_uri": "https://localhost:8080/",
          "height": 50
        }
      },
      "source": [
        "checkScaled(X_train)\n",
        "checkScaled(X_test)"
      ],
      "execution_count": 0,
      "outputs": [
        {
          "output_type": "stream",
          "text": [
            "Regularized\n",
            "Regularized\n"
          ],
          "name": "stdout"
        }
      ]
    },
    {
      "cell_type": "markdown",
      "metadata": {
        "id": "XrvsOOMAXgQm",
        "colab_type": "text"
      },
      "source": [
        "Παρατηρούμε ότι είναι ήδη κανονικοποιημένα οπότε δεν χρειάζεται να το κάνουμε εμεις"
      ]
    },
    {
      "cell_type": "markdown",
      "metadata": {
        "id": "bnxnaMtYRTEp",
        "colab_type": "text"
      },
      "source": [
        "Θα ακολουθήσουμε δυο τεχνικές: \n",
        "- PCA-Undersampling-GridSearch-cv\n",
        "- Pipeline, Gridsearch-cv-Undersamping-PCA  \n",
        "\n",
        "Για χάριν μελέτης, ακολουθούμε την πρώτη τεχνική χωρίς την χρήση sklearn pipelines. Πρώτα, κάνουμε το PCA, μετά το undersampling και στο τέλος το gridsearch για την αναζήτηση των βέλτιστων υπερπαραμέτρων των ταξινομητών που εξετάζουμε. Αξίζει να σημειωθεί ότι εδώ το undersampling δεν κάνει θεωρητικά κακό που είναι έξω από το gridsearch, όπως το oversampling που είδαμε στο small dataset, γιατί δεν προσθέτει duplicates στο cv, απλώς αφαιρεί samples.  \n",
        "Στην δεύτερη τεχνική, θα ακολουθήσουμε το κλασικό μοντέλο pipeline της sklearn βιβλιοθήκης, που προσφέρει αρκετές βελτιστοποιήσεις και παράγει αναλυτικά αποτελέσματα της εκτέλεσης, μέσα στο οποίο γίνονται οι όποιοι μετασχηματισμοί (variance threshold, sampling, PCA).\n"
      ]
    },
    {
      "cell_type": "markdown",
      "metadata": {
        "id": "8PYLGV7h8pol",
        "colab_type": "text"
      },
      "source": [
        "#### PCA"
      ]
    },
    {
      "cell_type": "markdown",
      "metadata": {
        "id": "79hwQywtOqdG",
        "colab_type": "text"
      },
      "source": [
        "Αρχικά υπολογίζουμε τον πίνακα συσχέτισης (covariance matrix) των μεταβλητών που έχουμε στα δεδομένα. Από αυτόν τον πίνακα βρίσκουμε τις γραμμικώς συσχετισμένες μεταβλητές και βρίσκοντας τα ιδιοδιανύσματα του πίνακα μπορούμε να μετατρέψουμε τον πίνακα με έναν ορθογώνιο μετασχηματισμό και να βρούμε την βάση του νέου πίνακα. Αυτή η βάση του χώρου αποτελεί ένα νέο σύνολο μεταβλητών που είναι γραμμικά ασυσχέτιστες και ονομάζονται κύριες συνιστώσες."
      ]
    },
    {
      "cell_type": "markdown",
      "metadata": {
        "id": "E6H6kyPOOx9M",
        "colab_type": "text"
      },
      "source": [
        "Στο σημείο αυτό, θα χρησιμοποιήσουμε αρκετές διαφορετικές εκδοχές του PCA, δημιουργώντας έτσι διαφορετικά datasets, με n_components από το 10 εώς το 131 με βήμα 10 για κάθε dataset. Έτσι, θα μελετήσουμε τελικά 14 διαφορετικά datasets, προερχόμενα από διαφορετικό PCA, και το αρχικό που δεν έχει υποστεί PCA."
      ]
    },
    {
      "cell_type": "code",
      "metadata": {
        "id": "o5LvNjX49KTy",
        "colab_type": "code",
        "colab": {}
      },
      "source": [
        "from sklearn.decomposition import PCA\n",
        "\n",
        "def applyPCA(X_train, X_test, n):\n",
        "  # Returns a tuple (X_train_pca, X_test_pca)\n",
        "  pca = PCA(n_components=n)\n",
        "  X_train_pca = pca.fit_transform(X_train)\n",
        "  X_test_pca = pca.transform(X_test)\n",
        "  return (X_train_pca, X_test_pca, n)"
      ],
      "execution_count": 0,
      "outputs": []
    },
    {
      "cell_type": "code",
      "metadata": {
        "id": "z97UmVwd9P-m",
        "colab_type": "code",
        "colab": {}
      },
      "source": [
        "# A list[...] of tuples: (X_train_pca, X_test_pca, n)\n",
        "dataPCA = []\n",
        "k = 10\n",
        "# Apply PCA for the first (n_features-1) even integers\n",
        "for n in range(n_features+1):\n",
        "  if (n == 0):\n",
        "    continue\n",
        "  if (n == n_features):\n",
        "    # No PCA\n",
        "    dataPCA.append((X_train, X_test, n))\n",
        "    break\n",
        "  if (n % k == 0):\n",
        "    dataPCA.append(applyPCA(X_train, X_test, n))\n",
        "\n",
        "initial_data_PCA = dataPCA.copy()"
      ],
      "execution_count": 0,
      "outputs": []
    },
    {
      "cell_type": "markdown",
      "metadata": {
        "id": "HTLOYzDHERSi",
        "colab_type": "text"
      },
      "source": [
        "####Undersampling"
      ]
    },
    {
      "cell_type": "markdown",
      "metadata": {
        "id": "4UFkYuD5Py7E",
        "colab_type": "text"
      },
      "source": [
        "Στο Random undersampling, δείγματα της πλειοψηφίας με τυχαίο τρόπο επιλέγονται και αφαιρούνται, μέχρι η ισορροπία του dataset φθάσει στα επιθυμητά επιπέδα ισορροπίας. Η μέθοδος αυτή έχει το κακό ότι με την αφαίρεση samples ενδέχεται να χαθεί πολύτιμη πληροφορία και να αυξηθεί το variance του ταξινομητή, με αποτέλεσμα να προτιμάται μόνο για μεγάλα datasets, όπου είναι αρκετά χρονοβόρες οι διαδικασίες του gridsearch, όπως στην περίπτωσή μας για μεγάλο parameter grid ορισμένων ταξινομητών."
      ]
    },
    {
      "cell_type": "code",
      "metadata": {
        "id": "Wx-qcMixENMO",
        "colab_type": "code",
        "outputId": "7559c589-9722-4c74-a985-6f820fa2d61b",
        "colab": {
          "base_uri": "https://localhost:8080/",
          "height": 70
        }
      },
      "source": [
        "from imblearn.under_sampling import RandomUnderSampler\n",
        "\n",
        "# Random Undersampling\n",
        "def random_undersampling(X_train_pca, y_train, ratio=0.75):\n",
        "  ru = RandomUnderSampler(sampling_strategy=ratio, random_state=32)\n",
        "  # Undersampling\n",
        "  X__train_resampled, y_train_resampled = ru.fit_resample(X_train_pca, y_train)\n",
        "\n",
        "  return (X__train_resampled, y_train_resampled)"
      ],
      "execution_count": 0,
      "outputs": [
        {
          "output_type": "stream",
          "text": [
            "/usr/local/lib/python3.6/dist-packages/sklearn/externals/six.py:31: DeprecationWarning: The module is deprecated in version 0.21 and will be removed in version 0.23 since we've dropped support for Python 2.7. Please rely on the official version of six (https://pypi.org/project/six/).\n",
            "  \"(https://pypi.org/project/six/).\", DeprecationWarning)\n"
          ],
          "name": "stderr"
        }
      ]
    },
    {
      "cell_type": "code",
      "metadata": {
        "id": "v4AtvwStJVBW",
        "colab_type": "code",
        "colab": {}
      },
      "source": [
        "# Apply undersampling on the scaled-PCA-transformed training sets\n",
        "y_train_sampled = []\n",
        "for i in range(0, len(initial_data_PCA)):\n",
        "  (X_over, y_sampled_tmp) = random_undersampling(initial_data_PCA[i][0], \n",
        "                                                 y_train, ratio=0.65)\n",
        "  y_train_sampled.append(y_sampled_tmp)\n",
        "  dataPCA[i] = (X_over, initial_data_PCA[i][1], initial_data_PCA[i][2]) # sklearn gridsearchcv"
      ],
      "execution_count": 0,
      "outputs": []
    },
    {
      "cell_type": "markdown",
      "metadata": {
        "id": "7YyaLcO0T2sd",
        "colab_type": "text"
      },
      "source": [
        "#### Plot"
      ]
    },
    {
      "cell_type": "code",
      "metadata": {
        "id": "YGeO7p5WJXny",
        "colab_type": "code",
        "outputId": "830c775e-e52d-423c-d549-39f3e09d6a6e",
        "colab": {
          "base_uri": "https://localhost:8080/",
          "height": 295
        }
      },
      "source": [
        "import matplotlib.pyplot as plt ; plt.rcdefaults()\n",
        "import numpy as np\n",
        "# Plot training set for PCA(n_components=2) and oversampling SMOTE(ratio=0.6)\n",
        "X0, X1 = dataPCA[0][0][:,0], dataPCA[0][0][:,1]\n",
        "colors = {}\n",
        "colors[-1] = 'red'\n",
        "colors[1] = 'yellow'\n",
        "fig, ax = plt.subplots()\n",
        "for label in [-1,1]:\n",
        "    ax.scatter(\n",
        "        X0[y_train_sampled[0] == label], X1[y_train_sampled[0] == label],\n",
        "        c=(colors[int(label)]), label=int(label),\n",
        "        s=60, alpha=0.9, edgecolors=\"k\"\n",
        "    )\n",
        "    \n",
        "ax.set_xlabel('X1')\n",
        "ax.set_ylabel('X2')\n",
        "ax.set_title('Dataset, PCA(2)')\n",
        "plt.show()"
      ],
      "execution_count": 0,
      "outputs": [
        {
          "output_type": "display_data",
          "data": {
            "image/png": "[encoded data removed]",
            "text/plain": [
              "<Figure size 432x288 with 1 Axes>"
            ]
          },
          "metadata": {
            "tags": []
          }
        }
      ]
    },
    {
      "cell_type": "markdown",
      "metadata": {
        "id": "g48S27JwLA_U",
        "colab_type": "text"
      },
      "source": [
        "####**Dummy Stratified**"
      ]
    },
    {
      "cell_type": "markdown",
      "metadata": {
        "id": "Bhb4NlnEXtMc",
        "colab_type": "text"
      },
      "source": [
        "Μεταξύ των dummy ταξινομητών, η καλύτερη στρατηγική είναι να διαλέγουμε πάντοτε την πιο συχνή κλάση (ή ισοδύναμα σταθερά την κλάση που είναι η πιο συχνή).\n",
        "Εαν δοκιμάσουμε πολλά runs, θα παρατηρήσουμε ότι η επιλογή stratified, δηλαδή να επιλέγουμε τυχαία κλάση διατηρώντας την κατανομή των κλάσεων στο training set, είναι τόσο πιο συχνά καλύτερη από την τυχαία (uniform) επιλογή, όσο περισσότερο μη ισορροπημένες είναι οι συχνότητες των κλάσεων στο dataset."
      ]
    },
    {
      "cell_type": "markdown",
      "metadata": {
        "id": "UmRNsdQYYK02",
        "colab_type": "text"
      },
      "source": [
        "Τα δεδομένα του συγκεκριμένου dataset είναι αρκετά μη ισορροπημένα. Για τον λόγο αυτό παρακάτω γίνεται μια προσπάθεια βελτιστοποίησης του Stratified Dummy Classifier. Η βελτιστοποίηση έγκειται στην αλλαγή της τιμής του sampling_strategy για το undersampling που κάνουμε στα δείγματα. Έτσι, διαλέγεται η τιμή του undersampling sampling_strategy που δίνει το καλύτερο f1 score. "
      ]
    },
    {
      "cell_type": "code",
      "metadata": {
        "id": "jBBOkydoZXyI",
        "colab_type": "code",
        "colab": {
          "base_uri": "https://localhost:8080/",
          "height": 73
        },
        "outputId": "b5e3e7ae-beaf-48b6-9c37-51bf6be34efe"
      },
      "source": [
        "from imblearn.pipeline import Pipeline\n",
        "from imblearn.under_sampling import RandomUnderSampler\n",
        "from sklearn.dummy import DummyClassifier\n",
        "\n",
        "rus = RandomUnderSampler()\n",
        "clf = DummyClassifier(strategy=\"stratified\")\n",
        "pipe = Pipeline(steps=[('sampler', rus), ('dummy', clf)])"
      ],
      "execution_count": 10,
      "outputs": [
        {
          "output_type": "stream",
          "text": [
            "/usr/local/lib/python3.6/dist-packages/sklearn/externals/six.py:31: DeprecationWarning: The module is deprecated in version 0.21 and will be removed in version 0.23 since we've dropped support for Python 2.7. Please rely on the official version of six (https://pypi.org/project/six/).\n",
            "  \"(https://pypi.org/project/six/).\", DeprecationWarning)\n"
          ],
          "name": "stderr"
        }
      ]
    },
    {
      "cell_type": "markdown",
      "metadata": {
        "id": "-3CihW6zbn-f",
        "colab_type": "text"
      },
      "source": [
        "**F1-MICRO**"
      ]
    },
    {
      "cell_type": "code",
      "metadata": {
        "id": "TxTInJtkZiKO",
        "colab_type": "code",
        "colab": {}
      },
      "source": [
        "from sklearn.model_selection import GridSearchCV\n",
        "sampling_strategy=[0.5, 0.6, 0.7, 0.8, 0.9, 1.0]\n",
        "\n",
        "pipe = Pipeline(steps=[('sampler', rus), ('dummy', clf)], memory = 'tmp')\n",
        "estimator = GridSearchCV(pipe, dict(sampler__sampling_strategy = sampling_strategy), \n",
        "                         cv=5, scoring='f1_micro', n_jobs=-1)"
      ],
      "execution_count": 0,
      "outputs": []
    },
    {
      "cell_type": "code",
      "metadata": {
        "id": "80pehIJdZycy",
        "colab_type": "code",
        "outputId": "afbfb904-da50-4e37-dc3e-54b966c942e8",
        "colab": {
          "base_uri": "https://localhost:8080/",
          "height": 53
        }
      },
      "source": [
        "import time \n",
        "print(\"X_train shape: \\t\", X_train.shape)\n",
        "print(\"y_train shape: \\t\", y_train.shape)\n",
        "start_time = time.time() \n",
        "estimator.fit(X_train, y_train) \n",
        "y_pred = estimator.predict(X_test) "
      ],
      "execution_count": 12,
      "outputs": [
        {
          "output_type": "stream",
          "text": [
            "X_train shape: \t (24125, 131)\n",
            "y_train shape: \t (24125,)\n"
          ],
          "name": "stdout"
        }
      ]
    },
    {
      "cell_type": "code",
      "metadata": {
        "id": "6t3ZvYTYZ3tD",
        "colab_type": "code",
        "outputId": "f8fc17ee-989d-4f65-8b8b-d57efdf1510f",
        "colab": {
          "base_uri": "https://localhost:8080/",
          "height": 377
        }
      },
      "source": [
        "from sklearn.metrics import confusion_matrix\n",
        "from sklearn.metrics import precision_recall_fscore_support\n",
        "from sklearn.metrics import classification_report\n",
        "print(\"Dummy GridSearch Overall time for fit και predict: %s seconds\" % (time.time() - start_time)) \n",
        "print(classification_report(y_test, y_pred)) \n",
        "print(estimator.best_estimator_) \n",
        "print(estimator.best_params_)"
      ],
      "execution_count": 13,
      "outputs": [
        {
          "output_type": "stream",
          "text": [
            "Dummy GridSearch Overall time for fit και predict: 9.966006517410278 seconds\n",
            "              precision    recall  f1-score   support\n",
            "\n",
            "          -1       0.27      0.32      0.29      2907\n",
            "           1       0.71      0.66      0.68      7433\n",
            "\n",
            "    accuracy                           0.56     10340\n",
            "   macro avg       0.49      0.49      0.49     10340\n",
            "weighted avg       0.59      0.56      0.57     10340\n",
            "\n",
            "Pipeline(memory='tmp',\n",
            "         steps=[('sampler',\n",
            "                 RandomUnderSampler(random_state=None, ratio=None,\n",
            "                                    replacement=False, return_indices=False,\n",
            "                                    sampling_strategy=0.5)),\n",
            "                ('dummy',\n",
            "                 DummyClassifier(constant=None, random_state=None,\n",
            "                                 strategy='stratified'))],\n",
            "         verbose=False)\n",
            "{'sampler__sampling_strategy': 0.5}\n"
          ],
          "name": "stdout"
        }
      ]
    },
    {
      "cell_type": "markdown",
      "metadata": {
        "id": "N-HhVGUQ_Kva",
        "colab_type": "text"
      },
      "source": [
        "**F1-MACRO**"
      ]
    },
    {
      "cell_type": "code",
      "metadata": {
        "id": "7_wv7auu_P1_",
        "colab_type": "code",
        "colab": {}
      },
      "source": [
        "from sklearn.model_selection import GridSearchCV\n",
        "sampling_strategy=[0.5, 0.6, 0.7, 0.8, 0.9, 1.0]\n",
        "\n",
        "pipe = Pipeline(steps=[('sampler', rus), ('dummy', clf)], memory = 'tmp')\n",
        "estimator = GridSearchCV(pipe, dict(sampler__sampling_strategy = sampling_strategy), \n",
        "                         cv=5, scoring='f1_macro', n_jobs=-1)\n"
      ],
      "execution_count": 0,
      "outputs": []
    },
    {
      "cell_type": "code",
      "metadata": {
        "id": "3gHMec4WcAAq",
        "colab_type": "code",
        "outputId": "c529683e-9617-44d9-e548-2eea63948579",
        "colab": {
          "base_uri": "https://localhost:8080/",
          "height": 53
        }
      },
      "source": [
        "import time \n",
        "print(\"X_train shape: \\t\", X_train.shape)\n",
        "print(\"y_train shape: \\t\", y_train.shape)\n",
        "start_time = time.time() \n",
        "estimator.fit(X_train, y_train) \n",
        "y_pred = estimator.predict(X_test) "
      ],
      "execution_count": 15,
      "outputs": [
        {
          "output_type": "stream",
          "text": [
            "X_train shape: \t (24125, 131)\n",
            "y_train shape: \t (24125,)\n"
          ],
          "name": "stdout"
        }
      ]
    },
    {
      "cell_type": "code",
      "metadata": {
        "id": "0eE5wPQ8Cbu7",
        "colab_type": "code",
        "outputId": "a052aafa-4f16-4592-afd7-011473a9828d",
        "colab": {
          "base_uri": "https://localhost:8080/",
          "height": 377
        }
      },
      "source": [
        "from sklearn.metrics import confusion_matrix\n",
        "from sklearn.metrics import precision_recall_fscore_support\n",
        "from sklearn.metrics import classification_report\n",
        "print(\"Dummy GridSearch Overall time for fit και predict: %s seconds\" % (time.time() - start_time)) \n",
        "print(classification_report(y_test, y_pred)) \n",
        "print(estimator.best_estimator_) \n",
        "print(estimator.best_params_)"
      ],
      "execution_count": 16,
      "outputs": [
        {
          "output_type": "stream",
          "text": [
            "Dummy GridSearch Overall time for fit και predict: 7.497633695602417 seconds\n",
            "              precision    recall  f1-score   support\n",
            "\n",
            "          -1       0.28      0.33      0.31      2907\n",
            "           1       0.72      0.67      0.69      7433\n",
            "\n",
            "    accuracy                           0.58     10340\n",
            "   macro avg       0.50      0.50      0.50     10340\n",
            "weighted avg       0.60      0.58      0.59     10340\n",
            "\n",
            "Pipeline(memory='tmp',\n",
            "         steps=[('sampler',\n",
            "                 RandomUnderSampler(random_state=None, ratio=None,\n",
            "                                    replacement=False, return_indices=False,\n",
            "                                    sampling_strategy=0.5)),\n",
            "                ('dummy',\n",
            "                 DummyClassifier(constant=None, random_state=None,\n",
            "                                 strategy='stratified'))],\n",
            "         verbose=False)\n",
            "{'sampler__sampling_strategy': 0.5}\n"
          ],
          "name": "stdout"
        }
      ]
    },
    {
      "cell_type": "markdown",
      "metadata": {
        "id": "90VsOMvrUcUH",
        "colab_type": "text"
      },
      "source": [
        "Βλέπουμε ότι το undersampling δεν βελτιώνει την απόδοση του stratified dummy classifier, γεγονός που εξηγείται στο ότι γίνεται εξισορρόπηση στο training set, με το test set να έχει ακόμα ανισόρροπες αναλογίες για τις δυο κλάσεις. Όμως, δεδομένου του 29%-71% της ισορροπίας τόσο του trainset και του testset, η σταθερή βελτιστοποίηση του stratified θα ήταν εάν έτεινε στον constant-1. Έτσι, αν ρίχναμε samples από την μειοψηφία των κλάσεων, τότε θα έδινε μάλλον καλύτερα αποτελέσματα, και στην ακραία περίπτωση που τα ρίχναμε όλα εκτός από ένα (ένα διότι πρέπει υποχρεωτικά να υπάρχουν αντιπρόσωπα δείγματα από όλες τις κλάσεις), τότε θα έτεινε ακόμα πιο πολύ στον constant-1 και το score θα ήταν περίπου ίσο με το ποσοστό της πλειοψηφίας, δηλαδή της κλάσης merged. Αυτή θα ήταν μια σταθερή βελτιστοποιήση του stratified dummy classifier."
      ]
    },
    {
      "cell_type": "markdown",
      "metadata": {
        "id": "RTSmYd_EJtqS",
        "colab_type": "text"
      },
      "source": [
        "#### **k-nearest neighbors classifier (knn)**"
      ]
    },
    {
      "cell_type": "markdown",
      "metadata": {
        "id": "FntL44kkb15C",
        "colab_type": "text"
      },
      "source": [
        "Το k της γειτονιάς του kNN είναι μια υπερπαράμετρος του ταξινομητή. Μια άλλη υπερπαράμετρος είναι η συνάρτηση της απόστασης και μια άλλη η συνάρτηση του βάρους που χρησιμοποιείται για την πρόβλεψη. Οι υπερπαράμετροι είναι επιλογές που γίνονται από τον σχεδιαστή του συστήματος και δεν μπορούμε να ξέρουμε τις βέλτιστες τιμές τους αν πρώτα δεν τις αξιολογήσουμε εμπειρικά σε δεδομένα. Παρακάτω γίνεται αναζήτηση των βέλτιστων τιμών των υπερπαραμέτρων k, weights, metric του knn με χρήση GridSearchCV με δύο διαφορετικούς τρόπους"
      ]
    },
    {
      "cell_type": "markdown",
      "metadata": {
        "id": "Qd_8RY_-cz2a",
        "colab_type": "text"
      },
      "source": [
        "**1ος Τροπος**"
      ]
    },
    {
      "cell_type": "markdown",
      "metadata": {
        "id": "eGS0TzQF7oFk",
        "colab_type": "text"
      },
      "source": [
        "Έξω από το gridsearchcv, κάνουμε PCA στα δεδομένα για διάφορες τιμές του PCA και τα κρατάμε σε μια λίστα. Έπειτα τα περνάμε σε συνάρτηση undersampling, καθώς το πλήθος των δειγμάτων είναι πολύ μεγάλο και προσπαθούμε να τα εξισορροπήσουμε σε έναν βαθμό χωρίς όμως να διαγράψουμε πολλά δείγματα. Επιλέχθηκε για το undersampling sampling_strategy=0.7 για αυτο το λόγο, καθώς επίσης δοκιμάστικαν και άλλα ratio αλλά δεν ήταν τόσο αποτελεσματικά όσο αυτό.\n",
        "Παρατίθενται δύο πανομοιότυπες κλήσεις της gridsearchcv , μία με στρατηγική scoring=\"accuracy\" και μια με scoring=\"f1_macro\". Τυπώνονται όλα τα ενδιάμεσα αποτελέσματα για καλύτερη εποπτεία της απόδοσης συναρτήση των δεδομένων. \n",
        "Στο τέλος ωστόσο τυπώνεται μόνο ο καλύτερος knn classifier που βρήκαμε με τις παραμέτρους του και το score του στο gridsearchcv, για τον οποίο και μόνο γίνεται το predict και το τύπωμα του τελικού αποτελέσματος."
      ]
    },
    {
      "cell_type": "markdown",
      "metadata": {
        "id": "pBV6wKkG7sUt",
        "colab_type": "text"
      },
      "source": [
        "**F1-MICRO**"
      ]
    },
    {
      "cell_type": "code",
      "metadata": {
        "id": "D0eIyCklOIcY",
        "colab_type": "code",
        "outputId": "cc827a10-18c2-406d-99fe-f153df799912",
        "colab": {
          "base_uri": "https://localhost:8080/",
          "height": 1000
        }
      },
      "source": [
        "from sklearn.model_selection import GridSearchCV\n",
        "import time\n",
        "# Run all initial_data_PCA for each grid parameter of MLP\n",
        "knn_best_score_micro = 0\n",
        "optimal_knn_micro = None\n",
        "\n",
        "knn_params_grid = {\"n_neighbors\":[i for i in range(1,18,2)],\n",
        "                     \"weights\": ['uniform','distance'],\n",
        "                     \"metric\":['euclidean','manhattan','minkowski']}\n",
        "\n",
        "print(dataPCA[0][0].shape)\n",
        "start_time = time.time()\n",
        "for i in range(0, len(dataPCA)):\n",
        "  data_tmp = dataPCA[i]\n",
        "  knn = GridSearchCV(KNeighborsClassifier(), param_grid=knn_params_grid, scoring=\"accuracy\",\n",
        "                                  cv=5, n_jobs=-1)\n",
        "  knn.fit(data_tmp[0], y_train_sampled[i])\n",
        "\n",
        "  # F1-micro\n",
        "  best_score = np.max(knn.cv_results_['mean_test_score'])\n",
        "  if (best_score > knn_best_score_micro):\n",
        "    knn_best_score_micro = best_score\n",
        "    optimal_knn_micro = knn\n",
        "    features = data_tmp[2]\n",
        "  \n",
        "  print(\"n_features: \" + str(data_tmp[2]))\n",
        "  print(str(knn.best_params_) + \"\\t\" + str(np.max(knn.cv_results_['mean_test_score'])))\n",
        "  print(knn.cv_results_['mean_test_score'])\n",
        "\n",
        "#Total time \n",
        "print(\"Total GridSearch time: %s seconds\" % (time.time() - start_time)) "
      ],
      "execution_count": 0,
      "outputs": [
        {
          "output_type": "stream",
          "text": [
            "(17540, 10)\n",
            "n_features: 10\n",
            "{'metric': 'manhattan', 'n_neighbors': 5, 'weights': 'distance'}\t0.9405929304446978\n",
            "[0.93232611 0.93232611 0.93523375 0.93779932 0.93580388 0.94047891\n",
            " 0.93323831 0.94013683 0.93175599 0.93985177 0.9309008  0.93985177\n",
            " 0.9295325  0.93928164 0.9286203  0.93876853 0.92651083 0.93745724\n",
            " 0.93255416 0.93255416 0.93489168 0.93762828 0.93568985 0.94059293\n",
            " 0.93295325 0.93979475 0.93221209 0.94036488 0.92976055 0.93882554\n",
            " 0.92839225 0.93825542 0.92742303 0.93785633 0.92571266 0.9368301\n",
            " 0.93232611 0.93232611 0.93523375 0.93779932 0.93580388 0.94047891\n",
            " 0.93323831 0.94013683 0.93175599 0.93985177 0.9309008  0.93985177\n",
            " 0.9295325  0.93928164 0.9286203  0.93876853 0.92651083 0.93745724]\n",
            "n_features: 20\n",
            "{'metric': 'manhattan', 'n_neighbors': 11, 'weights': 'distance'}\t0.9442417331812999\n",
            "[0.93551881 0.93551881 0.93734322 0.94013683 0.93797035 0.94310148\n",
            " 0.93614595 0.94264538 0.93397948 0.94281642 0.93329532 0.94190422\n",
            " 0.9327252  0.94253136 0.93118586 0.94156214 0.93187001 0.94076397\n",
            " 0.93523375 0.93523375 0.93854048 0.94070696 0.9391106  0.9436146\n",
            " 0.93848347 0.94372862 0.93597491 0.94372862 0.93574686 0.94424173\n",
            " 0.9340935  0.94304447 0.93289624 0.94270239 0.93238312 0.94184721\n",
            " 0.93551881 0.93551881 0.93734322 0.94013683 0.93797035 0.94310148\n",
            " 0.93614595 0.94264538 0.93397948 0.94281642 0.93329532 0.94190422\n",
            " 0.9327252  0.94253136 0.93118586 0.94156214 0.93187001 0.94076397]\n",
            "n_features: 30\n",
            "{'metric': 'manhattan', 'n_neighbors': 7, 'weights': 'distance'}\t0.9441277080957811\n",
            "[0.93460661 0.93460661 0.93757127 0.94047891 0.9386545  0.94224629\n",
            " 0.93745724 0.94338655 0.93677309 0.94327252 0.93426454 0.94264538\n",
            " 0.93306727 0.94207526 0.93249715 0.94127708 0.93306727 0.94173318\n",
            " 0.93568985 0.93568985 0.9395667  0.94236032 0.93842645 0.94321551\n",
            " 0.9381984  0.94412771 0.93648803 0.9436146  0.93563284 0.94338655\n",
            " 0.93483466 0.94247434 0.93437856 0.94253136 0.9340935  0.94179019\n",
            " 0.93460661 0.93460661 0.93757127 0.94047891 0.9386545  0.94224629\n",
            " 0.93745724 0.94338655 0.93677309 0.94327252 0.93426454 0.94264538\n",
            " 0.93306727 0.94207526 0.93249715 0.94127708 0.93306727 0.94173318]\n",
            "n_features: 40\n",
            "{'metric': 'manhattan', 'n_neighbors': 9, 'weights': 'distance'}\t0.945096921322691\n",
            "[0.93711517 0.93711517 0.94002281 0.94161916 0.94002281 0.94310148\n",
            " 0.9391106  0.94384265 0.93688712 0.94412771 0.93517674 0.94253136\n",
            " 0.93432155 0.94236032 0.93306727 0.94161916 0.93369441 0.94253136\n",
            " 0.93797035 0.93797035 0.94064994 0.94367161 0.94042189 0.9445268\n",
            " 0.93859749 0.94458381 0.93785633 0.94509692 0.9359179  0.94458381\n",
            " 0.93568985 0.94355758 0.9350057  0.94241733 0.93483466 0.94179019\n",
            " 0.93711517 0.93711517 0.94002281 0.94161916 0.94002281 0.94310148\n",
            " 0.9391106  0.94384265 0.93688712 0.94412771 0.93517674 0.94253136\n",
            " 0.93432155 0.94236032 0.93306727 0.94161916 0.93369441 0.94253136]\n",
            "n_features: 50\n",
            "{'metric': 'manhattan', 'n_neighbors': 7, 'weights': 'distance'}\t0.9452679589509693\n",
            "[0.93745724 0.93745724 0.94013683 0.94201824 0.93962372 0.94253136\n",
            " 0.93922463 0.94412771 0.93671608 0.94378563 0.93529076 0.94241733\n",
            " 0.9345496  0.94224629 0.93323831 0.94110604 0.93420753 0.94201824\n",
            " 0.9386545  0.9386545  0.94224629 0.94509692 0.94093501 0.94492588\n",
            " 0.9395667  0.94526796 0.93751425 0.94521095 0.93722919 0.94475485\n",
            " 0.93654504 0.94218928 0.93551881 0.94156214 0.93551881 0.94196123\n",
            " 0.93745724 0.93745724 0.94013683 0.94201824 0.93962372 0.94253136\n",
            " 0.93922463 0.94412771 0.93671608 0.94378563 0.93529076 0.94241733\n",
            " 0.9345496  0.94224629 0.93323831 0.94110604 0.93420753 0.94201824]\n",
            "n_features: 60\n",
            "{'metric': 'manhattan', 'n_neighbors': 9, 'weights': 'distance'}\t0.9458380843785633\n",
            "[0.93740023 0.93740023 0.94013683 0.94270239 0.93996579 0.94287343\n",
            " 0.93916762 0.94412771 0.93671608 0.9436146  0.9350057  0.94218928\n",
            " 0.9345496  0.94207526 0.93301026 0.94099202 0.93380844 0.94127708\n",
            " 0.93990878 0.93990878 0.94281642 0.94572406 0.94190422 0.94549601\n",
            " 0.9395667  0.94521095 0.93854048 0.94583808 0.93740023 0.94389966\n",
            " 0.93814139 0.94236032 0.93700114 0.94247434 0.93608894 0.94247434\n",
            " 0.93740023 0.93740023 0.94013683 0.94270239 0.93996579 0.94287343\n",
            " 0.93916762 0.94412771 0.93671608 0.9436146  0.9350057  0.94218928\n",
            " 0.9345496  0.94207526 0.93301026 0.94099202 0.93380844 0.94127708]\n",
            "n_features: 70\n",
            "{'metric': 'manhattan', 'n_neighbors': 3, 'weights': 'distance'}\t0.9454960091220068\n",
            "[0.93745724 0.93745724 0.94013683 0.94264538 0.94019384 0.94304447\n",
            " 0.93922463 0.94418472 0.93671608 0.94367161 0.93529076 0.94241733\n",
            " 0.93432155 0.94173318 0.93312429 0.94082098 0.93380844 0.94139111\n",
            " 0.94036488 0.94036488 0.94298746 0.94549601 0.94179019 0.9449829\n",
            " 0.94047891 0.945439   0.93854048 0.9449829  0.93779932 0.94389966\n",
            " 0.93802737 0.94258837 0.93711517 0.94236032 0.93625998 0.94293044\n",
            " 0.93745724 0.93745724 0.94013683 0.94264538 0.94019384 0.94304447\n",
            " 0.93922463 0.94418472 0.93671608 0.94367161 0.93529076 0.94241733\n",
            " 0.93432155 0.94173318 0.93312429 0.94082098 0.93380844 0.94139111]\n",
            "n_features: 80\n",
            "{'metric': 'manhattan', 'n_neighbors': 7, 'weights': 'distance'}\t0.9457810718358038\n",
            "[0.93740023 0.93740023 0.94019384 0.94270239 0.94007982 0.94298746\n",
            " 0.93928164 0.94418472 0.9368301  0.94372862 0.93534778 0.94247434\n",
            " 0.93432155 0.94167617 0.93306727 0.94087799 0.93386545 0.94139111\n",
            " 0.94007982 0.94007982 0.94287343 0.94549601 0.94179019 0.94481186\n",
            " 0.94082098 0.94578107 0.93871152 0.94486887 0.93757127 0.94367161\n",
            " 0.93831243 0.94258837 0.9372862  0.94258837 0.93631699 0.94275941\n",
            " 0.93740023 0.93740023 0.94019384 0.94270239 0.94007982 0.94298746\n",
            " 0.93928164 0.94418472 0.9368301  0.94372862 0.93534778 0.94247434\n",
            " 0.93432155 0.94167617 0.93306727 0.94087799 0.93386545 0.94139111]\n",
            "n_features: 90\n",
            "{'metric': 'manhattan', 'n_neighbors': 7, 'weights': 'distance'}\t0.9457810718358038\n",
            "[0.93745724 0.93745724 0.94019384 0.94270239 0.94007982 0.94298746\n",
            " 0.93928164 0.94418472 0.9368301  0.94372862 0.93534778 0.94247434\n",
            " 0.93432155 0.94167617 0.93306727 0.94087799 0.93386545 0.94139111\n",
            " 0.94007982 0.94007982 0.94293044 0.94555302 0.94173318 0.94475485\n",
            " 0.94082098 0.94578107 0.93876853 0.94486887 0.93768529 0.94378563\n",
            " 0.93831243 0.94258837 0.9372862  0.94258837 0.93631699 0.94275941\n",
            " 0.93745724 0.93745724 0.94019384 0.94270239 0.94007982 0.94298746\n",
            " 0.93928164 0.94418472 0.9368301  0.94372862 0.93534778 0.94247434\n",
            " 0.93432155 0.94167617 0.93306727 0.94087799 0.93386545 0.94139111]\n",
            "n_features: 100\n",
            "{'metric': 'manhattan', 'n_neighbors': 7, 'weights': 'distance'}\t0.9457810718358038\n",
            "[0.93740023 0.93740023 0.94019384 0.94270239 0.94007982 0.94298746\n",
            " 0.93928164 0.94418472 0.9368301  0.94372862 0.93534778 0.94247434\n",
            " 0.93432155 0.94167617 0.93306727 0.94087799 0.93386545 0.94139111\n",
            " 0.94007982 0.94007982 0.94293044 0.94555302 0.94173318 0.94475485\n",
            " 0.94082098 0.94578107 0.93876853 0.94486887 0.93768529 0.94378563\n",
            " 0.93831243 0.94258837 0.9372862  0.94258837 0.93631699 0.94275941\n",
            " 0.93740023 0.93740023 0.94019384 0.94270239 0.94007982 0.94298746\n",
            " 0.93928164 0.94418472 0.9368301  0.94372862 0.93534778 0.94247434\n",
            " 0.93432155 0.94167617 0.93306727 0.94087799 0.93386545 0.94139111]\n",
            "n_features: 110\n",
            "{'metric': 'manhattan', 'n_neighbors': 7, 'weights': 'distance'}\t0.9457810718358038\n",
            "[0.93740023 0.93740023 0.94019384 0.94270239 0.94007982 0.94298746\n",
            " 0.93928164 0.94418472 0.9368301  0.94372862 0.93534778 0.94247434\n",
            " 0.93432155 0.94167617 0.93306727 0.94087799 0.93386545 0.94139111\n",
            " 0.94007982 0.94007982 0.94293044 0.94555302 0.94173318 0.94475485\n",
            " 0.94082098 0.94578107 0.93876853 0.94486887 0.93768529 0.94378563\n",
            " 0.93831243 0.94258837 0.9372862  0.94258837 0.93631699 0.94275941\n",
            " 0.93740023 0.93740023 0.94019384 0.94270239 0.94007982 0.94298746\n",
            " 0.93928164 0.94418472 0.9368301  0.94372862 0.93534778 0.94247434\n",
            " 0.93432155 0.94167617 0.93306727 0.94087799 0.93386545 0.94139111]\n",
            "n_features: 120\n",
            "{'metric': 'manhattan', 'n_neighbors': 7, 'weights': 'distance'}\t0.9457810718358038\n",
            "[0.93740023 0.93740023 0.94019384 0.94270239 0.94007982 0.94298746\n",
            " 0.93928164 0.94418472 0.9368301  0.94372862 0.93534778 0.94247434\n",
            " 0.93432155 0.94167617 0.93306727 0.94087799 0.93386545 0.94139111\n",
            " 0.94007982 0.94007982 0.94293044 0.94555302 0.94173318 0.94475485\n",
            " 0.94082098 0.94578107 0.93876853 0.94486887 0.93768529 0.94378563\n",
            " 0.93831243 0.94258837 0.9372862  0.94258837 0.93631699 0.94275941\n",
            " 0.93740023 0.93740023 0.94019384 0.94270239 0.94007982 0.94298746\n",
            " 0.93928164 0.94418472 0.9368301  0.94372862 0.93534778 0.94247434\n",
            " 0.93432155 0.94167617 0.93306727 0.94087799 0.93386545 0.94139111]\n",
            "n_features: 130\n",
            "{'metric': 'manhattan', 'n_neighbors': 7, 'weights': 'distance'}\t0.9457810718358038\n",
            "[0.93740023 0.93740023 0.94019384 0.94270239 0.94007982 0.94298746\n",
            " 0.93928164 0.94418472 0.9368301  0.94372862 0.93534778 0.94247434\n",
            " 0.93432155 0.94167617 0.93306727 0.94087799 0.93386545 0.94139111\n",
            " 0.94007982 0.94007982 0.94293044 0.94555302 0.94173318 0.94475485\n",
            " 0.94082098 0.94578107 0.93876853 0.94486887 0.93768529 0.94378563\n",
            " 0.93831243 0.94258837 0.9372862  0.94258837 0.93631699 0.94275941\n",
            " 0.93740023 0.93740023 0.94019384 0.94270239 0.94007982 0.94298746\n",
            " 0.93928164 0.94418472 0.9368301  0.94372862 0.93534778 0.94247434\n",
            " 0.93432155 0.94167617 0.93306727 0.94087799 0.93386545 0.94139111]\n",
            "n_features: 131\n",
            "{'metric': 'manhattan', 'n_neighbors': 7, 'weights': 'distance'}\t0.9484036488027366\n",
            "[0.93740023 0.93740023 0.94019384 0.94270239 0.94007982 0.94298746\n",
            " 0.93928164 0.94418472 0.9368301  0.94372862 0.93534778 0.94247434\n",
            " 0.93432155 0.94167617 0.93306727 0.94087799 0.93386545 0.94139111\n",
            " 0.94127708 0.94127708 0.94424173 0.94646522 0.94389966 0.94789054\n",
            " 0.94241733 0.94840365 0.94019384 0.9477195  0.93876853 0.94657925\n",
            " 0.93962372 0.94669327 0.93831243 0.94549601 0.93694413 0.94469783\n",
            " 0.93740023 0.93740023 0.94019384 0.94270239 0.94007982 0.94298746\n",
            " 0.93928164 0.94418472 0.9368301  0.94372862 0.93534778 0.94247434\n",
            " 0.93432155 0.94167617 0.93306727 0.94087799 0.93386545 0.94139111]\n",
            "Total GridSearch time: 5139.00532412529 seconds\n"
          ],
          "name": "stdout"
        }
      ]
    },
    {
      "cell_type": "markdown",
      "metadata": {
        "id": "obhm2WCA8OgB",
        "colab_type": "text"
      },
      "source": [
        "*F1-MICRO CV RESULTS*"
      ]
    },
    {
      "cell_type": "code",
      "metadata": {
        "id": "pkUSlLDGCow_",
        "colab_type": "code",
        "outputId": "c70392af-4582-4552-91f2-d73658f651ae",
        "colab": {
          "base_uri": "https://localhost:8080/",
          "height": 34
        }
      },
      "source": [
        "print(\"Total GridSearch time: %s seconds\" % (time.time() - start_time)) "
      ],
      "execution_count": 0,
      "outputs": [
        {
          "output_type": "stream",
          "text": [
            "Total GridSearch time: 5158.368354797363 seconds\n"
          ],
          "name": "stdout"
        }
      ]
    },
    {
      "cell_type": "code",
      "metadata": {
        "id": "aLjR4CkvByY2",
        "colab_type": "code",
        "outputId": "a4e97fe9-d9e7-4358-ed61-5b97ae2000f1",
        "colab": {
          "base_uri": "https://localhost:8080/",
          "height": 252
        }
      },
      "source": [
        "print(\"Optimal knn classifier:\\t\", optimal_knn_micro, \n",
        "      \"\\nwith PCA Components =\", features,\n",
        "      \"\\nand F1-micro accuracy score for cv: \\t\", knn_best_score_micro)\n",
        "#print(str(knn.best_params_) + \"\\t\" + str(np.max(knn.cv_results_['mean_test_score'])))"
      ],
      "execution_count": 0,
      "outputs": [
        {
          "output_type": "stream",
          "text": [
            "Optimal knn classifier:\t GridSearchCV(cv=5, error_score='raise-deprecating',\n",
            "             estimator=KNeighborsClassifier(algorithm='auto', leaf_size=30,\n",
            "                                            metric='minkowski',\n",
            "                                            metric_params=None, n_jobs=None,\n",
            "                                            n_neighbors=5, p=2,\n",
            "                                            weights='uniform'),\n",
            "             iid='warn', n_jobs=-1,\n",
            "             param_grid={'metric': ['euclidean', 'manhattan', 'minkowski'],\n",
            "                         'n_neighbors': [1, 3, 5, 7, 9, 11, 13, 15, 17],\n",
            "                         'weights': ['uniform', 'distance']},\n",
            "             pre_dispatch='2*n_jobs', refit=True, return_train_score=False,\n",
            "             scoring='accuracy', verbose=0) \n",
            "with PCA Components = 131 \n",
            "and F1-micro accuracy score for cv: \t 0.9484036488027366\n"
          ],
          "name": "stdout"
        }
      ]
    },
    {
      "cell_type": "markdown",
      "metadata": {
        "id": "AkWI0vsFfeBT",
        "colab_type": "text"
      },
      "source": [
        "*F1-MICRO CLASSIFICATION REPORT*"
      ]
    },
    {
      "cell_type": "code",
      "metadata": {
        "id": "7XiK97iiCcJj",
        "colab_type": "code",
        "outputId": "fbda2278-115f-4d24-cec9-863d519f3993",
        "colab": {
          "base_uri": "https://localhost:8080/",
          "height": 202
        }
      },
      "source": [
        "from sklearn.metrics import classification_report\n",
        "\n",
        "# PCA(features) --> dataPCA[features] --> dataPCA[(features/2)-1]\n",
        "if(features == 131):\n",
        "  features = 13\n",
        "else:\n",
        "  features = int(features/10)-1\n",
        "y_pred = optimal_knn_micro.predict(dataPCA[features][1])\n",
        "# print(y_pred)\n",
        "# print(y_test)\n",
        "print(classification_report(y_test, y_pred))\n",
        "print(\"Testset F1-micro accuracy score: \\t\", precision_recall_fscore_support(y_test, y_pred, average='micro')[2])\n",
        "print()\n",
        "\n",
        "# # No PCA\n",
        "# knn_no_pca = KNeighborsClassifier(n_neighbors=optimal_classifier.optimal_clf.n_neighbors)\n",
        "# knn_no_pca.fit(dataPCA[30][0], y_train)\n",
        "# y_pred = knn_no_pca.predict(dataPCA[30][1])\n",
        "# print(\"Testset F1-micro accuracy score (No PCA, Oversampling): \", precision_recall_fscore_support(y_test, \n",
        "#                                                                                                   y_pred, average='micro')[2])\n",
        "\n",
        "# # No preprocessing / default k=5\n",
        "# knn_no_pca = KNeighborsClassifier(n_neighbors=5)\n",
        "# knn_no_pca.fit(X_train, y_train)\n",
        "# y_pred = knn_no_pca.predict(X_test)\n",
        "# print(\"Testset F1-micro accuracy score (No Preprocessing): \\t\",  precision_recall_fscore_support(y_test, \n",
        "#                                                                                                   y_pred, average='micro')[2])"
      ],
      "execution_count": 0,
      "outputs": [
        {
          "output_type": "stream",
          "text": [
            "              precision    recall  f1-score   support\n",
            "\n",
            "          -1       0.89      0.95      0.91      2934\n",
            "           1       0.98      0.95      0.96      7406\n",
            "\n",
            "    accuracy                           0.95     10340\n",
            "   macro avg       0.93      0.95      0.94     10340\n",
            "weighted avg       0.95      0.95      0.95     10340\n",
            "\n",
            "Testset F1-micro accuracy score: \t 0.9498065764023211\n",
            "\n"
          ],
          "name": "stdout"
        }
      ]
    },
    {
      "cell_type": "markdown",
      "metadata": {
        "id": "lcoLxBvzftcN",
        "colab_type": "text"
      },
      "source": [
        "**F1-MACRO**"
      ]
    },
    {
      "cell_type": "code",
      "metadata": {
        "id": "z_n7D4JIFD1c",
        "colab_type": "code",
        "outputId": "9e436630-10d7-40a9-c342-ae4dcae5d041",
        "colab": {
          "base_uri": "https://localhost:8080/",
          "height": 1000
        }
      },
      "source": [
        "from sklearn.model_selection import GridSearchCV\n",
        "import time\n",
        "# Run all initial_data_PCA for each grid parameter of MLP\n",
        "knn_best_score_macro = 0\n",
        "optimal_knn_macro = None\n",
        "\n",
        "knn_params_grid = {\"n_neighbors\":[i for i in range(1,18,2)],\n",
        "                     \"weights\": ['uniform','distance'],\n",
        "                     \"metric\":['euclidean','manhattan','minkowski']}\n",
        "\n",
        "print(dataPCA[0][0].shape)\n",
        "start_time = time.time()\n",
        "for i in range(0, len(dataPCA)):\n",
        "  data_tmp = dataPCA[i]\n",
        "  knn = GridSearchCV(KNeighborsClassifier(), param_grid=knn_params_grid, scoring=\"f1_macro\",\n",
        "                                  cv=5, n_jobs=-1)\n",
        "  knn.fit(data_tmp[0], y_train_sampled[i])\n",
        "\n",
        "  # F1-macro\n",
        "  best_score = np.max(knn.cv_results_['mean_test_score'])\n",
        "  if (best_score > knn_best_score_macro):\n",
        "    knn_best_score_macro = best_score\n",
        "    optimal_knn_macro = knn\n",
        "    features = data_tmp[2]\n",
        "  \n",
        "  print(\"n_features: \" + str(data_tmp[2]))\n",
        "  print(str(knn.best_params_) + \"\\t\" + str(np.max(knn.cv_results_['mean_test_score'])))\n",
        "  print(knn.cv_results_['mean_test_score'])\n",
        "\n",
        "#Total time \n",
        "print(\"Total GridSearch time: %s seconds\" % (time.time() - start_time)) "
      ],
      "execution_count": 0,
      "outputs": [
        {
          "output_type": "stream",
          "text": [
            "(17540, 10)\n",
            "n_features: 10\n",
            "{'metric': 'manhattan', 'n_neighbors': 5, 'weights': 'distance'}\t0.9379210003496341\n",
            "[0.92921544 0.92921544 0.93226052 0.934915   0.93295504 0.93779949\n",
            " 0.93029631 0.93747287 0.92873482 0.93718554 0.92792593 0.93721379\n",
            " 0.9264984  0.93662581 0.92558184 0.93610833 0.92344216 0.93476338\n",
            " 0.92944931 0.92944931 0.9319561  0.93478399 0.93286652 0.937921\n",
            " 0.93004598 0.93712896 0.92926791 0.93775212 0.92680361 0.93617979\n",
            " 0.92537181 0.93561327 0.9244265  0.93522254 0.9226814  0.93416819\n",
            " 0.92921544 0.92921544 0.93226052 0.934915   0.93295504 0.93779949\n",
            " 0.93029631 0.93747287 0.92873482 0.93718554 0.92792593 0.93721379\n",
            " 0.9264984  0.93662581 0.92558184 0.93610833 0.92344216 0.93476338]\n",
            "n_features: 20\n",
            "{'metric': 'manhattan', 'n_neighbors': 11, 'weights': 'distance'}\t0.9418965604029819\n",
            "[0.93254095 0.93254095 0.93455687 0.93746952 0.9352567  0.94058947\n",
            " 0.93341468 0.94014032 0.93117187 0.94032572 0.93053763 0.93939595\n",
            " 0.92999882 0.94007921 0.92843527 0.93909458 0.92916386 0.93828847\n",
            " 0.93223864 0.93223864 0.93582589 0.93807646 0.93647481 0.94112436\n",
            " 0.93591178 0.94126163 0.93330621 0.94132002 0.93312058 0.94189656\n",
            " 0.93141874 0.94066517 0.9302037  0.94033591 0.92968795 0.93946544\n",
            " 0.93254095 0.93254095 0.93455687 0.93746952 0.9352567  0.94058947\n",
            " 0.93341468 0.94014032 0.93117187 0.94032572 0.93053763 0.93939595\n",
            " 0.92999882 0.94007921 0.92843527 0.93909458 0.92916386 0.93828847]\n",
            "n_features: 30\n",
            "{'metric': 'manhattan', 'n_neighbors': 7, 'weights': 'distance'}\t0.9416856208730805\n",
            "[0.93159177 0.93159177 0.93472733 0.93773414 0.93590352 0.93964676\n",
            " 0.93470495 0.94085154 0.93407878 0.94075139 0.93151423 0.9401653\n",
            " 0.93031343 0.93960995 0.92975614 0.9388036  0.93039953 0.93929521\n",
            " 0.93274324 0.93274324 0.93684418 0.9397373  0.93571934 0.94068784\n",
            " 0.93557938 0.94168562 0.93382584 0.9411835  0.93297041 0.94096074\n",
            " 0.93219093 0.94004564 0.931773   0.94012394 0.9315188  0.939397\n",
            " 0.93159177 0.93159177 0.93472733 0.93773414 0.93590352 0.93964676\n",
            " 0.93470495 0.94085154 0.93407878 0.94075139 0.93151423 0.9401653\n",
            " 0.93031343 0.93960995 0.92975614 0.9388036  0.93039953 0.93929521]\n",
            "n_features: 40\n",
            "{'metric': 'manhattan', 'n_neighbors': 9, 'weights': 'distance'}\t0.9428138609477152\n",
            "[0.93424813 0.93424813 0.93728326 0.93892983 0.93735429 0.94055545\n",
            " 0.93649866 0.94138749 0.93420907 0.94170358 0.93250444 0.94008787\n",
            " 0.93164074 0.93997549 0.93034638 0.9391951  0.93105055 0.94017017\n",
            " 0.93520333 0.93520333 0.93804944 0.94117166 0.93784015 0.94206552\n",
            " 0.93601408 0.94218475 0.93532798 0.94281386 0.93335159 0.94229245\n",
            " 0.9331502  0.94123265 0.93246218 0.94007936 0.93230284 0.93945223\n",
            " 0.93424813 0.93424813 0.93728326 0.93892983 0.93735429 0.94055545\n",
            " 0.93649866 0.94138749 0.93420907 0.94170358 0.93250444 0.94008787\n",
            " 0.93164074 0.93997549 0.93034638 0.9391951  0.93105055 0.94017017]\n",
            "n_features: 50\n",
            "{'metric': 'manhattan', 'n_neighbors': 7, 'weights': 'distance'}\t0.9429184056725789\n",
            "[0.93458494 0.93458494 0.93744143 0.93936836 0.93694198 0.93995131\n",
            " 0.93662741 0.94168549 0.9340619  0.94137129 0.93264131 0.93999262\n",
            " 0.93187885 0.9398491  0.93054843 0.93867351 0.93161035 0.93964551\n",
            " 0.9358586  0.9358586  0.93968462 0.94263073 0.93837712 0.94248217\n",
            " 0.93703827 0.94291841 0.93497618 0.94291363 0.93471863 0.94248178\n",
            " 0.93404531 0.93986159 0.93300461 0.9392131  0.9330359  0.93963457\n",
            " 0.93458494 0.93458494 0.93744143 0.93936836 0.93694198 0.93995131\n",
            " 0.93662741 0.94168549 0.9340619  0.94137129 0.93264131 0.93999262\n",
            " 0.93187885 0.9398491  0.93054843 0.93867351 0.93161035 0.93964551]\n",
            "n_features: 60\n",
            "{'metric': 'manhattan', 'n_neighbors': 9, 'weights': 'distance'}\t0.9435754222009406\n",
            "[0.93453777 0.93453777 0.93745564 0.9401071  0.93729986 0.940324\n",
            " 0.93658545 0.94170647 0.93407935 0.94120411 0.93236266 0.93975634\n",
            " 0.93190523 0.93969309 0.93031358 0.93857641 0.93120364 0.93890344\n",
            " 0.93718232 0.93718232 0.94027441 0.94327459 0.93938538 0.94308498\n",
            " 0.93703328 0.94287065 0.93605878 0.94357542 0.93492134 0.94161025\n",
            " 0.93568904 0.94002545 0.93455185 0.94017168 0.93362328 0.94017901\n",
            " 0.93453777 0.93453777 0.93745564 0.9401071  0.93729986 0.940324\n",
            " 0.93658545 0.94170647 0.93407935 0.94120411 0.93236266 0.93975634\n",
            " 0.93190523 0.93969309 0.93031358 0.93857641 0.93120364 0.93890344]\n",
            "n_features: 70\n",
            "{'metric': 'manhattan', 'n_neighbors': 7, 'weights': 'distance'}\t0.9430950714082497\n",
            "[0.93460084 0.93460084 0.93744338 0.94003764 0.93753207 0.94049232\n",
            " 0.93664397 0.94175686 0.93407634 0.94125906 0.93265459 0.93998915\n",
            " 0.93166391 0.93933124 0.93042563 0.93839414 0.93120031 0.93901846\n",
            " 0.93765974 0.93765974 0.94045095 0.9430402  0.93926728 0.94255367\n",
            " 0.93797386 0.94309507 0.93605108 0.942675   0.93533034 0.94160542\n",
            " 0.9355515  0.94024395 0.93465868 0.94002662 0.93380079 0.94064854\n",
            " 0.93460084 0.93460084 0.93744338 0.94003764 0.93753207 0.94049232\n",
            " 0.93664397 0.94175686 0.93407634 0.94125906 0.93265459 0.93998915\n",
            " 0.93166391 0.93933124 0.93042563 0.93839414 0.93120031 0.93901846]\n",
            "n_features: 80\n",
            "{'metric': 'manhattan', 'n_neighbors': 7, 'weights': 'distance'}\t0.9434545879967166\n",
            "[0.93454283 0.93454283 0.93750414 0.94009839 0.93740964 0.94043082\n",
            " 0.93669523 0.94175066 0.93419835 0.94132294 0.93270906 0.94004707\n",
            " 0.93166365 0.93927331 0.9303707  0.93845482 0.93125788 0.93901555\n",
            " 0.93736068 0.93736068 0.94034387 0.94304933 0.93926083 0.94237345\n",
            " 0.93833063 0.94345459 0.93622448 0.94255935 0.9350916  0.94136357\n",
            " 0.93584634 0.94024756 0.93482754 0.94025202 0.93385562 0.94046476\n",
            " 0.93454283 0.93454283 0.93750414 0.94009839 0.93740964 0.94043082\n",
            " 0.93669523 0.94175066 0.93419835 0.94132294 0.93270906 0.94004707\n",
            " 0.93166365 0.93927331 0.9303707  0.93845482 0.93125788 0.93901555]\n",
            "n_features: 90\n",
            "{'metric': 'manhattan', 'n_neighbors': 7, 'weights': 'distance'}\t0.9434545879967166\n",
            "[0.93460084 0.93460084 0.93750414 0.94009839 0.93740964 0.94043082\n",
            " 0.93669523 0.94175066 0.93419835 0.94132294 0.93270906 0.94004707\n",
            " 0.93166365 0.93927331 0.9303707  0.93845482 0.93125788 0.93901555\n",
            " 0.93736068 0.93736068 0.94040191 0.94310743 0.93920013 0.94231282\n",
            " 0.93833063 0.94345459 0.93628529 0.94255935 0.93521002 0.9414821\n",
            " 0.93584634 0.94024756 0.93482754 0.94025202 0.93385562 0.94046476\n",
            " 0.93460084 0.93460084 0.93750414 0.94009839 0.93740964 0.94043082\n",
            " 0.93669523 0.94175066 0.93419835 0.94132294 0.93270906 0.94004707\n",
            " 0.93166365 0.93927331 0.9303707  0.93845482 0.93125788 0.93901555]\n",
            "n_features: 100\n",
            "{'metric': 'manhattan', 'n_neighbors': 7, 'weights': 'distance'}\t0.9434545879967166\n",
            "[0.93454283 0.93454283 0.93750414 0.94009839 0.93740964 0.94043082\n",
            " 0.93669523 0.94175066 0.93419835 0.94132294 0.93270906 0.94004707\n",
            " 0.93166365 0.93927331 0.9303707  0.93845482 0.93125788 0.93901555\n",
            " 0.93736068 0.93736068 0.94040191 0.94310743 0.93920013 0.94231282\n",
            " 0.93833063 0.94345459 0.93628529 0.94255935 0.93521002 0.9414821\n",
            " 0.93584634 0.94024756 0.93482754 0.94025202 0.93385562 0.94046476\n",
            " 0.93454283 0.93454283 0.93750414 0.94009839 0.93740964 0.94043082\n",
            " 0.93669523 0.94175066 0.93419835 0.94132294 0.93270906 0.94004707\n",
            " 0.93166365 0.93927331 0.9303707  0.93845482 0.93125788 0.93901555]\n",
            "n_features: 110\n",
            "{'metric': 'manhattan', 'n_neighbors': 7, 'weights': 'distance'}\t0.9434545879967166\n",
            "[0.93454283 0.93454283 0.93750414 0.94009839 0.93740964 0.94043082\n",
            " 0.93669523 0.94175066 0.93419835 0.94132294 0.93270906 0.94004707\n",
            " 0.93166365 0.93927331 0.9303707  0.93845482 0.93125788 0.93901555\n",
            " 0.93736068 0.93736068 0.94040191 0.94310743 0.93920013 0.94231282\n",
            " 0.93833063 0.94345459 0.93628529 0.94255935 0.93521002 0.9414821\n",
            " 0.93584634 0.94024756 0.93482754 0.94025202 0.93385562 0.94046476\n",
            " 0.93454283 0.93454283 0.93750414 0.94009839 0.93740964 0.94043082\n",
            " 0.93669523 0.94175066 0.93419835 0.94132294 0.93270906 0.94004707\n",
            " 0.93166365 0.93927331 0.9303707  0.93845482 0.93125788 0.93901555]\n",
            "n_features: 120\n",
            "{'metric': 'manhattan', 'n_neighbors': 7, 'weights': 'distance'}\t0.9434545879967166\n",
            "[0.93454283 0.93454283 0.93750414 0.94009839 0.93740964 0.94043082\n",
            " 0.93669523 0.94175066 0.93419835 0.94132294 0.93270906 0.94004707\n",
            " 0.93166365 0.93927331 0.9303707  0.93845482 0.93125788 0.93901555\n",
            " 0.93736068 0.93736068 0.94040191 0.94310743 0.93920013 0.94231282\n",
            " 0.93833063 0.94345459 0.93628529 0.94255935 0.93521002 0.9414821\n",
            " 0.93584634 0.94024756 0.93482754 0.94025202 0.93385562 0.94046476\n",
            " 0.93454283 0.93454283 0.93750414 0.94009839 0.93740964 0.94043082\n",
            " 0.93669523 0.94175066 0.93419835 0.94132294 0.93270906 0.94004707\n",
            " 0.93166365 0.93927331 0.9303707  0.93845482 0.93125788 0.93901555]\n",
            "n_features: 130\n",
            "{'metric': 'manhattan', 'n_neighbors': 7, 'weights': 'distance'}\t0.9434545879967166\n",
            "[0.93454283 0.93454283 0.93750414 0.94009839 0.93740964 0.94043082\n",
            " 0.93669523 0.94175066 0.93419835 0.94132294 0.93270906 0.94004707\n",
            " 0.93166365 0.93927331 0.9303707  0.93845482 0.93125788 0.93901555\n",
            " 0.93736068 0.93736068 0.94040191 0.94310743 0.93920013 0.94231282\n",
            " 0.93833063 0.94345459 0.93628529 0.94255935 0.93521002 0.9414821\n",
            " 0.93584634 0.94024756 0.93482754 0.94025202 0.93385562 0.94046476\n",
            " 0.93454283 0.93454283 0.93750414 0.94009839 0.93740964 0.94043082\n",
            " 0.93669523 0.94175066 0.93419835 0.94132294 0.93270906 0.94004707\n",
            " 0.93166365 0.93927331 0.9303707  0.93845482 0.93125788 0.93901555]\n",
            "n_features: 131\n",
            "{'metric': 'manhattan', 'n_neighbors': 7, 'weights': 'distance'}\t0.9461545697490779\n",
            "[0.93454283 0.93454283 0.93750414 0.94009839 0.93740964 0.94043082\n",
            " 0.93669523 0.94175066 0.93419835 0.94132294 0.93270906 0.94004707\n",
            " 0.93166365 0.93927331 0.9303707  0.93845482 0.93125788 0.93901555\n",
            " 0.93856383 0.93856383 0.94174025 0.94401811 0.94144403 0.94556245\n",
            " 0.93995338 0.94615457 0.93773305 0.94548452 0.93626625 0.94429816\n",
            " 0.93718957 0.94444883 0.93583877 0.94322859 0.93447613 0.94242279\n",
            " 0.93454283 0.93454283 0.93750414 0.94009839 0.93740964 0.94043082\n",
            " 0.93669523 0.94175066 0.93419835 0.94132294 0.93270906 0.94004707\n",
            " 0.93166365 0.93927331 0.9303707  0.93845482 0.93125788 0.93901555]\n",
            "Total GridSearch time: 5120.211843490601 seconds\n"
          ],
          "name": "stdout"
        }
      ]
    },
    {
      "cell_type": "markdown",
      "metadata": {
        "id": "wP5JUz59f3t1",
        "colab_type": "text"
      },
      "source": [
        "*F1-MACRO CV RESULTS*"
      ]
    },
    {
      "cell_type": "code",
      "metadata": {
        "id": "pUWACWkHmOpm",
        "colab_type": "code",
        "outputId": "ba9ec4c4-d857-4f20-c696-e49ba2646f56",
        "colab": {
          "base_uri": "https://localhost:8080/",
          "height": 269
        }
      },
      "source": [
        "print(\"Total GridSearch time: %s seconds\" % (time.time() - start_time))\n",
        "print(\"Optimal knn classifier:\\t\", optimal_knn_macro, \n",
        "      \"\\nwith PCA Components =\", features,\n",
        "      \"\\nand F1-macro accuracy score for cv: \\t\", knn_best_score_macro)"
      ],
      "execution_count": 0,
      "outputs": [
        {
          "output_type": "stream",
          "text": [
            "Total GridSearch time: 5239.718576669693 seconds\n",
            "Optimal knn classifier:\t GridSearchCV(cv=5, error_score='raise-deprecating',\n",
            "             estimator=KNeighborsClassifier(algorithm='auto', leaf_size=30,\n",
            "                                            metric='minkowski',\n",
            "                                            metric_params=None, n_jobs=None,\n",
            "                                            n_neighbors=5, p=2,\n",
            "                                            weights='uniform'),\n",
            "             iid='warn', n_jobs=-1,\n",
            "             param_grid={'metric': ['euclidean', 'manhattan', 'minkowski'],\n",
            "                         'n_neighbors': [1, 3, 5, 7, 9, 11, 13, 15, 17],\n",
            "                         'weights': ['uniform', 'distance']},\n",
            "             pre_dispatch='2*n_jobs', refit=True, return_train_score=False,\n",
            "             scoring='f1_macro', verbose=0) \n",
            "with PCA Components = 131 \n",
            "and F1-macro accuracy score for cv: \t 0.9461545697490779\n"
          ],
          "name": "stdout"
        }
      ]
    },
    {
      "cell_type": "markdown",
      "metadata": {
        "id": "uOKIm0NOf8Vk",
        "colab_type": "text"
      },
      "source": [
        "*F1-MACRO CLASSIFICATION REPORT*"
      ]
    },
    {
      "cell_type": "code",
      "metadata": {
        "id": "WGlU72P_magl",
        "colab_type": "code",
        "outputId": "773382fa-bcf5-42a4-99a5-605114a8897f",
        "colab": {
          "base_uri": "https://localhost:8080/",
          "height": 202
        }
      },
      "source": [
        "from sklearn.metrics import classification_report\n",
        "\n",
        "# PCA(features) --> dataPCA[features] --> dataPCA[(features/2)-1]\n",
        "if(features == 131):\n",
        "  features = 13\n",
        "else:\n",
        "  features = int(features/10)-1\n",
        "y_pred = optimal_knn_macro.predict(dataPCA[features][1])\n",
        "# print(y_pred)\n",
        "# print(y_test)\n",
        "print(classification_report(y_test, y_pred))\n",
        "print(\"Testset F1-macro accuracy score: \\t\", precision_recall_fscore_support(y_test, y_pred, average='macro')[2])\n",
        "print()"
      ],
      "execution_count": 0,
      "outputs": [
        {
          "output_type": "stream",
          "text": [
            "              precision    recall  f1-score   support\n",
            "\n",
            "          -1       0.89      0.95      0.91      2934\n",
            "           1       0.98      0.95      0.96      7406\n",
            "\n",
            "    accuracy                           0.95     10340\n",
            "   macro avg       0.93      0.95      0.94     10340\n",
            "weighted avg       0.95      0.95      0.95     10340\n",
            "\n",
            "Testset F1-macro accuracy score: \t 0.9394811288822034\n",
            "\n"
          ],
          "name": "stdout"
        }
      ]
    },
    {
      "cell_type": "markdown",
      "metadata": {
        "id": "A2K0BXKziwyy",
        "colab_type": "text"
      },
      "source": [
        "Παρατηρούμε πως το recall των δύο κλάσεων εξισορροπήθηκε. Όπως ήταν αναμενόμενο το recall της κλάσης της πρώτης(-1) αυξήθηκε αρκετά από 0.91 σε 0.95 και για το σκοπό αυτό υπήρξε μια μικρή μείωση στο recall της δεύτερης κλάσης(1).\n",
        "Αυξάνωντας το recall της πρώτης κλάσης όμως το μοντέλο αύξησε την πρόβλεψη του σε -1 και μείωσε την προβλεψή του σε 1. Αυτό είχε ως αποτέλεσμα μικρή αύξηση του precision του 1 και μικρή μείωση του precision του -1,  πετυχαίμοντας, έτσι, τον αρχικό μας στόχο, ακόμα και χωρίς τη χρήση pipeline."
      ]
    },
    {
      "cell_type": "markdown",
      "metadata": {
        "id": "3fk1WxglgDzE",
        "colab_type": "text"
      },
      "source": [
        "Όπως φαίνεται από τα τρεξίματα, πετύχαμε μια μικρή βελτίωση στο τελικό αποτέλεσμα. Αυτό συνέβη καθώς το τρέξιμο μας έβγαλε ως βέλτιστες υπερπαραμέτους $k=5$, metric='minkowski', weights = 'uniform' που με εξαίρεση την $k=5$ θεωρούνται και οι default τιμές του knn. Το PCA φαίνεται να μην είναι τόσο χρήσιμο για το συγκεκριμένο dataset καθώς και στις δύο μετρικές επιλέχθηκε ως βέλτιστο αποτέλεσμα για το crossvalidation του gridsearchcv το pca_components=131 όσα δηλαδή και τα ολικά μας δείγματα."
      ]
    },
    {
      "cell_type": "markdown",
      "metadata": {
        "id": "e9nqyPZ1h9W4",
        "colab_type": "text"
      },
      "source": [
        "**2ος Τροπος**"
      ]
    },
    {
      "cell_type": "markdown",
      "metadata": {
        "id": "-NGKRIsriJBP",
        "colab_type": "text"
      },
      "source": [
        "Εδώ θα γίνει χρήση του gridsearchcv από την sklearn όπως και πριν, αλλά αυτή τη φορά τα βήματα που θα κάνει και η παραμέτρους που θα δοκιμάσει θα δοθούν μέσα σε ένα pipeline. Δοκιμάζονται διάφορα τρεξίματα με διαφορετικές τιμές για το PCA για να βρεθούν τα καλύτερα δυνατά αποτελέσματα.\n",
        "Όπως προαναφέρθηκε, για την κατασκευή του μοντέλου θα βασιστούμε στην κλάση Pipeline. Επειδή οι κλάσεις εξισορρόπησης του imblearn όπως η RandomOverSampler τυπικά δεν έχουν μέθοδο transform (έχουν fit_sample) η built-in Pipeline του scikit (from sklearn.pipeline import Pipeline) δεν τις δέχεται ως transformers. Θα φέρουμε την Pipeline από το imblearn (που έχει transform για τους samplers)."
      ]
    },
    {
      "cell_type": "markdown",
      "metadata": {
        "colab_type": "text",
        "id": "uv674fZF82Jq"
      },
      "source": [
        "Στα πρώτα κελιά κάνουμε τα απαραίτητα import , μελετάμε το variance των μεταβλητών για το variance threshold και θέτουμε τις τιμές ορισμού για τις υπερπαραμέτρους."
      ]
    },
    {
      "cell_type": "code",
      "metadata": {
        "id": "3LoJYqxGGzis",
        "colab_type": "code",
        "colab": {}
      },
      "source": [
        "from imblearn.pipeline import Pipeline\n",
        "from sklearn.feature_selection import VarianceThreshold\n",
        "from imblearn.under_sampling import RandomUnderSampler\n",
        "from sklearn.decomposition import PCA\n",
        "from sklearn.neighbors import KNeighborsClassifier\n",
        "\n",
        "# αρχικοποιούμε τους εκτιμητές (μετασχηματιστές και ταξινομητή) χωρείς παραμέτρους\n",
        "selector = VarianceThreshold()\n",
        "rus = RandomUnderSampler(0.7)\n",
        "pca = PCA()\n",
        "clf = KNeighborsClassifier(n_jobs=-1) # η παράμετρος n_jobs = 1 χρησιμοποιεί όλους τους πυρήνες του υπολογιστή\n",
        "pipe = Pipeline(steps=[('selector', selector), ('sampler', rus), ('pca', pca), ('knn', clf)])"
      ],
      "execution_count": 0,
      "outputs": []
    },
    {
      "cell_type": "code",
      "metadata": {
        "id": "rqvBx1Z1topV",
        "colab_type": "code",
        "outputId": "f70d5c6c-5230-4528-a3d3-088fcd2b1710",
        "colab": {
          "base_uri": "https://localhost:8080/",
          "height": 588
        }
      },
      "source": [
        "train_variance = X_train.var(axis=0)\n",
        "print(np.sort(train_variance))\n",
        "print(np.max(train_variance))"
      ],
      "execution_count": 0,
      "outputs": [
        {
          "output_type": "stream",
          "text": [
            "[8.28946817e-05 8.28946817e-05 1.24336706e-04 1.24336706e-04\n",
            " 1.24336706e-04 1.24336706e-04 1.24336706e-04 1.24336706e-04\n",
            " 1.24336868e-04 1.24336868e-04 2.07210932e-04 2.07210932e-04\n",
            " 1.77920653e-03 1.77920653e-03 2.93593395e-03 4.68416931e-03\n",
            " 7.12351651e-03 1.21997515e-02 1.30075992e-02 1.56236115e-02\n",
            " 1.56236115e-02 1.65908274e-02 1.79964752e-02 2.48817100e-02\n",
            " 2.49603711e-02 2.58639860e-02 2.66359571e-02 2.71048653e-02\n",
            " 2.91876597e-02 3.03936445e-02 3.21339848e-02 3.45693468e-02\n",
            " 3.70032332e-02 3.70833916e-02 3.71493195e-02 3.72450185e-02\n",
            " 3.73809636e-02 3.84762626e-02 3.84762626e-02 3.85906306e-02\n",
            " 3.85906306e-02 4.13998455e-02 4.14464779e-02 4.30033575e-02\n",
            " 4.32907862e-02 4.32907862e-02 4.36107220e-02 4.38181295e-02\n",
            " 4.39310439e-02 4.56210501e-02 4.77517352e-02 4.94630947e-02\n",
            " 5.10756295e-02 5.45918046e-02 5.46656798e-02 5.48147811e-02\n",
            " 5.51029124e-02 5.52860950e-02 5.76927570e-02 5.76927570e-02\n",
            " 5.78744875e-02 5.80924507e-02 5.97232317e-02 6.40989938e-02\n",
            " 6.44971428e-02 6.45358920e-02 6.48351762e-02 6.55486366e-02\n",
            " 6.62297190e-02 6.87199566e-02 6.93265512e-02 7.22045048e-02\n",
            " 7.29727076e-02 7.37389514e-02 7.85815408e-02 8.17555130e-02\n",
            " 8.32145185e-02 8.96184256e-02 9.37321116e-02 9.55792259e-02\n",
            " 1.04842948e-01 1.04842948e-01 1.06141602e-01 1.15596082e-01\n",
            " 1.15596082e-01 1.17775446e-01 1.19677012e-01 1.22021425e-01\n",
            " 1.30305512e-01 1.37081229e-01 1.37340643e-01 1.37340643e-01\n",
            " 1.38922859e-01 1.39197379e-01 1.44689942e-01 1.54445338e-01\n",
            " 1.64929548e-01 1.65026240e-01 1.66852933e-01 1.67425660e-01\n",
            " 1.80985774e-01 1.88218132e-01 1.88218132e-01 1.97181005e-01\n",
            " 1.97181005e-01 1.99031674e-01 1.99162602e-01 2.01909555e-01\n",
            " 2.02000412e-01 2.06069578e-01 2.06069578e-01 2.10914915e-01\n",
            " 2.18090564e-01 2.18724169e-01 2.28267435e-01 2.28267435e-01\n",
            " 2.40041408e-01 2.41251451e-01 2.43075691e-01 2.44261741e-01\n",
            " 2.44293098e-01 2.47721793e-01 2.47729700e-01 2.47733648e-01\n",
            " 2.47733648e-01 2.47761190e-01 2.47769029e-01 2.49492467e-01\n",
            " 2.49879797e-01 2.49879797e-01 2.49983667e-01]\n",
            "0.24998366667557562\n"
          ],
          "name": "stdout"
        }
      ]
    },
    {
      "cell_type": "code",
      "metadata": {
        "id": "bwPvpIB6u-G6",
        "colab_type": "code",
        "colab": {}
      },
      "source": [
        "from sklearn.model_selection import GridSearchCV\n",
        "\n",
        "vthreshold = [0.001, 0.01, 0.1] #προσαρμόζουμε τις τιμές μας στο variance που παρατηρήσαμε\n",
        "n_components = [10, 20, 30, 40, 50]\n",
        "k = [1, 3, 5, 7, 9, 11, 13, 15, 17] \n",
        "weights = ['distance', 'uniform']\n",
        "metric = ['euclidean', 'manhattan', 'minkowski']"
      ],
      "execution_count": 0,
      "outputs": []
    },
    {
      "cell_type": "markdown",
      "metadata": {
        "id": "yhBphS1pmZBX",
        "colab_type": "text"
      },
      "source": [
        "Επειδή ο χώρος αναζήτησης των βέλτιστων υπερπαραμέτρων είναι μεγάλος, ξαναορίζουμε την pipeline με την παράμετρο 'memory': για κάθε fold του crossvalidation και για καθε συνδυασμό υπερπαραμέτρων μετασχηματιστών, τα δεδομένα χρειάζεται να μετασχηματιστούν μία φορά και όχι για κάθε νέα τιμή υπερπαραμέτρων του εκτιμητή.\n",
        "Από εδώ και κάτω τρέχουμε με διαφορετικές τιμές και δυνατότητες PCA για F1-MICRO και F1-MACRO"
      ]
    },
    {
      "cell_type": "markdown",
      "metadata": {
        "id": "UfIy4RnMsT2h",
        "colab_type": "text"
      },
      "source": [
        "#####**F1-micro**"
      ]
    },
    {
      "cell_type": "markdown",
      "metadata": {
        "colab_type": "text",
        "id": "GCU4wqA58_Lo"
      },
      "source": [
        "######F1-micro with pca__n_compontents=[10,20,30,40,50]"
      ]
    },
    {
      "cell_type": "code",
      "metadata": {
        "id": "S8m68KPxv4c7",
        "colab_type": "code",
        "colab": {}
      },
      "source": [
        "pipe = Pipeline(steps=[('selector', selector), ('sampler', rus), ('pca', pca), ('knn', clf)], memory = 'tmp')\n",
        "estimator = GridSearchCV(pipe, dict(selector__threshold=vthreshold, pca__n_components=n_components, \n",
        "                                    knn__n_neighbors=k, knn__weights=weights, knn__metric=metric), \n",
        "                         cv=5, scoring='f1_micro', n_jobs=-1)\n",
        "\n"
      ],
      "execution_count": 0,
      "outputs": []
    },
    {
      "cell_type": "code",
      "metadata": {
        "id": "zcfBRGCAwEv3",
        "colab_type": "code",
        "outputId": "105bb5e5-3c5a-45fe-87d9-4b6079dc3dd4",
        "colab": {
          "base_uri": "https://localhost:8080/",
          "height": 185
        }
      },
      "source": [
        "import time\n",
        "start_time = time.time()\n",
        "estimator.fit(X_train, y_train)\n",
        "y_pred = estimator.predict(X_test)\n",
        "print(\"Knn GridSearch Overall time for fit και predict: %s seconds\" % (time.time() - start_time))\n",
        "print(classification_report(y_test, y_pred))"
      ],
      "execution_count": 0,
      "outputs": [
        {
          "output_type": "stream",
          "text": [
            "Knn GridSearch Overall time for fit και predict: 2887.018813610077 seconds\n",
            "              precision    recall  f1-score   support\n",
            "\n",
            "          -1       0.87      0.94      0.91      3017\n",
            "           1       0.98      0.94      0.96      7323\n",
            "\n",
            "    accuracy                           0.94     10340\n",
            "   macro avg       0.92      0.94      0.93     10340\n",
            "weighted avg       0.95      0.94      0.94     10340\n",
            "\n"
          ],
          "name": "stdout"
        }
      ]
    },
    {
      "cell_type": "code",
      "metadata": {
        "id": "T8Ud9gZGxnEX",
        "colab_type": "code",
        "outputId": "f36ad749-2973-4f6b-c5bd-36b3a1856a73",
        "colab": {
          "base_uri": "https://localhost:8080/",
          "height": 302
        }
      },
      "source": [
        "print(estimator.best_estimator_)\n",
        "print(estimator.best_params_)"
      ],
      "execution_count": 0,
      "outputs": [
        {
          "output_type": "stream",
          "text": [
            "Pipeline(memory='tmp',\n",
            "         steps=[('selector', VarianceThreshold(threshold=0.001)),\n",
            "                ('sampler',\n",
            "                 RandomUnderSampler(random_state=None, ratio=None,\n",
            "                                    replacement=False, return_indices=False,\n",
            "                                    sampling_strategy=0.7)),\n",
            "                ('pca',\n",
            "                 PCA(copy=True, iterated_power='auto', n_components=50,\n",
            "                     random_state=None, svd_solver='auto', tol=0.0,\n",
            "                     whiten=False)),\n",
            "                ('knn',\n",
            "                 KNeighborsClassifier(algorithm='auto', leaf_size=30,\n",
            "                                      metric='manhattan', metric_params=None,\n",
            "                                      n_jobs=-1, n_neighbors=5, p=2,\n",
            "                                      weights='distance'))],\n",
            "         verbose=False)\n",
            "{'knn__metric': 'manhattan', 'knn__n_neighbors': 5, 'knn__weights': 'distance', 'pca__n_components': 50, 'selector__threshold': 0.001}\n"
          ],
          "name": "stdout"
        }
      ]
    },
    {
      "cell_type": "markdown",
      "metadata": {
        "colab_type": "text",
        "id": "y6FHQX4r9D6A"
      },
      "source": [
        "######F1-micro without PCA"
      ]
    },
    {
      "cell_type": "code",
      "metadata": {
        "id": "lL3nbMSRAPYx",
        "colab_type": "code",
        "colab": {}
      },
      "source": [
        "pipe = Pipeline(steps=[('selector', selector), ('sampler', rus), ('knn', clf)], memory = 'tmp')\n",
        "estimator = GridSearchCV(pipe, dict(selector__threshold=vthreshold, \n",
        "                                    knn__n_neighbors=k, knn__weights=weights, knn__metric=metric), \n",
        "                         cv=5, scoring='f1_micro', n_jobs=-1)\n",
        "\n"
      ],
      "execution_count": 0,
      "outputs": []
    },
    {
      "cell_type": "code",
      "metadata": {
        "id": "oZ6v51tfB7-C",
        "colab_type": "code",
        "outputId": "86a0ce3f-f0f4-4d54-e746-28f3bfe3055a",
        "colab": {
          "base_uri": "https://localhost:8080/",
          "height": 218
        }
      },
      "source": [
        "import time\n",
        "print(\"X_train shape: \\t\", X_train.shape)\n",
        "print(\"y_train shape: \\t\", y_train.shape)\n",
        "start_time = time.time()\n",
        "estimator.fit(X_train, y_train)\n",
        "y_pred = estimator.predict(X_test)\n",
        "print(\"Knn GridSearch Overall time for fit και predict: %s seconds\" % (time.time() - start_time))\n",
        "print(classification_report(y_test, y_pred))"
      ],
      "execution_count": 0,
      "outputs": [
        {
          "output_type": "stream",
          "text": [
            "X_train shape: \t (24125, 131)\n",
            "y_train shape: \t (24125,)\n",
            "Knn GridSearch Overall time for fit και predict: 2412.790825843811 seconds\n",
            "              precision    recall  f1-score   support\n",
            "\n",
            "          -1       0.88      0.94      0.91      2963\n",
            "           1       0.98      0.95      0.96      7377\n",
            "\n",
            "    accuracy                           0.95     10340\n",
            "   macro avg       0.93      0.95      0.94     10340\n",
            "weighted avg       0.95      0.95      0.95     10340\n",
            "\n"
          ],
          "name": "stdout"
        }
      ]
    },
    {
      "cell_type": "code",
      "metadata": {
        "id": "rdOEPkXyCg50",
        "colab_type": "code",
        "outputId": "40717a07-1f1b-4cdd-c0a0-73efd4508beb",
        "colab": {
          "base_uri": "https://localhost:8080/",
          "height": 235
        }
      },
      "source": [
        "print(estimator.best_estimator_)\n",
        "print(estimator.best_params_)"
      ],
      "execution_count": 0,
      "outputs": [
        {
          "output_type": "stream",
          "text": [
            "Pipeline(memory='tmp',\n",
            "         steps=[('selector', VarianceThreshold(threshold=0.01)),\n",
            "                ('sampler',\n",
            "                 RandomUnderSampler(random_state=None, ratio=None,\n",
            "                                    replacement=False, return_indices=False,\n",
            "                                    sampling_strategy=0.7)),\n",
            "                ('knn',\n",
            "                 KNeighborsClassifier(algorithm='auto', leaf_size=30,\n",
            "                                      metric='manhattan', metric_params=None,\n",
            "                                      n_jobs=-1, n_neighbors=3, p=2,\n",
            "                                      weights='distance'))],\n",
            "         verbose=False)\n",
            "{'knn__metric': 'manhattan', 'knn__n_neighbors': 3, 'knn__weights': 'distance', 'selector__threshold': 0.01}\n"
          ],
          "name": "stdout"
        }
      ]
    },
    {
      "cell_type": "markdown",
      "metadata": {
        "id": "cUlZe2rDb75A",
        "colab_type": "text"
      },
      "source": [
        "######F1-micro with default PCA (no components given)\n",
        "\n"
      ]
    },
    {
      "cell_type": "code",
      "metadata": {
        "colab_type": "code",
        "id": "K_bcFyVoZzNq",
        "colab": {}
      },
      "source": [
        "pipe = Pipeline(steps=[('selector', selector), ('sampler', rus), ('knn', clf)], memory = 'tmp')\n",
        "estimator = GridSearchCV(pipe, dict(selector__threshold=vthreshold, \n",
        "                                    knn__n_neighbors=k, knn__weights=weights, knn__metric=metric), \n",
        "                         cv=5, scoring='f1_micro', n_jobs=-1)\n",
        "\n"
      ],
      "execution_count": 0,
      "outputs": []
    },
    {
      "cell_type": "code",
      "metadata": {
        "colab_type": "code",
        "id": "B4RNI9jGZvnf",
        "colab": {}
      },
      "source": [
        "pipe = Pipeline(steps=[('selector', selector), ('sampler', rus), ('knn', clf)], memory = 'tmp')\n",
        "estimator = GridSearchCV(pipe, dict(selector__threshold=vthreshold, \n",
        "                                    knn__n_neighbors=k, knn__weights=weights, knn__metric=metric), \n",
        "                         cv=5, scoring='f1_micro', n_jobs=-1)\n",
        "\n"
      ],
      "execution_count": 0,
      "outputs": []
    },
    {
      "cell_type": "code",
      "metadata": {
        "id": "Tk-CHbXWcbjG",
        "colab_type": "code",
        "colab": {}
      },
      "source": [
        "pipe = Pipeline(steps=[('selector', selector), ('sampler', rus), ('pca', pca), ('knn', clf)], memory = 'tmp')\n",
        "estimator = GridSearchCV(pipe, dict(selector__threshold=vthreshold,  \n",
        "                                    knn__n_neighbors=k, knn__weights=weights, knn__metric=metric), \n",
        "                         cv=5, scoring='f1_micro', n_jobs=-1)"
      ],
      "execution_count": 0,
      "outputs": []
    },
    {
      "cell_type": "code",
      "metadata": {
        "id": "vkhf2BWuc089",
        "colab_type": "code",
        "outputId": "1d111ebd-72e2-452a-8b4c-22d0c26a7771",
        "colab": {
          "base_uri": "https://localhost:8080/",
          "height": 470
        }
      },
      "source": [
        "import time\n",
        "start_time = time.time()\n",
        "estimator.fit(X_train, y_train)\n",
        "y_pred = estimator.predict(X_test)\n",
        "print(\"Knn GridSearch Overall time for fit και predict: %s seconds\" % (time.time() - start_time))\n",
        "print(classification_report(y_test, y_pred))\n",
        "print(estimator.best_estimator_)\n",
        "print(estimator.best_params_)"
      ],
      "execution_count": 0,
      "outputs": [
        {
          "output_type": "stream",
          "text": [
            "Knn GridSearch Overall time for fit και predict: 1789.9830000400543 seconds\n",
            "              precision    recall  f1-score   support\n",
            "\n",
            "          -1       0.88      0.94      0.91      2963\n",
            "           1       0.98      0.95      0.96      7377\n",
            "\n",
            "    accuracy                           0.95     10340\n",
            "   macro avg       0.93      0.94      0.93     10340\n",
            "weighted avg       0.95      0.95      0.95     10340\n",
            "\n",
            "Pipeline(memory='tmp',\n",
            "         steps=[('selector', VarianceThreshold(threshold=0.01)),\n",
            "                ('sampler',\n",
            "                 RandomUnderSampler(random_state=None, ratio=None,\n",
            "                                    replacement=False, return_indices=False,\n",
            "                                    sampling_strategy=0.7)),\n",
            "                ('pca',\n",
            "                 PCA(copy=True, iterated_power='auto', n_components=None,\n",
            "                     random_state=None, svd_solver='auto', tol=0.0,\n",
            "                     whiten=False)),\n",
            "                ('knn',\n",
            "                 KNeighborsClassifier(algorithm='auto', leaf_size=30,\n",
            "                                      metric='manhattan', metric_params=None,\n",
            "                                      n_jobs=-1, n_neighbors=3, p=2,\n",
            "                                      weights='distance'))],\n",
            "         verbose=False)\n",
            "{'knn__metric': 'manhattan', 'knn__n_neighbors': 3, 'knn__weights': 'distance', 'selector__threshold': 0.01}\n"
          ],
          "name": "stdout"
        }
      ]
    },
    {
      "cell_type": "markdown",
      "metadata": {
        "id": "GO29lX0KqQOs",
        "colab_type": "text"
      },
      "source": [
        "######**ΣΧΟΛΙΑΣΜΟΣ ΑΠΟΤΕΛΕΣΜΑΤΩΝ**\n",
        "\n",
        "Όπως παρατηρούμε, το PCA δεν βοήθησε ούτε με αυτό τον τρόπο στη βελτίωση του αποτελέσματος καθώς με χρήση PCA το βέλτιστο βγαίνει 0.94 ενώ χωρίς χρήση PCA ή με χρήση default PCA (χωρίς να του δίνουμε χειροκίνητα τα components αλλά να βρίσκει μόνο του τα μέγιστα ασυσχέτιστα δείγματα) το αποτέλεσμα είναι 0.95.\n",
        "Αξίζει να σημειωθεί πως το καλύτερο αποτέλεσμα βγαίνει για $k=3$ , weights=distance και metric=manhattan. Αυτό σημαίνει πως οι default τιμές του knn δεν ήταν οι βέλτιστες και πως εδώ έχουμε βελτίωση. Ωστόσο, επειδή είναι μικρή δεν παρατηρείται με δύο δεκαδικά ψηφία και το αποτέλεσμα στρογγυλοποιείται στο 0.95. Έτσι, το μοντέλο μας χρειάζεται ακόμα πιο high variance από το default, και για αυτό το λόγο επιλέγεται $k<5$.\n"
      ]
    },
    {
      "cell_type": "markdown",
      "metadata": {
        "id": "Fs67Qz73sYnG",
        "colab_type": "text"
      },
      "source": [
        "##### **F1-macro**"
      ]
    },
    {
      "cell_type": "markdown",
      "metadata": {
        "id": "ZHK8y_M6rlvB",
        "colab_type": "text"
      },
      "source": [
        "Στην F1-macro στρατηγική, δε θα δοθούν default τιμές PCA όπως στην F1-micro αφού φαίνεται από όλα τα τρεξίματα πως δεν δίνουν καλύτερο αποτέλεσμα. Εκτός αυτού, δεδομένου ότι και στην F1-micro και στην F1-macro χρησιμοποιούμε variance threshold, μας περιορίζει ως προς την ελευθερία του να διαλέξουμε εμείς συνιστώσες PCA. Έτσι ακολουθούν δύο διαφορετικά τρεξίματα ένα χωρίς PCA και ένα ελεύθερο PCA. "
      ]
    },
    {
      "cell_type": "markdown",
      "metadata": {
        "colab_type": "text",
        "id": "pkP87Bao9bL6"
      },
      "source": [
        "######F1-macro without PCA"
      ]
    },
    {
      "cell_type": "code",
      "metadata": {
        "id": "AIm0UOy6qoN7",
        "colab_type": "code",
        "colab": {}
      },
      "source": [
        "pipe = Pipeline(steps=[('selector', selector), ('sampler', rus), ('knn', clf)], memory = 'tmp')\n",
        "estimator = GridSearchCV(pipe, dict(selector__threshold=vthreshold, \n",
        "                                    knn__n_neighbors=k, knn__weights=weights, knn__metric=metric), \n",
        "                         cv=5, scoring='f1_macro', n_jobs=-1)"
      ],
      "execution_count": 0,
      "outputs": []
    },
    {
      "cell_type": "code",
      "metadata": {
        "id": "6IQKNcdqqx7U",
        "colab_type": "code",
        "outputId": "f9013907-3aa4-4122-b580-7f0ea08231ec",
        "colab": {
          "base_uri": "https://localhost:8080/",
          "height": 50
        }
      },
      "source": [
        "import time\n",
        "print(\"X_train shape: \\t\", X_train.shape)\n",
        "print(\"y_train shape: \\t\", y_train.shape)\n",
        "start_time = time.time()\n",
        "estimator.fit(X_train, y_train)\n",
        "y_pred = estimator.predict(X_test)\n"
      ],
      "execution_count": 0,
      "outputs": [
        {
          "output_type": "stream",
          "text": [
            "X_train shape: \t (24125, 131)\n",
            "y_train shape: \t (24125,)\n"
          ],
          "name": "stdout"
        }
      ]
    },
    {
      "cell_type": "code",
      "metadata": {
        "id": "x63mYj3uCX-E",
        "colab_type": "code",
        "outputId": "99de94c3-de58-4eca-9092-08ae8145e28a",
        "colab": {
          "base_uri": "https://localhost:8080/",
          "height": 403
        }
      },
      "source": [
        "from sklearn.metrics import confusion_matrix\n",
        "from sklearn.metrics import precision_recall_fscore_support\n",
        "from sklearn.metrics import classification_report\n",
        "print(\"Knn GridSearch Overall time for fit και predict: %s seconds\" % (time.time() - start_time))\n",
        "print(classification_report(y_test, y_pred))\n",
        "print(estimator.best_estimator_) \n",
        "print(estimator.best_params_)"
      ],
      "execution_count": 0,
      "outputs": [
        {
          "output_type": "stream",
          "text": [
            "Knn GridSearch Overall time for fit και predict: 2692.7798838615417 seconds\n",
            "              precision    recall  f1-score   support\n",
            "\n",
            "          -1       0.89      0.94      0.91      2936\n",
            "           1       0.97      0.95      0.96      7404\n",
            "\n",
            "    accuracy                           0.95     10340\n",
            "   macro avg       0.93      0.95      0.94     10340\n",
            "weighted avg       0.95      0.95      0.95     10340\n",
            "\n",
            "Pipeline(memory='tmp',\n",
            "         steps=[('selector', VarianceThreshold(threshold=0.001)),\n",
            "                ('sampler',\n",
            "                 RandomUnderSampler(random_state=None, ratio=None,\n",
            "                                    replacement=False, return_indices=False,\n",
            "                                    sampling_strategy=0.7)),\n",
            "                ('knn',\n",
            "                 KNeighborsClassifier(algorithm='auto', leaf_size=30,\n",
            "                                      metric='manhattan', metric_params=None,\n",
            "                                      n_jobs=-1, n_neighbors=3, p=2,\n",
            "                                      weights='distance'))],\n",
            "         verbose=False)\n",
            "{'knn__metric': 'manhattan', 'knn__n_neighbors': 3, 'knn__weights': 'distance', 'selector__threshold': 0.001}\n"
          ],
          "name": "stdout"
        }
      ]
    },
    {
      "cell_type": "markdown",
      "metadata": {
        "colab_type": "text",
        "id": "ffavQb2O9e8W"
      },
      "source": [
        "######F1-macro with default PCA (no components given)"
      ]
    },
    {
      "cell_type": "code",
      "metadata": {
        "id": "KXGNmlvj0qKq",
        "colab_type": "code",
        "colab": {}
      },
      "source": [
        "pipe = Pipeline(steps=[('selector', selector), ('sampler', rus), ('pca', pca), ('knn', clf)], memory = 'tmp')\n",
        "estimator = GridSearchCV(pipe, dict(selector__threshold=vthreshold,  \n",
        "                                    knn__n_neighbors=k, knn__weights=weights, knn__metric=metric), \n",
        "                         cv=5, scoring='f1_macro', n_jobs=-1)"
      ],
      "execution_count": 0,
      "outputs": []
    },
    {
      "cell_type": "code",
      "metadata": {
        "id": "Do_LTgmMCvCg",
        "colab_type": "code",
        "outputId": "c8ac3f41-b2c4-4757-b0e0-33524e3b1314",
        "colab": {
          "base_uri": "https://localhost:8080/",
          "height": 50
        }
      },
      "source": [
        "import time \n",
        "print(\"X_train shape: \\t\", X_train.shape)\n",
        "print(\"y_train shape: \\t\", y_train.shape)\n",
        "start_time = time.time() \n",
        "estimator.fit(X_train, y_train) \n",
        "y_pred = estimator.predict(X_test) "
      ],
      "execution_count": 0,
      "outputs": [
        {
          "output_type": "stream",
          "text": [
            "X_train shape: \t (24125, 131)\n",
            "y_train shape: \t (24125,)\n"
          ],
          "name": "stdout"
        }
      ]
    },
    {
      "cell_type": "code",
      "metadata": {
        "id": "kGTpI2jHCwAQ",
        "colab_type": "code",
        "outputId": "6b1320e2-8e81-49df-82b6-35ac07498017",
        "colab": {
          "base_uri": "https://localhost:8080/",
          "height": 470
        }
      },
      "source": [
        "from sklearn.metrics import confusion_matrix\n",
        "from sklearn.metrics import precision_recall_fscore_support\n",
        "from sklearn.metrics import classification_report\n",
        "print(\"Knn GridSearch Overall time for fit και predict: %s seconds\" % (time.time() - start_time)) \n",
        "print(classification_report(y_test, y_pred)) \n",
        "print(estimator.best_estimator_) \n",
        "print(estimator.best_params_)"
      ],
      "execution_count": 0,
      "outputs": [
        {
          "output_type": "stream",
          "text": [
            "Knn GridSearch Overall time for fit και predict: 1985.897340297699 seconds\n",
            "              precision    recall  f1-score   support\n",
            "\n",
            "          -1       0.89      0.94      0.91      2936\n",
            "           1       0.97      0.95      0.96      7404\n",
            "\n",
            "    accuracy                           0.95     10340\n",
            "   macro avg       0.93      0.94      0.94     10340\n",
            "weighted avg       0.95      0.95      0.95     10340\n",
            "\n",
            "Pipeline(memory='tmp',\n",
            "         steps=[('selector', VarianceThreshold(threshold=0.001)),\n",
            "                ('sampler',\n",
            "                 RandomUnderSampler(random_state=None, ratio=None,\n",
            "                                    replacement=False, return_indices=False,\n",
            "                                    sampling_strategy=0.7)),\n",
            "                ('pca',\n",
            "                 PCA(copy=True, iterated_power='auto', n_components=None,\n",
            "                     random_state=None, svd_solver='auto', tol=0.0,\n",
            "                     whiten=False)),\n",
            "                ('knn',\n",
            "                 KNeighborsClassifier(algorithm='auto', leaf_size=30,\n",
            "                                      metric='manhattan', metric_params=None,\n",
            "                                      n_jobs=-1, n_neighbors=3, p=2,\n",
            "                                      weights='distance'))],\n",
            "         verbose=False)\n",
            "{'knn__metric': 'manhattan', 'knn__n_neighbors': 3, 'knn__weights': 'distance', 'selector__threshold': 0.001}\n"
          ],
          "name": "stdout"
        }
      ]
    },
    {
      "cell_type": "markdown",
      "metadata": {
        "colab_type": "text",
        "id": "xViydG3T9zgy"
      },
      "source": [
        "######**ΣΧΟΛΙΑΣΜΌΣ ΑΠΟΤΕΛΕΣΜΆΤΩΝ**\n",
        "\n",
        "Όπως και στην f1-micro το καλύτερο αποτέλεσμα έχει k=3, weigts=distance και metric=manhattan. Το αποτέλεσμα στογγυλοποιείται στο 0.94 που είναι μια βελτίωση του 0.937 του αρχικού. Η μόνη διαφορά με την F1-micro είναι πως εδώ επιλέχθηκε για threshold 0.001 η μικρότερη δυνατή τιμή από τις δοθείσες παραμέτρους.  \n",
        "\n"
      ]
    },
    {
      "cell_type": "markdown",
      "metadata": {
        "id": "Ohqy0dUnb1vO",
        "colab_type": "text"
      },
      "source": [
        "Έτσι, βλέπουμε ότι από όλες τις τεχνικές που χρησιμοποιήθηκαν, τα καλύτερα recall και precision scores τα είχε η πρώτη μέθοδος χωρίς το pipeline, η οποία κατάφερε να εξισορροπήσει κυρίως το recall, και άρα να καθιστά το μοντέλο ελάχιστα πιο ευέλικτο. "
      ]
    },
    {
      "cell_type": "markdown",
      "metadata": {
        "id": "lrUgFXmucwie",
        "colab_type": "text"
      },
      "source": [
        "#### **Multi-Layer Perceptron (MLP)** "
      ]
    },
    {
      "cell_type": "markdown",
      "metadata": {
        "id": "TW28bjiAd8Yp",
        "colab_type": "text"
      },
      "source": [
        "##### **F1-micro**"
      ]
    },
    {
      "cell_type": "markdown",
      "metadata": {
        "id": "T3z0fvI8eDmD",
        "colab_type": "text"
      },
      "source": [
        "Ακολουθούμε στην αρχή την πρώτη τεχνική που περιγράφηκε παραπάνω για εύρεση του καλύτερου ταξινομητή με βάση το f1_micro. Χρησιμοποιούμε ένα parameter grid που περιέχει πάρα πολλούς συνδυασμούς MLP classifiers και κάνουμε gridsearch χωρίς pipeline."
      ]
    },
    {
      "cell_type": "code",
      "metadata": {
        "colab_type": "code",
        "outputId": "f9d2f761-4166-4c77-cbd5-df7e8c5b613f",
        "id": "kPj2X_C-TERL",
        "colab": {
          "base_uri": "https://localhost:8080/",
          "height": 287
        }
      },
      "source": [
        "from warnings import filterwarnings\n",
        "filterwarnings('ignore')\n",
        "\n",
        "from sklearn.model_selection import GridSearchCV\n",
        "\n",
        "# Run all initial_data_PCA for each grid parameter of MLP\n",
        "from sklearn.neural_network import MLPClassifier\n",
        "mlp_best_score_micro = 0\n",
        "optimal_mlp_micro = None\n",
        "\n",
        "mlp_params_grid = [{\"hidden_layer_sizes\": [(100,), \n",
        "                                           (200,)],\n",
        "                     \"activation\": ['tanh', 'relu'],\n",
        "                     \"solver\": ['lbfgs', 'sgd'], \n",
        "                     \"max_iter\": [150], \"alpha\": [0.0001, 0.05], \n",
        "                     \"learning_rate\": ['constant','adaptive']}]\n",
        "\n",
        "import time\n",
        "start_time = time.time()\n",
        "# No undersampling\n",
        "for i in range(0, len(initial_data_PCA)):\n",
        "  data_tmp = initial_data_PCA[i]\n",
        "  mlp = GridSearchCV(MLPClassifier(), param_grid=mlp_params_grid, n_jobs=-1, scoring='accuracy')\n",
        "\n",
        "  mlp.fit(data_tmp[0], y_train)\n",
        "  print(\"PCA components:\\t\", data_tmp[2])\n",
        " \n",
        "  best_score = np.max(mlp.cv_results_['mean_test_score'])\n",
        "  if (best_score > mlp_best_score_micro):\n",
        "    mlp_best_score_micro = best_score\n",
        "    optimal_mlp_micro = mlp\n",
        "    features = data_tmp[2]\n",
        "\n",
        "print(\"GridSearch overall time: %s seconds\" % (time.time() - start_time))"
      ],
      "execution_count": 0,
      "outputs": [
        {
          "output_type": "stream",
          "text": [
            "PCA components:\t 10\n",
            "PCA components:\t 20\n",
            "PCA components:\t 30\n",
            "PCA components:\t 40\n",
            "PCA components:\t 50\n",
            "PCA components:\t 60\n",
            "PCA components:\t 70\n",
            "PCA components:\t 80\n",
            "PCA components:\t 90\n",
            "PCA components:\t 100\n",
            "PCA components:\t 110\n",
            "PCA components:\t 120\n",
            "PCA components:\t 130\n",
            "PCA components:\t 131\n",
            "GridSearch overall time: 15357.295123815536 seconds\n"
          ],
          "name": "stdout"
        }
      ]
    },
    {
      "cell_type": "code",
      "metadata": {
        "id": "Zfxg02SZOXXR",
        "colab_type": "code",
        "outputId": "e7a208b1-5264-4e79-f8a5-13655199a03d",
        "colab": {
          "base_uri": "https://localhost:8080/",
          "height": 413
        }
      },
      "source": [
        "print(\"Optimal knn classifier:\\t\", optimal_mlp_micro, \n",
        "      \"\\nwith PCA Components =\", features,\n",
        "      \"\\nand F1-micro accuracy score for cv: \\t\", mlp_best_score_micro)"
      ],
      "execution_count": 0,
      "outputs": [
        {
          "output_type": "stream",
          "text": [
            "Optimal knn classifier:\t GridSearchCV(cv='warn', error_score='raise-deprecating',\n",
            "             estimator=MLPClassifier(activation='relu', alpha=0.0001,\n",
            "                                     batch_size='auto', beta_1=0.9,\n",
            "                                     beta_2=0.999, early_stopping=False,\n",
            "                                     epsilon=1e-08, hidden_layer_sizes=(100,),\n",
            "                                     learning_rate='constant',\n",
            "                                     learning_rate_init=0.001, max_iter=200,\n",
            "                                     momentum=0.9, n_iter_no_change=10,\n",
            "                                     nesterovs_momentum=True, power_t=0.5,\n",
            "                                     rando...\n",
            "                                     validation_fraction=0.1, verbose=False,\n",
            "                                     warm_start=False),\n",
            "             iid='warn', n_jobs=-1,\n",
            "             param_grid=[{'activation': ['tanh', 'relu'],\n",
            "                          'alpha': [0.0001, 0.05],\n",
            "                          'hidden_layer_sizes': [(100,), (200,)],\n",
            "                          'learning_rate': ['constant', 'adaptive'],\n",
            "                          'max_iter': [150], 'solver': ['lbfgs', 'sgd']}],\n",
            "             pre_dispatch='2*n_jobs', refit=True, return_train_score=False,\n",
            "             scoring='accuracy', verbose=0) \n",
            "with PCA Components = 131 \n",
            "and F1-micro accuracy score for cv: \t 0.9581761658031088\n"
          ],
          "name": "stdout"
        }
      ]
    },
    {
      "cell_type": "code",
      "metadata": {
        "id": "R4xDjeQvTGa2",
        "colab_type": "code",
        "outputId": "67860008-080f-4fdd-d55c-7bfbcbb11035",
        "colab": {
          "base_uri": "https://localhost:8080/",
          "height": 215
        }
      },
      "source": [
        "from sklearn.metrics import classification_report\n",
        "from sklearn.neural_network import MLPClassifier\n",
        "from warnings import filterwarnings\n",
        "filterwarnings('ignore')\n",
        "\n",
        "if(features == 131):\n",
        "  features = 13\n",
        "else:\n",
        "  features = int(features/10)-1\n",
        "y_pred = optimal_mlp_micro.predict(dataPCA[features][1])\n",
        "# print(y_pred)\n",
        "# print(y_test)\n",
        "print(classification_report(y_test, y_pred))\n",
        "print(\"Testset F1-micro accuracy score: \\t\", precision_recall_fscore_support(y_test, y_pred, average='micro')[2])\n",
        "print()"
      ],
      "execution_count": 0,
      "outputs": [
        {
          "output_type": "stream",
          "text": [
            "              precision    recall  f1-score   support\n",
            "\n",
            "          -1       0.93      0.94      0.93      2950\n",
            "           1       0.97      0.97      0.97      7390\n",
            "\n",
            "    accuracy                           0.96     10340\n",
            "   macro avg       0.95      0.95      0.95     10340\n",
            "weighted avg       0.96      0.96      0.96     10340\n",
            "\n",
            "Testset F1-micro accuracy score: \t 0.9615087040618956\n",
            "\n"
          ],
          "name": "stdout"
        }
      ]
    },
    {
      "cell_type": "markdown",
      "metadata": {
        "id": "szZu0KSVev4W",
        "colab_type": "text"
      },
      "source": [
        "Παρατηρούμε ότι βελτιώνεται το f1_micro κατά 0.2% περίπου με χρήση αυτής της τεχνικής, καθώς και το precision των not merged, ενώ οι υπόλοιπες μετρικές μένουν ως έχουν. Έτσι, είναι γνήσια καλύτερο από τον default MLP."
      ]
    },
    {
      "cell_type": "markdown",
      "metadata": {
        "id": "mpylP_52gV-O",
        "colab_type": "text"
      },
      "source": [
        "Στην συνέχεια, θα δοκιμάσουμε την δεύτερη τεχνική με το pipeline και το gridsearch από τις βιβλιοθήκες. Έχοντας δοκιμάσει πάρα πολλούς διαφορετικούς συνδυασμούς Variance Threshold, sampling, PCA καταλήξαμε στο παρακάτω βέλτιστο ταξινομητή με αυτήν την τεχνική.  "
      ]
    },
    {
      "cell_type": "code",
      "metadata": {
        "id": "nkR_6GMbxyvC",
        "colab_type": "code",
        "colab": {}
      },
      "source": [
        "from imblearn.pipeline import Pipeline\n",
        "from sklearn.feature_selection import VarianceThreshold\n",
        "from imblearn.under_sampling import RandomUnderSampler\n",
        "from sklearn.decomposition import PCA\n",
        "from sklearn.neural_network import MLPClassifier\n",
        "\n",
        "# αρχικοποιούμε τους εκτιμητές (μετασχηματιστές και ταξινομητή) χωρείς παραμέτρους\n",
        "selector = VarianceThreshold()\n",
        "rus = RandomUnderSampler(sampling_strategy=0.7)\n",
        "pca = PCA()\n",
        "clf = MLPClassifier()\n",
        "pipe = Pipeline(steps=[('selector', selector), ('sampler', rus), ('pca', pca), ('mlp', clf)])"
      ],
      "execution_count": 0,
      "outputs": []
    },
    {
      "cell_type": "code",
      "metadata": {
        "id": "BXV7HMRLx_KS",
        "colab_type": "code",
        "outputId": "386c8487-a49e-46ea-c8a5-7fa8afa3ad7f",
        "colab": {
          "base_uri": "https://localhost:8080/",
          "height": 629
        }
      },
      "source": [
        "train_variance = X_train.var(axis=0)\n",
        "print(np.sort(train_variance))\n",
        "print(np.max(train_variance))"
      ],
      "execution_count": 0,
      "outputs": [
        {
          "output_type": "stream",
          "text": [
            "[1.24336712e-04 1.24336712e-04 1.24336712e-04 1.24336712e-04\n",
            " 1.24336712e-04 1.24336712e-04 1.24336868e-04 1.24336868e-04\n",
            " 1.65775618e-04 1.65775618e-04 2.90071250e-04 2.90071250e-04\n",
            " 1.73790180e-03 1.73790180e-03 3.15639203e-03 4.62813086e-03\n",
            " 7.19072131e-03 1.27250089e-02 1.33303535e-02 1.57038739e-02\n",
            " 1.57038739e-02 1.64737105e-02 1.77471934e-02 2.53534705e-02\n",
            " 2.57069662e-02 2.61386385e-02 2.68079586e-02 2.72867684e-02\n",
            " 3.12475013e-02 3.12862735e-02 3.18886522e-02 3.70732793e-02\n",
            " 3.71014335e-02 3.73009433e-02 3.73645895e-02 3.74486933e-02\n",
            " 3.75602047e-02 3.75602047e-02 3.76552425e-02 3.76748202e-02\n",
            " 3.76748202e-02 4.09484796e-02 4.13905553e-02 4.28005073e-02\n",
            " 4.28005073e-02 4.42844105e-02 4.43823927e-02 4.48995922e-02\n",
            " 4.49458827e-02 4.67438550e-02 4.89058417e-02 5.04271685e-02\n",
            " 5.09023060e-02 5.46172175e-02 5.48480776e-02 5.50558614e-02\n",
            " 5.51173303e-02 5.56880513e-02 5.84917286e-02 5.91441957e-02\n",
            " 6.04457896e-02 6.04457896e-02 6.08786646e-02 6.38040613e-02\n",
            " 6.43667788e-02 6.44784388e-02 6.49468561e-02 6.56872702e-02\n",
            " 6.60605827e-02 6.86970714e-02 6.90798018e-02 7.28680506e-02\n",
            " 7.31819287e-02 7.39786822e-02 7.87202092e-02 8.16194685e-02\n",
            " 8.30451932e-02 9.01160411e-02 9.27558387e-02 9.51841805e-02\n",
            " 1.04842948e-01 1.04842948e-01 1.05770886e-01 1.16203248e-01\n",
            " 1.16203248e-01 1.18106836e-01 1.19557031e-01 1.22732210e-01\n",
            " 1.30276829e-01 1.35812480e-01 1.36978618e-01 1.36978618e-01\n",
            " 1.38578719e-01 1.38856293e-01 1.43732000e-01 1.54317163e-01\n",
            " 1.65026240e-01 1.65243595e-01 1.66876836e-01 1.67830144e-01\n",
            " 1.78972495e-01 1.89244136e-01 1.89244136e-01 1.97504405e-01\n",
            " 1.97504405e-01 1.97959280e-01 1.99087806e-01 2.02254354e-01\n",
            " 2.02381072e-01 2.06243164e-01 2.06243164e-01 2.10914915e-01\n",
            " 2.17644751e-01 2.18268023e-01 2.28644645e-01 2.28644645e-01\n",
            " 2.39136528e-01 2.40491224e-01 2.42797004e-01 2.44601938e-01\n",
            " 2.44644490e-01 2.47321803e-01 2.47338937e-01 2.47351751e-01\n",
            " 2.47368788e-01 2.47402698e-01 2.47402698e-01 2.49446654e-01\n",
            " 2.49761594e-01 2.49761594e-01 2.49988866e-01]\n",
            "0.2499888658488244\n"
          ],
          "name": "stdout"
        }
      ]
    },
    {
      "cell_type": "code",
      "metadata": {
        "colab_type": "code",
        "id": "FpaOQRfEdVM1",
        "colab": {}
      },
      "source": [
        "from sklearn.model_selection import GridSearchCV\n",
        "# undersampling = 0.45\n",
        "vthreshold = [0.01] #προσαρμόζουμε τις τιμές μας στο variance που παρατηρήσαμε\n",
        "hidden_layer_sizes = [(30,), (40), (50,)]\n",
        "activation = ['tanh', 'relu']\n",
        "solver = ['adam']\n",
        "max_iter = [200]\n",
        "alpha = [0.0001]\n",
        "learning_rate = ['constant', 'adaptive']\n",
        "sampling_strategy = [0.45]"
      ],
      "execution_count": 0,
      "outputs": []
    },
    {
      "cell_type": "code",
      "metadata": {
        "colab_type": "code",
        "id": "L9TH1H46dVM8",
        "colab": {}
      },
      "source": [
        "pipe = Pipeline(steps=[('selector', selector), ('sampler', rus), ('pca', pca), ('mlp', clf)], memory = 'tmp')\n",
        "estimator = GridSearchCV(pipe, dict(selector__threshold=vthreshold,\n",
        "                                    sampler__sampling_strategy=sampling_strategy,\n",
        "                                    # pca__n_components=n_components,\n",
        "                                    mlp__hidden_layer_sizes=hidden_layer_sizes, \n",
        "                                    mlp__activation=activation, \n",
        "                                    mlp__solver=solver, \n",
        "                                    mlp__max_iter=max_iter,\n",
        "                                    mlp__alpha=alpha,\n",
        "                                    mlp__learning_rate=learning_rate), \n",
        "                         cv=5, scoring='f1_micro', n_jobs=-1)\n"
      ],
      "execution_count": 0,
      "outputs": []
    },
    {
      "cell_type": "code",
      "metadata": {
        "colab_type": "code",
        "outputId": "443fef4c-5494-490e-dce4-35241dc197da",
        "id": "SRNr9BSTdVNB",
        "colab": {
          "base_uri": "https://localhost:8080/",
          "height": 197
        }
      },
      "source": [
        "import time\n",
        "start_time = time.time()\n",
        "estimator.fit(X_train, y_train)\n",
        "y_pred = estimator.predict(X_test)\n",
        "print(\"MLP GridSearch Overall time for fit και predict: %s seconds\" % (time.time() - start_time))\n",
        "print(classification_report(y_test, y_pred))"
      ],
      "execution_count": 0,
      "outputs": [
        {
          "output_type": "stream",
          "text": [
            "MLP GridSearch Overall time for fit και predict: 807.3297381401062 seconds\n",
            "              precision    recall  f1-score   support\n",
            "\n",
            "          -1       0.93      0.94      0.93      2881\n",
            "           1       0.98      0.97      0.97      7459\n",
            "\n",
            "    accuracy                           0.96     10340\n",
            "   macro avg       0.95      0.96      0.95     10340\n",
            "weighted avg       0.96      0.96      0.96     10340\n",
            "\n"
          ],
          "name": "stdout"
        }
      ]
    },
    {
      "cell_type": "code",
      "metadata": {
        "colab_type": "code",
        "outputId": "195902dc-d9df-40d3-e76b-8b47bab29882",
        "id": "z7jGNPmadVNH",
        "colab": {
          "base_uri": "https://localhost:8080/",
          "height": 487
        }
      },
      "source": [
        "print(estimator.best_estimator_)\n",
        "print(estimator.best_params_)\n",
        "print(\"CV score:\", np.max(estimator.cv_results_['mean_test_score']))"
      ],
      "execution_count": 0,
      "outputs": [
        {
          "output_type": "stream",
          "text": [
            "Pipeline(memory='tmp',\n",
            "         steps=[('selector', VarianceThreshold(threshold=0.01)),\n",
            "                ('sampler',\n",
            "                 RandomUnderSampler(random_state=None, ratio=None,\n",
            "                                    replacement=False, return_indices=False,\n",
            "                                    sampling_strategy=0.45)),\n",
            "                ('pca',\n",
            "                 PCA(copy=True, iterated_power='auto', n_components=None,\n",
            "                     random_state=None, svd_solver='auto', tol=0.0,\n",
            "                     whiten=False)),\n",
            "                ('mlp',\n",
            "                 MLPClassifier(activation...\n",
            "                               batch_size='auto', beta_1=0.9, beta_2=0.999,\n",
            "                               early_stopping=False, epsilon=1e-08,\n",
            "                               hidden_layer_sizes=(30,),\n",
            "                               learning_rate='adaptive',\n",
            "                               learning_rate_init=0.001, max_iter=200,\n",
            "                               momentum=0.9, n_iter_no_change=10,\n",
            "                               nesterovs_momentum=True, power_t=0.5,\n",
            "                               random_state=None, shuffle=True, solver='adam',\n",
            "                               tol=0.0001, validation_fraction=0.1,\n",
            "                               verbose=False, warm_start=False))],\n",
            "         verbose=False)\n",
            "{'mlp__activation': 'relu', 'mlp__alpha': 0.0001, 'mlp__hidden_layer_sizes': (30,), 'mlp__learning_rate': 'adaptive', 'mlp__max_iter': 200, 'mlp__solver': 'adam', 'sampler__sampling_strategy': 0.45, 'selector__threshold': 0.01}\n",
            "CV score: 0.9623626943005181\n"
          ],
          "name": "stdout"
        }
      ]
    },
    {
      "cell_type": "markdown",
      "metadata": {
        "id": "LOrMVRxVhakS",
        "colab_type": "text"
      },
      "source": [
        "Χρησιμοποιώντας τον παρακάτω εμπειρικό κανόνα για το πλήθος των νευρώνων για ένα hidden layer MLP, όπως το παραπάνω:    \n",
        "\n",
        "$$ \\frac{samples} {a\\cdot(n_{in} + n_{out})}, a =1,2,...$$   \n",
        "\n",
        "Καταλήγουμε σε μικρά υποψήφια hidden_layer_sizes και βρίσκουμε ότι αυτό με τιμή 30 δίνει τον καλύτερο ταξινομητή, ως προς precision και recall από ολους τους υπόλοιπους που δοκιμάσαμε. Καθιστά τον classifier πιο γενικό, πιο ευέλικτο και καλύτερο από τον default MLP, καθώς και τον παραπάνω της προηγούμενης τεχνικής. Αξίζει να σημειωθεί ότι προέκυψε χωρίς μετασχηματισμό PCA(n_components=None) καθώς και με ελάχιστη επίδραση του undersampling (μόλις 0.45 το sampling_strategy). Ωστόσο, η πιο φανερή βελτίωση του από το αρχικό καθίσταται μάλλον πολύ δύσκολη για ένα μόνο hidden layer. "
      ]
    },
    {
      "cell_type": "markdown",
      "metadata": {
        "id": "CEAt4ly2kPmE",
        "colab_type": "text"
      },
      "source": [
        "##### **F1-macro**"
      ]
    },
    {
      "cell_type": "markdown",
      "metadata": {
        "id": "rDKtpXKkkVTV",
        "colab_type": "text"
      },
      "source": [
        "Και πάλι με μικρά sizes στο hidden layer, αλλά επειδή είδαμε πιο πάνω ότι το PCA δεν βοήθησε σημάντικα στην βελτίωση του default MLP, το αφαιρέσαμε και κάναμε oversampling αυτή την φορά με SMOTE τεχνική (που έχει περιγραφεί στο small set), με δύο διαφορετικές sampling_strategies, και εξάγαμε τα ακόλουθα αποτελέσματα.  "
      ]
    },
    {
      "cell_type": "code",
      "metadata": {
        "id": "yLyL3aLMn3Vo",
        "colab_type": "code",
        "colab": {}
      },
      "source": [
        "from imblearn.pipeline import Pipeline\n",
        "from sklearn.feature_selection import VarianceThreshold\n",
        "from imblearn.over_sampling import SMOTE\n",
        "from sklearn.decomposition import PCA\n",
        "from sklearn.neural_network import MLPClassifier\n",
        "\n",
        "# αρχικοποιούμε τους εκτιμητές (μετασχηματιστές και ταξινομητή) χωρείς παραμέτρους\n",
        "selector = VarianceThreshold()\n",
        "ros = SMOTE()\n",
        "pca = PCA()\n",
        "clf = MLPClassifier()\n",
        "pipe = Pipeline(steps=[('selector', selector), ('sampler', rus), ('pca', pca), ('mlp', clf)])"
      ],
      "execution_count": 0,
      "outputs": []
    },
    {
      "cell_type": "code",
      "metadata": {
        "colab_type": "code",
        "id": "RwZBKj48oSBY",
        "colab": {}
      },
      "source": [
        "from sklearn.model_selection import GridSearchCV\n",
        "# smote = 0.65, 0.75\n",
        "vthreshold = [0.01] #προσαρμόζουμε τις τιμές μας στο variance που παρατηρήσαμε\n",
        "# n_components = [85, 110]\n",
        "hidden_layer_sizes = [(50,), (20,), (30,)]\n",
        "activation = ['tanh', 'relu']\n",
        "solver = ['adam']\n",
        "max_iter = [200]\n",
        "alpha = [0.0001]\n",
        "learning_rate = ['adaptive']\n",
        "sampling_strategy = [0.85, 0.95]"
      ],
      "execution_count": 0,
      "outputs": []
    },
    {
      "cell_type": "code",
      "metadata": {
        "colab_type": "code",
        "id": "-lLt7tg7oSBi",
        "colab": {}
      },
      "source": [
        "pipe = Pipeline(steps=[('selector', selector), ('sampler', ros), ('pca', pca), ('mlp', clf)], memory = 'tmp')\n",
        "estimator = GridSearchCV(pipe, dict(selector__threshold=vthreshold,\n",
        "                                    sampler__sampling_strategy=sampling_strategy,\n",
        "                                    # pca__n_components=n_components,\n",
        "                                    mlp__hidden_layer_sizes=hidden_layer_sizes, \n",
        "                                    mlp__activation=activation, \n",
        "                                    mlp__solver=solver, \n",
        "                                    mlp__max_iter=max_iter,\n",
        "                                    mlp__alpha=alpha,\n",
        "                                    mlp__learning_rate=learning_rate), \n",
        "                         cv=5, scoring='f1_macro', n_jobs=-1)\n"
      ],
      "execution_count": 0,
      "outputs": []
    },
    {
      "cell_type": "code",
      "metadata": {
        "colab_type": "code",
        "outputId": "979c73a3-4389-4eb3-9bc5-4ba37136128c",
        "id": "QbJuiRSpoSBm",
        "colab": {
          "base_uri": "https://localhost:8080/",
          "height": 197
        }
      },
      "source": [
        "import time\n",
        "start_time = time.time()\n",
        "estimator.fit(X_train, y_train)\n",
        "y_pred = estimator.predict(X_test)\n",
        "print(\"MLP GridSearch Overall time for fit και predict: %s seconds\" % (time.time() - start_time))\n",
        "print(classification_report(y_test, y_pred))"
      ],
      "execution_count": 0,
      "outputs": [
        {
          "output_type": "stream",
          "text": [
            "MLP GridSearch Overall time for fit και predict: 1108.7009828090668 seconds\n",
            "              precision    recall  f1-score   support\n",
            "\n",
            "          -1       0.92      0.93      0.93      2881\n",
            "           1       0.97      0.97      0.97      7459\n",
            "\n",
            "    accuracy                           0.96     10340\n",
            "   macro avg       0.95      0.95      0.95     10340\n",
            "weighted avg       0.96      0.96      0.96     10340\n",
            "\n"
          ],
          "name": "stdout"
        }
      ]
    },
    {
      "cell_type": "code",
      "metadata": {
        "colab_type": "code",
        "outputId": "cb681ec7-7984-453c-b77b-1fcb0f5a18dd",
        "id": "QwMY6qzCoSBr",
        "colab": {
          "base_uri": "https://localhost:8080/",
          "height": 451
        }
      },
      "source": [
        "print(estimator.best_estimator_)\n",
        "print(estimator.best_params_)\n",
        "print(\"CV score:\", np.max(estimator.cv_results_['mean_test_score']))"
      ],
      "execution_count": 0,
      "outputs": [
        {
          "output_type": "stream",
          "text": [
            "Pipeline(memory='tmp',\n",
            "         steps=[('selector', VarianceThreshold(threshold=0.01)),\n",
            "                ('sampler',\n",
            "                 SMOTE(k_neighbors=5, kind='deprecated',\n",
            "                       m_neighbors='deprecated', n_jobs=1,\n",
            "                       out_step='deprecated', random_state=None, ratio=None,\n",
            "                       sampling_strategy=0.85, svm_estimator='deprecated')),\n",
            "                ('pca',\n",
            "                 PCA(copy=True, iterated_power='auto', n_components=None,\n",
            "                     random_state=None, svd_solve...\n",
            "                               batch_size='auto', beta_1=0.9, beta_2=0.999,\n",
            "                               early_stopping=False, epsilon=1e-08,\n",
            "                               hidden_layer_sizes=(50,),\n",
            "                               learning_rate='adaptive',\n",
            "                               learning_rate_init=0.001, max_iter=200,\n",
            "                               momentum=0.9, n_iter_no_change=10,\n",
            "                               nesterovs_momentum=True, power_t=0.5,\n",
            "                               random_state=None, shuffle=True, solver='adam',\n",
            "                               tol=0.0001, validation_fraction=0.1,\n",
            "                               verbose=False, warm_start=False))],\n",
            "         verbose=False)\n",
            "{'mlp__activation': 'relu', 'mlp__alpha': 0.0001, 'mlp__hidden_layer_sizes': (50,), 'mlp__learning_rate': 'adaptive', 'mlp__max_iter': 200, 'mlp__solver': 'adam', 'sampler__sampling_strategy': 0.85, 'selector__threshold': 0.01}\n",
            "CV score: 0.9524999185312024\n"
          ],
          "name": "stdout"
        }
      ]
    },
    {
      "cell_type": "markdown",
      "metadata": {
        "id": "uMATyLyGlZZF",
        "colab_type": "text"
      },
      "source": [
        "Παρατηρούμε εδώ ότι με βάση το f1-macro δεν βελτιώθηκε ο default MLP. Ωστόσο, επείδη, ο βέλτιστος ταξινομητής με βάση το f1_micro έχει και αυτός σχεδόν ίδια τιμή στο f1_macro με τον παραπάνω, τιμή ίση περίπου με 0.95, τότε μπορούμε να πούμε τελικά ότι με βασή και τα δυο f1_scores μπορούμε να βγάλουμε τον ίδιο ταξινομητή που είναι καλύτερος από τον default.  "
      ]
    },
    {
      "cell_type": "markdown",
      "metadata": {
        "id": "tnPddDbYm4Xg",
        "colab_type": "text"
      },
      "source": [
        "#### **Gaussian Naive Bayes (GNB)**"
      ]
    },
    {
      "cell_type": "markdown",
      "metadata": {
        "id": "_4RhHA02ne9k",
        "colab_type": "text"
      },
      "source": [
        "Όπως αναφέραμε και παραπάνω, στόχος μας είναι να καταστήσουμε τα δείγματα να είναι όλο και πιο κοντά στο i.i.d. Δεδομένου ότι δεν θελουμε να χαλάσουμε και τις a priori του δείγματος, η ιδέα του sampling, ειδικά για μεγάλο sampling_strategy είναι κακή για τον gnb και γενικά δεν βγάζει βέλτιστα αποτελέσματα. Επιπλέον, δεδομένου ότι ο gnb δεν έχει υπερπαραμέτρους δεν χρησιμοποιείται parameters grid για τον ταξινομητή αυτό στο GridSearch, παραμόνο παράμετροι για το Variance Threshold, που θα κόψει τα features με τις πολύ μικρές διακυμάνσεις, και για το PCA, που η δράση του οποίου έχει περιγραφεί παραπάνω. Παίρνουμε τα παρακάτω αποτελέσματα, πρώτα για επιλογή καλύτερου ταξινομητή με βάση το f1_micro και ύστερα με βάση το f1_macro, όπως έγινε και στους παραπάνω ταξινομητές."
      ]
    },
    {
      "cell_type": "markdown",
      "metadata": {
        "id": "CSW_xdR5b2A-",
        "colab_type": "text"
      },
      "source": [
        "##### **F1-micro**"
      ]
    },
    {
      "cell_type": "code",
      "metadata": {
        "id": "LFAXX6wYae8z",
        "colab_type": "code",
        "outputId": "c893b1da-da53-4c5a-e10a-438aa6d911db",
        "colab": {
          "base_uri": "https://localhost:8080/",
          "height": 377
        }
      },
      "source": [
        "from sklearn.model_selection import GridSearchCV\n",
        "from imblearn.pipeline import Pipeline\n",
        "from sklearn.feature_selection import VarianceThreshold\n",
        "from sklearn.decomposition import PCA\n",
        "from sklearn.naive_bayes import GaussianNB\n",
        "\n",
        "# αρχικοποιούμε τους εκτιμητές (μετασχηματιστές και ταξινομητή) χωρείς παραμέτρους\n",
        "selector = VarianceThreshold()\n",
        "pca = PCA()\n",
        "clf = GaussianNB()\n",
        "pipe = Pipeline(steps=[('selector', selector), ('pca', pca), ('gnb', clf)])\n",
        "\n",
        "vthreshold = [0.001, 0.01]\n",
        "n_components = [10, 20, 30, 40, 50, 60, 70, 80, 90, 110]\n",
        "\n",
        "pipe = Pipeline(steps=[('selector', selector), ('pca', pca), ('gnb', clf)], memory = 'tmp')\n",
        "estimator = GridSearchCV(pipe, dict(selector__threshold=vthreshold,\n",
        "                                    pca__n_components=n_components),\n",
        "                         cv=5, scoring='f1_micro', n_jobs=-1)\n",
        "\n",
        "import time\n",
        "start_time = time.time()\n",
        "estimator.fit(X_train, y_train)\n",
        "y_pred = estimator.predict(X_test)\n",
        "print(\"GNB GridSearch Overall time for fit και predict: %s seconds\" % (time.time() - start_time))\n",
        "print(classification_report(y_test, y_pred))\n",
        "\n",
        "print(estimator.best_estimator_)\n",
        "print(estimator.best_params_)\n",
        "print(\"CV score:\", np.max(estimator.cv_results_['mean_test_score']))"
      ],
      "execution_count": 0,
      "outputs": [
        {
          "output_type": "stream",
          "text": [
            "GNB GridSearch Overall time for fit και predict: 28.9754159450531 seconds\n",
            "              precision    recall  f1-score   support\n",
            "\n",
            "          -1       0.80      0.87      0.83      2981\n",
            "           1       0.94      0.91      0.93      7359\n",
            "\n",
            "    accuracy                           0.90     10340\n",
            "   macro avg       0.87      0.89      0.88     10340\n",
            "weighted avg       0.90      0.90      0.90     10340\n",
            "\n",
            "Pipeline(memory='tmp',\n",
            "         steps=[('selector', VarianceThreshold(threshold=0.001)),\n",
            "                ('pca',\n",
            "                 PCA(copy=True, iterated_power='auto', n_components=20,\n",
            "                     random_state=None, svd_solver='auto', tol=0.0,\n",
            "                     whiten=False)),\n",
            "                ('gnb', GaussianNB(priors=None, var_smoothing=1e-09))],\n",
            "         verbose=False)\n",
            "{'pca__n_components': 20, 'selector__threshold': 0.001}\n",
            "CV score: 0.9016373056994819\n"
          ],
          "name": "stdout"
        }
      ]
    },
    {
      "cell_type": "markdown",
      "metadata": {
        "id": "oMvs5zsecD8j",
        "colab_type": "text"
      },
      "source": [
        "#####**F1 macro**"
      ]
    },
    {
      "cell_type": "code",
      "metadata": {
        "id": "mqEDi00QblzE",
        "colab_type": "code",
        "outputId": "c21ce8d4-e963-4e17-9c59-fdf1ea3d0bc8",
        "colab": {
          "base_uri": "https://localhost:8080/",
          "height": 377
        }
      },
      "source": [
        "from sklearn.model_selection import GridSearchCV\n",
        "from imblearn.pipeline import Pipeline\n",
        "from sklearn.feature_selection import VarianceThreshold\n",
        "from sklearn.decomposition import PCA\n",
        "from sklearn.naive_bayes import GaussianNB\n",
        "\n",
        "# αρχικοποιούμε τους εκτιμητές (μετασχηματιστές και ταξινομητή) χωρείς παραμέτρους\n",
        "selector = VarianceThreshold()\n",
        "pca = PCA()\n",
        "clf = GaussianNB()\n",
        "pipe = Pipeline(steps=[('selector', selector), ('pca', pca), ('gnb', clf)])\n",
        "\n",
        "vthreshold = [0.001, 0.01]\n",
        "n_components = [10, 20, 30, 40, 50, 60, 70, 80, 90, 110]\n",
        "\n",
        "pipe = Pipeline(steps=[('selector', selector), ('pca', pca), ('gnb', clf)], memory = 'tmp')\n",
        "estimator = GridSearchCV(pipe, dict(selector__threshold=vthreshold,\n",
        "                                    pca__n_components=n_components),\n",
        "                         cv=5, scoring='f1_macro', n_jobs=-1)\n",
        "\n",
        "import time\n",
        "start_time = time.time()\n",
        "estimator.fit(X_train, y_train)\n",
        "y_pred = estimator.predict(X_test)\n",
        "print(\"GNB GridSearch Overall time for fit και predict: %s seconds\" % (time.time() - start_time))\n",
        "print(classification_report(y_test, y_pred))\n",
        "\n",
        "print(estimator.best_estimator_)\n",
        "print(estimator.best_params_)\n",
        "print(\"CV score:\", np.max(estimator.cv_results_['mean_test_score']))"
      ],
      "execution_count": 0,
      "outputs": [
        {
          "output_type": "stream",
          "text": [
            "GNB GridSearch Overall time for fit και predict: 8.451366662979126 seconds\n",
            "              precision    recall  f1-score   support\n",
            "\n",
            "          -1       0.80      0.87      0.83      2981\n",
            "           1       0.94      0.91      0.93      7359\n",
            "\n",
            "    accuracy                           0.90     10340\n",
            "   macro avg       0.87      0.89      0.88     10340\n",
            "weighted avg       0.90      0.90      0.90     10340\n",
            "\n",
            "Pipeline(memory='tmp',\n",
            "         steps=[('selector', VarianceThreshold(threshold=0.001)),\n",
            "                ('pca',\n",
            "                 PCA(copy=True, iterated_power='auto', n_components=20,\n",
            "                     random_state=None, svd_solver='auto', tol=0.0,\n",
            "                     whiten=False)),\n",
            "                ('gnb', GaussianNB(priors=None, var_smoothing=1e-09))],\n",
            "         verbose=False)\n",
            "{'pca__n_components': 20, 'selector__threshold': 0.001}\n",
            "CV score: 0.8823565746827039\n"
          ],
          "name": "stdout"
        }
      ]
    },
    {
      "cell_type": "markdown",
      "metadata": {
        "id": "Jjc9QndVpbuc",
        "colab_type": "text"
      },
      "source": [
        "Παρατηρούμε ότι και για τις δυο μετρικές επιλέγεται ο ίδιος συνδυασμός υπερπαραμέτρων μετασχηματιστών, variance threshold στο 0.001 και PCA components ίσο με 20. Ο ταξινομητής που επιλέγεται έχει πλέον αρκετά ανεβασμένο το recall των not merged δειγμάτων, κάτι που θέλαμε εξαρχής προκειμένου να αποφασίζει με πολύ καλά αποτελέσματα και για τις δυο κλάσεις, ενώ τα f1_scores έχουν ανέβει και αυτά σημαντικά σε σχέση με τα αρχικά, αγγίζοντας το 90%. Προφανώς, δεν φθάνει πιο υψηλά γιατί δεν καταφέρνουμε τα δείγματα να είναι πληρώς i.i.d.\n"
      ]
    },
    {
      "cell_type": "markdown",
      "metadata": {
        "id": "OIfI15MWuvuc",
        "colab_type": "text"
      },
      "source": [
        "####**Σχολιασμός και Συμπεράσματα**"
      ]
    },
    {
      "cell_type": "markdown",
      "metadata": {
        "colab_type": "text",
        "id": "9IEk7-uNsMPO"
      },
      "source": [
        "Παρακάτω, κάνουμε μια συγκεντρωτική αναπαράσταση των scores των παραπάνω ταξινομητών, πριν και μετά την βελτιστοποίηση τους (πέρα των dummies, που θα είναι οι default τιμές για προφανείς λόγους)."
      ]
    },
    {
      "cell_type": "code",
      "metadata": {
        "colab_type": "code",
        "id": "8xSZoXj4sMPS",
        "colab": {}
      },
      "source": [
        "import matplotlib.pyplot as plt; plt.rcdefaults()\n",
        "import numpy as np\n",
        "import matplotlib.pyplot as plt\n",
        "\n",
        "# Plot bar for f1_micro and f1_macro\n",
        "def plot_bar(classifiers, scores, title):\n",
        "  y_pos = np.arange(len(classifiers))\n",
        "  performance = scores\n",
        "\n",
        "  plt.bar(y_pos, performance, align='center', alpha=0.9)\n",
        "  plt.xticks(y_pos, classifiers)\n",
        "  plt.ylabel('Score')\n",
        "  plt.title(title)\n",
        "\n",
        "  plt.show()"
      ],
      "execution_count": 0,
      "outputs": []
    },
    {
      "cell_type": "code",
      "metadata": {
        "colab_type": "code",
        "outputId": "04eedf0b-b43d-4db8-ebbe-568ffbb8d538",
        "id": "pyMKt7NisMPW",
        "colab": {
          "base_uri": "https://localhost:8080/",
          "height": 953
        }
      },
      "source": [
        "classifiers = ('Dum\\nUnif', 'Dum\\nConst\\n-1', 'Dum\\nConst\\n1', \n",
        "               'Dum\\nMost\\nFrequent', 'Dum\\nStrf', \n",
        "               'knn\\n(5)', 'knn\\n(opt)',\n",
        "               'GNB', 'GNB\\n(opt)',\n",
        "               'MLP\\n(dfl)', 'MLP\\n(opt)')\n",
        "classifiers_f1_micro = [0.51, 0.29, 0.71, 0.71, 0.59, 0.95, 0.95, 0.83, 0.90, 0.96, 0.9615]\n",
        "classifiers_f1_macro = [0.48, 0.22, 0.42, 0.42, 0.50, 0.937, 0.939, 0.77, 0.88, 0.95, 0.95]\n",
        "plot_bar(classifiers, classifiers_f1_micro, \"F1-micro\")\n",
        "plot_bar(classifiers, classifiers_f1_macro, \"F1-macro\")"
      ],
      "execution_count": 30,
      "outputs": [
        {
          "output_type": "display_data",
          "data": {
            "image/png": "[encoded data removed]",
            "text/plain": [
              "<Figure size 640x480 with 1 Axes>"
            ]
          },
          "metadata": {
            "tags": []
          }
        },
        {
          "output_type": "display_data",
          "data": {
            "image/png": "[encoded data removed]",
            "text/plain": [
              "<Figure size 640x480 with 1 Axes>"
            ]
          },
          "metadata": {
            "tags": []
          }
        }
      ]
    },
    {
      "cell_type": "markdown",
      "metadata": {
        "id": "axQe-gn7u7En",
        "colab_type": "text"
      },
      "source": [
        "Συγκεντρωτικά, παρατηρούμε ότι την μεγαλύτερη βελτίωση την έχει ο GNB, της τάξης του 7%, που ήταν και η σημαντική βελτίωση που περιμέναμε από όλους τους ταξινομητές. Για τον knn και τον ΜLP, στα διαγράμματα αυτά δεν φαίνεται βελτίωση, ωστόσο σε διαγράμματα precision και recall θα βλέπαμε κάποια βελτίωση αναλογικά με το υψηλό τους score, της τάξης του 1%.  \n",
        "  "
      ]
    }
  ]
}